{
 "cells": [
  {
   "cell_type": "markdown",
   "metadata": {},
   "source": [
    "# Co-occurrence & Association measures\n",
    "\n",
    "전산언어학에서는 Collocations이라고 표현한다. "
   ]
  },
  {
   "cell_type": "markdown",
   "metadata": {},
   "source": [
    "* Evert, Stefan (2009), Corpora and Collocations, in Lüdelinging and Kytö (eds.), 1212-1248."
   ]
  },
  {
   "cell_type": "markdown",
   "metadata": {},
   "source": [
    "\n",
    "* co-word\n",
    "* measure\n",
    "  - 상호정보( mutual information: MI )\n",
    "  - t-점수 ( t-score ) \n",
    "  - 단순로그공산( simple log-likelihood: simple-ll ) "
   ]
  },
  {
   "cell_type": "markdown",
   "metadata": {},
   "source": [
    "$$\n",
    "MI = \\log_2 { O \\over E }\n",
    "$$\n",
    "\n",
    "$$\n",
    "t-score = { { O - E } \\over { \\sqrt O } }\n",
    "$$\n",
    "\n",
    "$$\n",
    "simple-ll = 2 \\times ( O \\cdot \\log { O \\over E } - ( O - E ) )\n",
    "$$"
   ]
  },
  {
   "cell_type": "markdown",
   "metadata": {},
   "source": [
    "__# t-score__\n",
    "\n",
    "$$\n",
    "t-score = { { \\bar x - \\mu } \\over {\\sqrt { s^2 \\over N } }  }\n",
    "$$\n",
    "\n",
    "원소의 값들이 획률분포를 따르고, O를 관찰값, E를 기대값이라고 하였을 때, 위의 식은 다음과 같이 쓸 수 있다.\n",
    "\n",
    "$$\n",
    "{ { { O \\over N } - { E \\over N } } \\over { {\\sqrt s^2} \\over {\\sqrt N} } } = { { O  - E } \\over { {\\sqrt N} \\cdot {\\sqrt { s^2 }} } }\n",
    "$$\n",
    "\n",
    "확률분포가 이항분포(binary distributuin)일 경우, 분산$s^2$은 $s^2 = p(1-p)$과 같다. 단어가 등장하지 않을 확률에 비해 등장할 확률이 매우 작기 때문에 $ 1 - p \\approx p$와 같으므로 다음이 성립한다. \n",
    "\n",
    "$$s^2 = p(1-p) \\approx p = { O \\over N }$$\n",
    "\n",
    "따라서 최초의 식은 다음과 같이 정리된다,\n",
    "\n",
    "$$\n",
    "t-score \\approx { { O  - E } \\over { {\\sqrt N} \\cdot {\\sqrt { O \\over N}} } } = { { O - E } \\over { \\sqrt O } }\n",
    "$$"
   ]
  },
  {
   "cell_type": "markdown",
   "metadata": {},
   "source": [
    "__# the simple log-likelihood (simple-ll)__\n",
    "\n",
    "$$simplell = -2 \\log \\lambda = -2 \\cdot \\log { Pro_o (X=O) \\over Pr(X=O ) }$$\n",
    "\n",
    "포아송 분포(Poisson distribution)를 가정하였을 때, \n",
    "\n",
    "$$Pr(X=O) = e^{-O}\\cdot{ O^O \\over O! }$$\n",
    "\n",
    "$$Pr_o(X=O) = e^{-E}\\cdot{ E^O \\over O! }$$\n",
    "\n",
    "$$ \\lambda = e^{O-E}\\cdot \\left({ E \\over O }\\right)^O$$\n",
    "\n",
    "$$simplell = -2 \\log \\lambda = -2 \\cdot \\log { Pro_o (X=O) \\over Pr(X=O ) }$$\n"
   ]
  },
  {
   "cell_type": "code",
   "execution_count": 1,
   "metadata": {},
   "outputs": [],
   "source": [
    "import json\n",
    "import numpy as np\n",
    "np.set_printoptions( precision=2, edgeitems=6, linewidth=240 )\n",
    "\n",
    "data_path = \"../data/kntk_formulas.json\"\n",
    "fmls = json.loads( open(data_path, 'r', encoding='utf-8').read() )"
   ]
  },
  {
   "cell_type": "code",
   "execution_count": 16,
   "metadata": {},
   "outputs": [],
   "source": [
    "def cleansing( term ):\n",
    "    a, _ = term.split(\")\")\n",
    "    h, b = a.split(\"(\")\n",
    "    return h + \"|\" + b"
   ]
  },
  {
   "cell_type": "code",
   "execution_count": 17,
   "metadata": {},
   "outputs": [],
   "source": [
    "herb_list = []\n",
    "symp_list = []\n",
    "\n",
    "output_paths = [ \"../data/tntk_formulas_herbs\", \"../data/tntk_formulas_symps\" ]\n",
    "fi_herb = open( output_paths[0], 'w', encoding=\"utf-8\")\n",
    "fi_symp = open( output_paths[1], 'w', encoding=\"utf-8\")\n",
    "\n",
    "for fml in fmls:\n",
    "    herbs_ = [ ig.get('herb') for ig in fml.get( 'ingredients' ) ]\n",
    "    symps_ = [ ig.get('symptom') for ig in fml.get( 'diseases' ) ]\n",
    "    \n",
    "    herbs_ = list(filter(None, herbs_ ))\n",
    "    symps_ = list(filter(None, symps_ ))\n",
    "                           \n",
    "    herbs = list( map( cleansing, herbs_ ) )\n",
    "    symps = list( map( cleansing, symps_ ) )\n",
    "    \n",
    "    if ( len( herbs ) < 1 ) or  ( len( symps ) < 1 ): continue\n",
    "    herb_list.append( herbs )\n",
    "    symp_list.append( symps )\n",
    "    fi_herb.write( \" \".join( herbs ) + \"\\n\" )\n",
    "    fi_symp.write( \" \".join( symps ) + \"\\n\" )\n",
    "\n",
    "fi_herb.close()\n",
    "fi_symp.close()\n"
   ]
  },
  {
   "cell_type": "code",
   "execution_count": 6,
   "metadata": {},
   "outputs": [
    {
     "name": "stdout",
     "output_type": "stream",
     "text": [
      "18137 18137\n"
     ]
    }
   ],
   "source": [
    "\n",
    "\n"
   ]
  },
  {
   "cell_type": "code",
   "execution_count": 2,
   "metadata": {},
   "outputs": [
    {
     "name": "stdout",
     "output_type": "stream",
     "text": [
      "(219, 34)\n",
      "['감초', '갱미', '건강', '계지', '과루근', '귤피', '대조', '대황', '도인', '마황', '망초', '모려', '반하', '복령', '부자', '생강', '석고', '세신', '시호', '아교', '오미자', '용골', '인삼', '작약', '정력', '지실', '치자', '택사', '행인', '향시', '황금', '황기', '황련', '후박']\n"
     ]
    }
   ],
   "source": [
    "from sklearn.feature_extraction.text import CountVectorizer\n",
    "\n",
    "min_df = 5\n",
    "vectorizer = CountVectorizer( min_df=min_df )\n",
    "X = vectorizer.fit_transform( fml_corpus)\n",
    "herb_names =  vectorizer.get_feature_names()\n",
    "\n",
    "print( X.shape )\n",
    "print( herb_names )"
   ]
  },
  {
   "cell_type": "code",
   "execution_count": 3,
   "metadata": {},
   "outputs": [
    {
     "name": "stdout",
     "output_type": "stream",
     "text": [
      "# HERB NETWORK MATRIX according to co-occurrence (34, 34)\n",
      "[[106   6  19  46   3   1 ...  12   1  12   5   6   3]\n",
      " [  6   7   1   1   0   0 ...   0   0   0   0   0   0]\n",
      " [ 19   1  31   5   1   0 ...   2   0   6   0   5   0]\n",
      " [ 46   1   5  61   2   0 ...   6   0   4   5   1   3]\n",
      " [  3   0   1   2   5   0 ...   0   0   2   0   0   0]\n",
      " [  1   0   0   0   0   5 ...   0   0   0   0   0   0]\n",
      " ...\n",
      " [ 12   0   2   6   0   0 ...  16   0   0   0   0   2]\n",
      " [  1   0   0   0   0   0 ...   0   6   0   0   0   0]\n",
      " [ 12   0   6   4   2   0 ...   0   0  20   0   8   0]\n",
      " [  5   0   0   5   0   0 ...   0   0   0   7   0   0]\n",
      " [  6   0   5   1   0   0 ...   0   0   8   0  13   0]\n",
      " [  3   0   0   3   0   0 ...   2   0   0   0   0  10]]\n"
     ]
    }
   ],
   "source": [
    "herb_co = X.T * X\n",
    "print( \"# HERB NETWORK MATRIX according to co-occurrence\", herb_co.shape )\n",
    "print( herb_co.toarray() )"
   ]
  },
  {
   "cell_type": "code",
   "execution_count": null,
   "metadata": {},
   "outputs": [],
   "source": []
  }
 ],
 "metadata": {
  "kernelspec": {
   "display_name": "Python 3",
   "language": "python",
   "name": "python3"
  },
  "language_info": {
   "codemirror_mode": {
    "name": "ipython",
    "version": 3
   },
   "file_extension": ".py",
   "mimetype": "text/x-python",
   "name": "python",
   "nbconvert_exporter": "python",
   "pygments_lexer": "ipython3",
   "version": "3.6.6"
  }
 },
 "nbformat": 4,
 "nbformat_minor": 2
}
