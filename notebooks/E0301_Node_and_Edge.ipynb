{
 "cells": [
  {
   "cell_type": "markdown",
   "metadata": {},
   "source": [
    "# Node and Edge ( Adjacency Matrix / Edge Lists )"
   ]
  },
  {
   "cell_type": "markdown",
   "metadata": {},
   "source": [
    "## Data"
   ]
  },
  {
   "cell_type": "code",
   "execution_count": 1,
   "metadata": {},
   "outputs": [],
   "source": [
    "import json\n",
    "import numpy as np\n",
    "np.set_printoptions( precision=2, edgeitems=6, linewidth=240 )"
   ]
  },
  {
   "cell_type": "markdown",
   "metadata": {},
   "source": [
    "### Raw Data"
   ]
  },
  {
   "cell_type": "code",
   "execution_count": 2,
   "metadata": {},
   "outputs": [],
   "source": [
    "data_paths = [ \"../data/shanghan_formulas.json\",  \"../data/shanghan_herbs.json\" ]\n",
    "s_fmls_, s_herbs_ = [ json.loads( open(data_path, 'r', encoding='utf-8').read() ) for data_path in  data_paths ]\n",
    "s_fmls = s_fmls_.get('formulas').items()\n",
    "fml_list = [ list( fml[1].get('ingOrg').keys() ) for fml in s_fmls ]\n",
    "fml_corpus = [ \" \".join(fml) for fml in fml_list ]"
   ]
  },
  {
   "cell_type": "code",
   "execution_count": 3,
   "metadata": {},
   "outputs": [
    {
     "name": "stdout",
     "output_type": "stream",
     "text": [
      "(219, 34)\n",
      "['감초', '갱미', '건강', '계지', '과루근', '귤피', '대조', '대황', '도인', '마황', '망초', '모려', '반하', '복령', '부자', '생강', '석고', '세신', '시호', '아교', '오미자', '용골', '인삼', '작약', '정력', '지실', '치자', '택사', '행인', '향시', '황금', '황기', '황련', '후박']\n",
      "[106, 7, 31, 61, 5, 5, 59, 29, 7, 23, 8, 7, 36, 33, 27, 61, 12, 9, 7, 6, 6, 6, 31, 41, 5, 16, 10, 8, 16, 6, 20, 7, 13, 10]\n"
     ]
    }
   ],
   "source": [
    "from sklearn.feature_extraction.text import CountVectorizer\n",
    "\n",
    "min_df = 5\n",
    "vectorizer = CountVectorizer( min_df=min_df )\n",
    "X = vectorizer.fit_transform( fml_corpus)\n",
    "herb_names =  vectorizer.get_feature_names()\n",
    "herb_freq = np.sum( X, 0 ).tolist()[0]\n",
    "print( X.shape )\n",
    "print( herb_names )\n",
    "print( herb_freq )"
   ]
  },
  {
   "cell_type": "code",
   "execution_count": 4,
   "metadata": {},
   "outputs": [
    {
     "name": "stdout",
     "output_type": "stream",
     "text": [
      "# HERB NETWORK MATRIX according to co-occurrence (34, 34)\n",
      "[[106   6  19  46   3   1 ...  12   1  12   5   6   3]\n",
      " [  6   7   1   1   0   0 ...   0   0   0   0   0   0]\n",
      " [ 19   1  31   5   1   0 ...   2   0   6   0   5   0]\n",
      " [ 46   1   5  61   2   0 ...   6   0   4   5   1   3]\n",
      " [  3   0   1   2   5   0 ...   0   0   2   0   0   0]\n",
      " [  1   0   0   0   0   5 ...   0   0   0   0   0   0]\n",
      " ...\n",
      " [ 12   0   2   6   0   0 ...  16   0   0   0   0   2]\n",
      " [  1   0   0   0   0   0 ...   0   6   0   0   0   0]\n",
      " [ 12   0   6   4   2   0 ...   0   0  20   0   8   0]\n",
      " [  5   0   0   5   0   0 ...   0   0   0   7   0   0]\n",
      " [  6   0   5   1   0   0 ...   0   0   8   0  13   0]\n",
      " [  3   0   0   3   0   0 ...   2   0   0   0   0  10]]\n"
     ]
    }
   ],
   "source": [
    "herb_co = X.T * X\n",
    "\n",
    "print( \"# HERB NETWORK MATRIX according to co-occurrence\", herb_co.shape )\n",
    "print( herb_co.toarray() )"
   ]
  },
  {
   "cell_type": "code",
   "execution_count": 5,
   "metadata": {},
   "outputs": [],
   "source": [
    "output_file_path = \"../data/shanghan_herb_matrix.tsv\"\n",
    "header = \"\\t\".join( herb_names )\n",
    "np.savetxt( output_file_path, herb_co.toarray(), fmt='%d', delimiter='\\t', newline='\\n', header=header, footer='', comments='# ')"
   ]
  },
  {
   "cell_type": "markdown",
   "metadata": {},
   "source": [
    "### Data Structure : Adjacency Matrix / Edge Lists "
   ]
  },
  {
   "cell_type": "code",
   "execution_count": 6,
   "metadata": {},
   "outputs": [
    {
     "name": "stdout",
     "output_type": "stream",
     "text": [
      "# Adjacency Matrix of Networks\n",
      "[[106   6  19  46   3   1 ...  12   1  12   5   6   3]\n",
      " [  6   7   1   1   0   0 ...   0   0   0   0   0   0]\n",
      " [ 19   1  31   5   1   0 ...   2   0   6   0   5   0]\n",
      " [ 46   1   5  61   2   0 ...   6   0   4   5   1   3]\n",
      " [  3   0   1   2   5   0 ...   0   0   2   0   0   0]\n",
      " [  1   0   0   0   0   5 ...   0   0   0   0   0   0]\n",
      " ...\n",
      " [ 12   0   2   6   0   0 ...  16   0   0   0   0   2]\n",
      " [  1   0   0   0   0   0 ...   0   6   0   0   0   0]\n",
      " [ 12   0   6   4   2   0 ...   0   0  20   0   8   0]\n",
      " [  5   0   0   5   0   0 ...   0   0   0   7   0   0]\n",
      " [  6   0   5   1   0   0 ...   0   0   8   0  13   0]\n",
      " [  3   0   0   3   0   0 ...   2   0   0   0   0  10]]\n"
     ]
    }
   ],
   "source": [
    "labels = herb_names\n",
    "adjacency_matrix = np.loadtxt( output_file_path, dtype=np.int, comments='#', delimiter=\"\\t\")\n",
    "n, _ = adjacency_matrix.shape\n",
    "print( \"# Adjacency Matrix of Networks\")\n",
    "print( adjacency_matrix )"
   ]
  },
  {
   "cell_type": "markdown",
   "metadata": {},
   "source": [
    "### Build Adjacency Matrix from Edge List"
   ]
  },
  {
   "cell_type": "code",
   "execution_count": 7,
   "metadata": {},
   "outputs": [
    {
     "name": "stdout",
     "output_type": "stream",
     "text": [
      "# Edge List of Networks\n",
      "('감초', '감초', 106)\n",
      "('감초', '갱미', 6)\n",
      "('감초', '건강', 19)\n",
      "('감초', '계지', 46)\n",
      "('감초', '과루근', 3)\n",
      "('감초', '귤피', 1)\n",
      "('감초', '대조', 52)\n",
      "('감초', '대황', 6)\n",
      "('감초', '도인', 1)\n",
      "('감초', '마황', 20)\n"
     ]
    }
   ],
   "source": [
    "# Adjacency Matrix to Edge List\n",
    "edge_list = []\n",
    "for i in range(n):\n",
    "    for j in range(n):\n",
    "        elem = ( labels[i], labels[j], adjacency_matrix[i, j] )\n",
    "        edge_list.append( elem )\n",
    "\n",
    "print( \"# Edge List of Networks\")\n",
    "for e in edge_list[:10]: print( e )"
   ]
  },
  {
   "cell_type": "markdown",
   "metadata": {},
   "source": [
    "### Build Adjacency Matrix from Edge List"
   ]
  },
  {
   "cell_type": "code",
   "execution_count": 8,
   "metadata": {},
   "outputs": [
    {
     "name": "stdout",
     "output_type": "stream",
     "text": [
      "# Adjacency Matrix converted from Edge List\n",
      "[[106.   6.  19.  46.   3.   1. ...  12.   1.  12.   5.   6.   3.]\n",
      " [  6.   7.   1.   1.   0.   0. ...   0.   0.   0.   0.   0.   0.]\n",
      " [ 19.   1.  31.   5.   1.   0. ...   2.   0.   6.   0.   5.   0.]\n",
      " [ 46.   1.   5.  61.   2.   0. ...   6.   0.   4.   5.   1.   3.]\n",
      " [  3.   0.   1.   2.   5.   0. ...   0.   0.   2.   0.   0.   0.]\n",
      " [  1.   0.   0.   0.   0.   5. ...   0.   0.   0.   0.   0.   0.]\n",
      " ...\n",
      " [ 12.   0.   2.   6.   0.   0. ...  16.   0.   0.   0.   0.   2.]\n",
      " [  1.   0.   0.   0.   0.   0. ...   0.   6.   0.   0.   0.   0.]\n",
      " [ 12.   0.   6.   4.   2.   0. ...   0.   0.  20.   0.   8.   0.]\n",
      " [  5.   0.   0.   5.   0.   0. ...   0.   0.   0.   7.   0.   0.]\n",
      " [  6.   0.   5.   1.   0.   0. ...   0.   0.   8.   0.  13.   0.]\n",
      " [  3.   0.   0.   3.   0.   0. ...   2.   0.   0.   0.   0.  10.]]\n"
     ]
    }
   ],
   "source": [
    "edge_list_arr = np.array( edge_list )\n",
    "m1 = len( set( list( edge_list_arr[:,0] ) ) )\n",
    "m2 = len( set( list( edge_list_arr[:,1] ) ) )\n",
    "m = max(m1, m2)\n",
    "\n",
    "adjacency_matrix_recover = np.zeros( (m, m) )\n",
    "\n",
    "for e1, e2, w in edge_list_arr:\n",
    "    x = labels.index(e1)\n",
    "    y = labels.index(e2)\n",
    "    adjacency_matrix_recover[x,y] = w\n",
    "\n",
    "print( \"# Adjacency Matrix converted from Edge List\")\n",
    "print( adjacency_matrix_recover )"
   ]
  },
  {
   "cell_type": "code",
   "execution_count": 9,
   "metadata": {},
   "outputs": [
    {
     "name": "stdout",
     "output_type": "stream",
     "text": [
      "# Edge List of Networks\n",
      "(0, 0, 106)\n",
      "(0, 1, 6)\n",
      "(0, 2, 19)\n",
      "(0, 3, 46)\n",
      "(0, 4, 3)\n",
      "(0, 5, 1)\n",
      "(0, 6, 52)\n",
      "(0, 7, 6)\n",
      "(0, 8, 1)\n",
      "(0, 9, 20)\n"
     ]
    }
   ],
   "source": [
    "# Advenced Way\n",
    "## Adjacency Matrix to Edge List\n",
    "\n",
    "edge_list_idx = []\n",
    "for i in range(n):\n",
    "    for j in range(n):\n",
    "        elem = ( i, j, adjacency_matrix[i, j] )\n",
    "        edge_list_idx.append( elem )\n",
    "\n",
    "print( \"# Edge List of Networks\")\n",
    "for e in edge_list_idx[:10]: print( e )"
   ]
  },
  {
   "cell_type": "code",
   "execution_count": 10,
   "metadata": {},
   "outputs": [
    {
     "name": "stdout",
     "output_type": "stream",
     "text": [
      "# Adjacency Matrix converted from Edge List\n",
      "[[106   6  19  46   3   1 ...  12   1  12   5   6   3]\n",
      " [  6   7   1   1   0   0 ...   0   0   0   0   0   0]\n",
      " [ 19   1  31   5   1   0 ...   2   0   6   0   5   0]\n",
      " [ 46   1   5  61   2   0 ...   6   0   4   5   1   3]\n",
      " [  3   0   1   2   5   0 ...   0   0   2   0   0   0]\n",
      " [  1   0   0   0   0   5 ...   0   0   0   0   0   0]\n",
      " ...\n",
      " [ 12   0   2   6   0   0 ...  16   0   0   0   0   2]\n",
      " [  1   0   0   0   0   0 ...   0   6   0   0   0   0]\n",
      " [ 12   0   6   4   2   0 ...   0   0  20   0   8   0]\n",
      " [  5   0   0   5   0   0 ...   0   0   0   7   0   0]\n",
      " [  6   0   5   1   0   0 ...   0   0   8   0  13   0]\n",
      " [  3   0   0   3   0   0 ...   2   0   0   0   0  10]]\n"
     ]
    }
   ],
   "source": [
    "## Edge List to Adjacency Matrix\n",
    "import scipy.sparse as sparse\n",
    "\n",
    "arr_ = np.array( edge_list_idx )\n",
    "shape_ = tuple( arr_.max( axis=0 )[:2]+1 )\n",
    "adjacency_matrix_recover2 = sparse.coo_matrix((arr_[:, 2], (arr_[:, 0], arr_[:, 1])), shape=shape_, dtype=arr_.dtype)\n",
    "\n",
    "print( \"# Adjacency Matrix converted from Edge List\")\n",
    "print( adjacency_matrix_recover2.todense() )"
   ]
  },
  {
   "cell_type": "markdown",
   "metadata": {},
   "source": [
    "## Libs (NetworkX)\n",
    "\n",
    "ref \n",
    "\n",
    "* [NetworkX를 이용한 네트워크 분석](https://www.pycon.kr/2014/program/7)"
   ]
  },
  {
   "cell_type": "code",
   "execution_count": 11,
   "metadata": {},
   "outputs": [],
   "source": [
    "import networkx as nx\n",
    "import matplotlib.pyplot as plt"
   ]
  },
  {
   "cell_type": "markdown",
   "metadata": {},
   "source": [
    "### Basic"
   ]
  },
  {
   "cell_type": "code",
   "execution_count": 12,
   "metadata": {},
   "outputs": [
    {
     "name": "stdout",
     "output_type": "stream",
     "text": [
      "# Node names: \n",
      "['감초', '갱미', '건강', '계지', '과루근', '귤피', '대조', '대황', '도인', '마황', '망초', '모려', '반하', '복령', '부자', '생강', '석고', '세신', '시호', '아교', '오미자', '용골', '인삼', '작약', '정력', '지실', '치자', '택사', '행인', '향시', '황금', '황기', '황련', '후박']\n",
      "# Edge lists: \n",
      "[('감초', '갱미'), ('감초', '건강'), ('감초', '계지')]\n"
     ]
    }
   ],
   "source": [
    "G01 = nx.Graph()\n",
    "\n",
    "# add Nodes\n",
    "G01.add_node( '감초' )\n",
    "G01.add_nodes_from( labels )\n",
    "print( \"# Node names: \" )\n",
    "print( G01.nodes() )\n",
    "\n",
    "# add Edges\n",
    "G01.add_edge( \"감초\", \"갱미\")\n",
    "G01.add_edges_from([ ( \"감초\", \"갱미\" ), ( \"감초\", \"건강\" ), ( \"감초\", \"계지\" ) ])\n",
    "print( \"# Edge lists: \" )\n",
    "print( G01.edges() )"
   ]
  },
  {
   "cell_type": "code",
   "execution_count": 13,
   "metadata": {},
   "outputs": [
    {
     "name": "stdout",
     "output_type": "stream",
     "text": [
      "Degrees [('a', 1), ('b', 1)]\n"
     ]
    }
   ],
   "source": [
    "G02 = nx.Graph()\n",
    "G02.add_edges_from( [('a', 'b'),('a', 'b'),('a', 'b'),('b', 'a'), ('b', 'a')] )\n",
    "print( \"Degrees\", G02.degree() )"
   ]
  },
  {
   "cell_type": "code",
   "execution_count": 14,
   "metadata": {},
   "outputs": [
    {
     "name": "stdout",
     "output_type": "stream",
     "text": [
      "Edges [('a', 'b', {'weight': 0.3})]\n",
      "Degrees [('a', 1), ('b', 1)]\n"
     ]
    }
   ],
   "source": [
    "G03 = nx.Graph()\n",
    "G03.add_edges_from( [('a', 'b', {'weight': 0.5}), ('a', 'b', {'weight': 0.7}), ('b', 'a', {'weight': 0.3 }), ('b', 'a') ] )\n",
    "print( \"Edges\", G03.edges(data=True) )  # 마지막 데이터로 덮여 씌워짐\n",
    "print( \"Degrees\", G03.degree() )"
   ]
  },
  {
   "cell_type": "markdown",
   "metadata": {},
   "source": [
    "### with Weight"
   ]
  },
  {
   "cell_type": "code",
   "execution_count": 15,
   "metadata": {},
   "outputs": [
    {
     "name": "stdout",
     "output_type": "stream",
     "text": [
      "# Nodes ['감초', '갱미', '건강', '계지', '과루근', '귤피', '대조', '대황', '도인', '마황', '망초', '모려', '반하', '복령', '부자', '생강', '석고', '세신', '시호', '아교', '오미자', '용골', '인삼', '작약', '정력', '지실', '치자', '택사', '행인', '향시', '황금', '황기', '황련', '후박']\n",
      "# Graph converted from Adjacency Matrix\n",
      "('감초', '감초', {'weight': 106})\n",
      "('감초', '갱미', {'weight': 6})\n",
      "('감초', '건강', {'weight': 19})\n",
      "('감초', '계지', {'weight': 46})\n",
      "('감초', '과루근', {'weight': 3})\n",
      "('감초', '귤피', {'weight': 1})\n",
      "('감초', '대조', {'weight': 52})\n",
      "('감초', '대황', {'weight': 6})\n",
      "('감초', '도인', {'weight': 1})\n",
      "('감초', '마황', {'weight': 20})\n"
     ]
    }
   ],
   "source": [
    "Gw = nx.Graph()\n",
    "# G1.add_nodes_from( labels )\n",
    "edge_list_reform = [ (src, tgt, {\"weight\": wt}) for src, tgt, wt in edge_list ]\n",
    "Gw.add_edges_from( edge_list_reform )\n",
    "\n",
    "print( \"# Nodes\", Gw.nodes() )\n",
    "\n",
    "edges_from_graph = Gw.edges( data=True )\n",
    "print( \"# Graph converted from Adjacency Matrix\")\n",
    "for eg in list( edges_from_graph )[:10] :\n",
    "    print( eg )"
   ]
  },
  {
   "cell_type": "markdown",
   "metadata": {},
   "source": [
    "### with Adjacency Matrix / Edge List"
   ]
  },
  {
   "cell_type": "code",
   "execution_count": 16,
   "metadata": {},
   "outputs": [
    {
     "name": "stdout",
     "output_type": "stream",
     "text": [
      "# Adjacency Matrix converted from Graph\n",
      "[[106.   6.  19.  46.   3.   1. ...  12.   1.  12.   5.   6.   3.]\n",
      " [  6.   7.   1.   1.   0.   0. ...   0.   0.   0.   0.   0.   0.]\n",
      " [ 19.   1.  31.   5.   1.   0. ...   2.   0.   6.   0.   5.   0.]\n",
      " [ 46.   1.   5.  61.   2.   0. ...   6.   0.   4.   5.   1.   3.]\n",
      " [  3.   0.   1.   2.   5.   0. ...   0.   0.   2.   0.   0.   0.]\n",
      " [  1.   0.   0.   0.   0.   5. ...   0.   0.   0.   0.   0.   0.]\n",
      " ...\n",
      " [ 12.   0.   2.   6.   0.   0. ...  16.   0.   0.   0.   0.   2.]\n",
      " [  1.   0.   0.   0.   0.   0. ...   0.   6.   0.   0.   0.   0.]\n",
      " [ 12.   0.   6.   4.   2.   0. ...   0.   0.  20.   0.   8.   0.]\n",
      " [  5.   0.   0.   5.   0.   0. ...   0.   0.   0.   7.   0.   0.]\n",
      " [  6.   0.   5.   1.   0.   0. ...   0.   0.   8.   0.  13.   0.]\n",
      " [  3.   0.   0.   3.   0.   0. ...   2.   0.   0.   0.   0.  10.]]\n"
     ]
    }
   ],
   "source": [
    "print( \"# Adjacency Matrix converted from Graph\")\n",
    "print( nx.to_numpy_matrix( Gw, weight='weight' ) )"
   ]
  },
  {
   "cell_type": "code",
   "execution_count": 20,
   "metadata": {},
   "outputs": [
    {
     "name": "stdout",
     "output_type": "stream",
     "text": [
      "# Graph converted from Adjacency Matrix:  306\n",
      "(0, 0, {'weight': 106})\n",
      "(0, 1, {'weight': 6})\n",
      "(0, 2, {'weight': 19})\n",
      "(0, 3, {'weight': 46})\n",
      "(0, 4, {'weight': 3})\n",
      "(0, 5, {'weight': 1})\n",
      "(0, 6, {'weight': 52})\n",
      "(0, 7, {'weight': 6})\n",
      "(0, 8, {'weight': 1})\n",
      "(0, 9, {'weight': 20})\n"
     ]
    }
   ],
   "source": [
    "Gw2 = nx.from_numpy_matrix( adjacency_matrix )\n",
    "edges_from_graph = Gw2.edges( data=True )\n",
    "print( \"# Graph converted from Adjacency Matrix: \", len(edges_from_graph) )  # weight == 0 인 egde는 저장되지 않음\n",
    "for eg in list( edges_from_graph )[:10] :\n",
    "    print( eg )\n"
   ]
  },
  {
   "cell_type": "code",
   "execution_count": 21,
   "metadata": {},
   "outputs": [
    {
     "name": "stdout",
     "output_type": "stream",
     "text": [
      "(0, 1, {'weight': 6})\n",
      "(0, 2, {'weight': 19})\n",
      "(0, 3, {'weight': 46})\n",
      "(0, 4, {'weight': 3})\n",
      "(0, 5, {'weight': 1})\n",
      "(0, 6, {'weight': 52})\n",
      "(0, 7, {'weight': 6})\n",
      "(0, 8, {'weight': 1})\n",
      "(0, 9, {'weight': 20})\n",
      "(0, 10, {'weight': 3})\n"
     ]
    }
   ],
   "source": [
    "# 자기 자신과 연결된 edge 제거\n",
    "for i in range( len(Gw2.nodes) ):\n",
    "    Gw2.remove_edge( i, i )\n",
    "\n",
    "edges_from_graph = Gw2.edges( data=True )\n",
    "for eg in list( edges_from_graph )[:10] :\n",
    "    print( eg )"
   ]
  },
  {
   "cell_type": "markdown",
   "metadata": {},
   "source": [
    "### Centrality\n",
    "\n",
    "* [Networkx/centrality](https://networkx.github.io/documentation/stable/reference/algorithms/centrality.html)"
   ]
  },
  {
   "cell_type": "code",
   "execution_count": 22,
   "metadata": {},
   "outputs": [
    {
     "data": {
      "text/html": [
       "<div>\n",
       "<style scoped>\n",
       "    .dataframe tbody tr th:only-of-type {\n",
       "        vertical-align: middle;\n",
       "    }\n",
       "\n",
       "    .dataframe tbody tr th {\n",
       "        vertical-align: top;\n",
       "    }\n",
       "\n",
       "    .dataframe thead th {\n",
       "        text-align: right;\n",
       "    }\n",
       "</style>\n",
       "<table border=\"1\" class=\"dataframe\">\n",
       "  <thead>\n",
       "    <tr style=\"text-align: right;\">\n",
       "      <th></th>\n",
       "      <th>Node</th>\n",
       "      <th>Degree</th>\n",
       "      <th>Degree_Centrality</th>\n",
       "      <th>Betweenness_Centrality</th>\n",
       "      <th>Closeness_Centrality</th>\n",
       "      <th>Eigenvector_Centrality</th>\n",
       "    </tr>\n",
       "  </thead>\n",
       "  <tbody>\n",
       "    <tr>\n",
       "      <th>0</th>\n",
       "      <td>0</td>\n",
       "      <td>32</td>\n",
       "      <td>0.969697</td>\n",
       "      <td>0.098024</td>\n",
       "      <td>0.970588</td>\n",
       "      <td>0.969697</td>\n",
       "    </tr>\n",
       "    <tr>\n",
       "      <th>1</th>\n",
       "      <td>1</td>\n",
       "      <td>8</td>\n",
       "      <td>0.242424</td>\n",
       "      <td>0.000400</td>\n",
       "      <td>0.568966</td>\n",
       "      <td>0.242424</td>\n",
       "    </tr>\n",
       "    <tr>\n",
       "      <th>2</th>\n",
       "      <td>2</td>\n",
       "      <td>21</td>\n",
       "      <td>0.636364</td>\n",
       "      <td>0.019203</td>\n",
       "      <td>0.733333</td>\n",
       "      <td>0.636364</td>\n",
       "    </tr>\n",
       "    <tr>\n",
       "      <th>3</th>\n",
       "      <td>3</td>\n",
       "      <td>28</td>\n",
       "      <td>0.848485</td>\n",
       "      <td>0.046847</td>\n",
       "      <td>0.868421</td>\n",
       "      <td>0.848485</td>\n",
       "    </tr>\n",
       "    <tr>\n",
       "      <th>4</th>\n",
       "      <td>4</td>\n",
       "      <td>14</td>\n",
       "      <td>0.424242</td>\n",
       "      <td>0.004845</td>\n",
       "      <td>0.634615</td>\n",
       "      <td>0.424242</td>\n",
       "    </tr>\n",
       "    <tr>\n",
       "      <th>5</th>\n",
       "      <td>5</td>\n",
       "      <td>7</td>\n",
       "      <td>0.212121</td>\n",
       "      <td>0.000000</td>\n",
       "      <td>0.559322</td>\n",
       "      <td>0.212121</td>\n",
       "    </tr>\n",
       "    <tr>\n",
       "      <th>6</th>\n",
       "      <td>6</td>\n",
       "      <td>27</td>\n",
       "      <td>0.818182</td>\n",
       "      <td>0.046693</td>\n",
       "      <td>0.846154</td>\n",
       "      <td>0.818182</td>\n",
       "    </tr>\n",
       "    <tr>\n",
       "      <th>7</th>\n",
       "      <td>7</td>\n",
       "      <td>27</td>\n",
       "      <td>0.818182</td>\n",
       "      <td>0.063986</td>\n",
       "      <td>0.846154</td>\n",
       "      <td>0.818182</td>\n",
       "    </tr>\n",
       "    <tr>\n",
       "      <th>8</th>\n",
       "      <td>8</td>\n",
       "      <td>6</td>\n",
       "      <td>0.181818</td>\n",
       "      <td>0.000135</td>\n",
       "      <td>0.550000</td>\n",
       "      <td>0.181818</td>\n",
       "    </tr>\n",
       "    <tr>\n",
       "      <th>9</th>\n",
       "      <td>9</td>\n",
       "      <td>14</td>\n",
       "      <td>0.424242</td>\n",
       "      <td>0.005002</td>\n",
       "      <td>0.634615</td>\n",
       "      <td>0.424242</td>\n",
       "    </tr>\n",
       "    <tr>\n",
       "      <th>10</th>\n",
       "      <td>10</td>\n",
       "      <td>15</td>\n",
       "      <td>0.454545</td>\n",
       "      <td>0.008167</td>\n",
       "      <td>0.647059</td>\n",
       "      <td>0.454545</td>\n",
       "    </tr>\n",
       "    <tr>\n",
       "      <th>11</th>\n",
       "      <td>11</td>\n",
       "      <td>17</td>\n",
       "      <td>0.515152</td>\n",
       "      <td>0.008930</td>\n",
       "      <td>0.673469</td>\n",
       "      <td>0.515152</td>\n",
       "    </tr>\n",
       "    <tr>\n",
       "      <th>12</th>\n",
       "      <td>12</td>\n",
       "      <td>24</td>\n",
       "      <td>0.727273</td>\n",
       "      <td>0.021966</td>\n",
       "      <td>0.785714</td>\n",
       "      <td>0.727273</td>\n",
       "    </tr>\n",
       "    <tr>\n",
       "      <th>13</th>\n",
       "      <td>13</td>\n",
       "      <td>26</td>\n",
       "      <td>0.787879</td>\n",
       "      <td>0.040889</td>\n",
       "      <td>0.825000</td>\n",
       "      <td>0.787879</td>\n",
       "    </tr>\n",
       "    <tr>\n",
       "      <th>14</th>\n",
       "      <td>14</td>\n",
       "      <td>18</td>\n",
       "      <td>0.545455</td>\n",
       "      <td>0.011914</td>\n",
       "      <td>0.687500</td>\n",
       "      <td>0.545455</td>\n",
       "    </tr>\n",
       "    <tr>\n",
       "      <th>15</th>\n",
       "      <td>15</td>\n",
       "      <td>28</td>\n",
       "      <td>0.848485</td>\n",
       "      <td>0.057520</td>\n",
       "      <td>0.868421</td>\n",
       "      <td>0.848485</td>\n",
       "    </tr>\n",
       "    <tr>\n",
       "      <th>16</th>\n",
       "      <td>16</td>\n",
       "      <td>10</td>\n",
       "      <td>0.303030</td>\n",
       "      <td>0.001395</td>\n",
       "      <td>0.589286</td>\n",
       "      <td>0.303030</td>\n",
       "    </tr>\n",
       "    <tr>\n",
       "      <th>17</th>\n",
       "      <td>17</td>\n",
       "      <td>13</td>\n",
       "      <td>0.393939</td>\n",
       "      <td>0.001065</td>\n",
       "      <td>0.622642</td>\n",
       "      <td>0.393939</td>\n",
       "    </tr>\n",
       "    <tr>\n",
       "      <th>18</th>\n",
       "      <td>18</td>\n",
       "      <td>16</td>\n",
       "      <td>0.484848</td>\n",
       "      <td>0.002231</td>\n",
       "      <td>0.660000</td>\n",
       "      <td>0.484848</td>\n",
       "    </tr>\n",
       "    <tr>\n",
       "      <th>19</th>\n",
       "      <td>19</td>\n",
       "      <td>8</td>\n",
       "      <td>0.242424</td>\n",
       "      <td>0.000894</td>\n",
       "      <td>0.568966</td>\n",
       "      <td>0.242424</td>\n",
       "    </tr>\n",
       "    <tr>\n",
       "      <th>20</th>\n",
       "      <td>20</td>\n",
       "      <td>10</td>\n",
       "      <td>0.303030</td>\n",
       "      <td>0.000304</td>\n",
       "      <td>0.589286</td>\n",
       "      <td>0.303030</td>\n",
       "    </tr>\n",
       "    <tr>\n",
       "      <th>21</th>\n",
       "      <td>21</td>\n",
       "      <td>12</td>\n",
       "      <td>0.363636</td>\n",
       "      <td>0.000000</td>\n",
       "      <td>0.611111</td>\n",
       "      <td>0.363636</td>\n",
       "    </tr>\n",
       "    <tr>\n",
       "      <th>22</th>\n",
       "      <td>22</td>\n",
       "      <td>22</td>\n",
       "      <td>0.666667</td>\n",
       "      <td>0.018462</td>\n",
       "      <td>0.750000</td>\n",
       "      <td>0.666667</td>\n",
       "    </tr>\n",
       "    <tr>\n",
       "      <th>23</th>\n",
       "      <td>23</td>\n",
       "      <td>27</td>\n",
       "      <td>0.818182</td>\n",
       "      <td>0.043828</td>\n",
       "      <td>0.846154</td>\n",
       "      <td>0.818182</td>\n",
       "    </tr>\n",
       "    <tr>\n",
       "      <th>24</th>\n",
       "      <td>24</td>\n",
       "      <td>7</td>\n",
       "      <td>0.212121</td>\n",
       "      <td>0.002053</td>\n",
       "      <td>0.559322</td>\n",
       "      <td>0.212121</td>\n",
       "    </tr>\n",
       "    <tr>\n",
       "      <th>25</th>\n",
       "      <td>25</td>\n",
       "      <td>17</td>\n",
       "      <td>0.515152</td>\n",
       "      <td>0.012586</td>\n",
       "      <td>0.673469</td>\n",
       "      <td>0.515152</td>\n",
       "    </tr>\n",
       "    <tr>\n",
       "      <th>26</th>\n",
       "      <td>26</td>\n",
       "      <td>7</td>\n",
       "      <td>0.212121</td>\n",
       "      <td>0.001170</td>\n",
       "      <td>0.559322</td>\n",
       "      <td>0.212121</td>\n",
       "    </tr>\n",
       "    <tr>\n",
       "      <th>27</th>\n",
       "      <td>27</td>\n",
       "      <td>10</td>\n",
       "      <td>0.303030</td>\n",
       "      <td>0.004058</td>\n",
       "      <td>0.589286</td>\n",
       "      <td>0.303030</td>\n",
       "    </tr>\n",
       "    <tr>\n",
       "      <th>28</th>\n",
       "      <td>28</td>\n",
       "      <td>17</td>\n",
       "      <td>0.515152</td>\n",
       "      <td>0.011897</td>\n",
       "      <td>0.673469</td>\n",
       "      <td>0.515152</td>\n",
       "    </tr>\n",
       "    <tr>\n",
       "      <th>29</th>\n",
       "      <td>29</td>\n",
       "      <td>5</td>\n",
       "      <td>0.151515</td>\n",
       "      <td>0.000000</td>\n",
       "      <td>0.540984</td>\n",
       "      <td>0.151515</td>\n",
       "    </tr>\n",
       "    <tr>\n",
       "      <th>30</th>\n",
       "      <td>30</td>\n",
       "      <td>19</td>\n",
       "      <td>0.575758</td>\n",
       "      <td>0.008315</td>\n",
       "      <td>0.702128</td>\n",
       "      <td>0.575758</td>\n",
       "    </tr>\n",
       "    <tr>\n",
       "      <th>31</th>\n",
       "      <td>31</td>\n",
       "      <td>7</td>\n",
       "      <td>0.212121</td>\n",
       "      <td>0.000146</td>\n",
       "      <td>0.559322</td>\n",
       "      <td>0.212121</td>\n",
       "    </tr>\n",
       "    <tr>\n",
       "      <th>32</th>\n",
       "      <td>32</td>\n",
       "      <td>12</td>\n",
       "      <td>0.363636</td>\n",
       "      <td>0.001556</td>\n",
       "      <td>0.611111</td>\n",
       "      <td>0.363636</td>\n",
       "    </tr>\n",
       "    <tr>\n",
       "      <th>33</th>\n",
       "      <td>33</td>\n",
       "      <td>13</td>\n",
       "      <td>0.393939</td>\n",
       "      <td>0.002869</td>\n",
       "      <td>0.622642</td>\n",
       "      <td>0.393939</td>\n",
       "    </tr>\n",
       "  </tbody>\n",
       "</table>\n",
       "</div>"
      ],
      "text/plain": [
       "    Node  Degree  Degree_Centrality  Betweenness_Centrality  \\\n",
       "0      0      32           0.969697                0.098024   \n",
       "1      1       8           0.242424                0.000400   \n",
       "2      2      21           0.636364                0.019203   \n",
       "3      3      28           0.848485                0.046847   \n",
       "4      4      14           0.424242                0.004845   \n",
       "5      5       7           0.212121                0.000000   \n",
       "6      6      27           0.818182                0.046693   \n",
       "7      7      27           0.818182                0.063986   \n",
       "8      8       6           0.181818                0.000135   \n",
       "9      9      14           0.424242                0.005002   \n",
       "10    10      15           0.454545                0.008167   \n",
       "11    11      17           0.515152                0.008930   \n",
       "12    12      24           0.727273                0.021966   \n",
       "13    13      26           0.787879                0.040889   \n",
       "14    14      18           0.545455                0.011914   \n",
       "15    15      28           0.848485                0.057520   \n",
       "16    16      10           0.303030                0.001395   \n",
       "17    17      13           0.393939                0.001065   \n",
       "18    18      16           0.484848                0.002231   \n",
       "19    19       8           0.242424                0.000894   \n",
       "20    20      10           0.303030                0.000304   \n",
       "21    21      12           0.363636                0.000000   \n",
       "22    22      22           0.666667                0.018462   \n",
       "23    23      27           0.818182                0.043828   \n",
       "24    24       7           0.212121                0.002053   \n",
       "25    25      17           0.515152                0.012586   \n",
       "26    26       7           0.212121                0.001170   \n",
       "27    27      10           0.303030                0.004058   \n",
       "28    28      17           0.515152                0.011897   \n",
       "29    29       5           0.151515                0.000000   \n",
       "30    30      19           0.575758                0.008315   \n",
       "31    31       7           0.212121                0.000146   \n",
       "32    32      12           0.363636                0.001556   \n",
       "33    33      13           0.393939                0.002869   \n",
       "\n",
       "    Closeness_Centrality  Eigenvector_Centrality  \n",
       "0               0.970588                0.969697  \n",
       "1               0.568966                0.242424  \n",
       "2               0.733333                0.636364  \n",
       "3               0.868421                0.848485  \n",
       "4               0.634615                0.424242  \n",
       "5               0.559322                0.212121  \n",
       "6               0.846154                0.818182  \n",
       "7               0.846154                0.818182  \n",
       "8               0.550000                0.181818  \n",
       "9               0.634615                0.424242  \n",
       "10              0.647059                0.454545  \n",
       "11              0.673469                0.515152  \n",
       "12              0.785714                0.727273  \n",
       "13              0.825000                0.787879  \n",
       "14              0.687500                0.545455  \n",
       "15              0.868421                0.848485  \n",
       "16              0.589286                0.303030  \n",
       "17              0.622642                0.393939  \n",
       "18              0.660000                0.484848  \n",
       "19              0.568966                0.242424  \n",
       "20              0.589286                0.303030  \n",
       "21              0.611111                0.363636  \n",
       "22              0.750000                0.666667  \n",
       "23              0.846154                0.818182  \n",
       "24              0.559322                0.212121  \n",
       "25              0.673469                0.515152  \n",
       "26              0.559322                0.212121  \n",
       "27              0.589286                0.303030  \n",
       "28              0.673469                0.515152  \n",
       "29              0.540984                0.151515  \n",
       "30              0.702128                0.575758  \n",
       "31              0.559322                0.212121  \n",
       "32              0.611111                0.363636  \n",
       "33              0.622642                0.393939  "
      ]
     },
     "execution_count": 22,
     "metadata": {},
     "output_type": "execute_result"
    }
   ],
   "source": [
    "import pandas as pd\n",
    "\n",
    "table_ = pd.DataFrame()\n",
    "table_[\"Node\"] = Gw2.nodes()\n",
    "table_[\"Degree\"] = list( zip( *Gw2.degree() ) )[1]\n",
    "table_[\"Degree_Centrality\"] = list( zip( *list( nx.degree_centrality( Gw2 ).items() )  ) )[1]\n",
    "table_[\"Betweenness_Centrality\"] = list( zip( *list( nx.betweenness_centrality( Gw2 ).items() )  ) )[1]\n",
    "table_[\"Closeness_Centrality\"] = list( zip( *list( nx.closeness_centrality( Gw2 ).items() )  ) )[1]\n",
    "table_[\"Eigenvector_Centrality\"] = list( zip( *list( nx.degree_centrality( Gw2 ).items() )  ) )[1]\n",
    "table_"
   ]
  },
  {
   "cell_type": "code",
   "execution_count": 23,
   "metadata": {},
   "outputs": [
    {
     "name": "stderr",
     "output_type": "stream",
     "text": [
      "C:\\Users\\Junho\\Anaconda3\\lib\\site-packages\\networkx\\drawing\\nx_pylab.py:611: MatplotlibDeprecationWarning: isinstance(..., numbers.Number)\n",
      "  if cb.is_numlike(alpha):\n"
     ]
    },
    {
     "data": {
      "image/png": "[encoded data removed]",
      "text/plain": [
       "<Figure size 432x288 with 1 Axes>"
      ]
     },
     "metadata": {},
     "output_type": "display_data"
    },
    {
     "name": "stdout",
     "output_type": "stream",
     "text": [
      "# Coordinate of Nodes: {0: array([0.03, 0.05]), 1: array([0.05, 0.08]), 2: array([0.03, 0.05]), 3: array([0.03, 0.04]), 4: array([ 0.07, -0.01]), 5: array([0.02, 0.11]), 6: array([0.03, 0.04]), 7: array([-0.,  0.]), 8: array([0.05, 0.06]), 9: array([0.03, 0.05]), 10: array([ 0.04, -0.01]), 11: array([0.05, 0.01]), 12: array([0.03, 0.05]), 13: array([0.04, 0.05]), 14: array([0.04, 0.05]), 15: array([0.02, 0.04]), 16: array([0.04, 0.06]), 17: array([0.04, 0.06]), 18: array([0.03, 0.05]), 19: array([0.07, 0.1 ]), 20: array([0.04, 0.06]), 21: array([0.05, 0.06]), 22: array([0.03, 0.05]), 23: array([0.03, 0.05]), 24: array([ 0.33, -1.  ]), 25: array([-0.07,  0.02]), 26: array([-0.5 , -0.12]), 27: array([ 0.09, -0.03]), 28: array([0.04, 0.03]), 29: array([-0.87, -0.25]), 30: array([0.03, 0.05]), 31: array([0.04, 0.07]), 32: array([0.04, 0.06]), 33: array([-0.01,  0.03])}\n"
     ]
    }
   ],
   "source": [
    "nx.draw(Gw2)\n",
    "plt.show()\n",
    "\n",
    "pos = nx.spectral_layout(Gw2)\n",
    "print( \"# Coordinate of Nodes:\", pos )"
   ]
  },
  {
   "cell_type": "code",
   "execution_count": 24,
   "metadata": {},
   "outputs": [
    {
     "data": {
      "image/png": "[encoded data removed]",
      "text/plain": [
       "<Figure size 432x288 with 1 Axes>"
      ]
     },
     "metadata": {},
     "output_type": "display_data"
    }
   ],
   "source": [
    "nx.draw_spectral(Gw2)\n",
    "plt.show()"
   ]
  },
  {
   "cell_type": "code",
   "execution_count": null,
   "metadata": {},
   "outputs": [],
   "source": []
  }
 ],
 "metadata": {
  "kernelspec": {
   "display_name": "Python 3",
   "language": "python",
   "name": "python3"
  },
  "language_info": {
   "codemirror_mode": {
    "name": "ipython",
    "version": 3
   },
   "file_extension": ".py",
   "mimetype": "text/x-python",
   "name": "python",
   "nbconvert_exporter": "python",
   "pygments_lexer": "ipython3",
   "version": "3.6.6"
  }
 },
 "nbformat": 4,
 "nbformat_minor": 2
}
