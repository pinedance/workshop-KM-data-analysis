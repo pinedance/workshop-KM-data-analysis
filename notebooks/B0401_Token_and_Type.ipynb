{
 "cells": [
  {
   "cell_type": "markdown",
   "metadata": {
    "collapsed": true
   },
   "source": [
    "# Token and Type"
   ]
  },
  {
   "cell_type": "markdown",
   "metadata": {},
   "source": [
    "Text로 이루어진 Data를 분석하기 위해서는, 분석의 최소 단위가 무엇인지 결정해야 한다. 이 최소 단위를 type이라고 하고, 주어진 텍스트를 이 type으로 나눈 것을 token이라고 한다. \n",
    "\n"
   ]
  },
  {
   "cell_type": "code",
   "execution_count": 49,
   "metadata": {},
   "outputs": [],
   "source": [
    "corpus_path = \"../data/DYBG_tn.txt\"\n",
    "corpus = open( corpus_path, 'r', encoding=\"utf-8\").read().split()"
   ]
  },
  {
   "cell_type": "code",
   "execution_count": 52,
   "metadata": {},
   "outputs": [
    {
     "data": {
      "application/vnd.jupyter.widget-view+json": {
       "model_id": "861a41aa67cf4530a7acecb6d7eb6a78",
       "version_major": 2,
       "version_minor": 0
      },
      "text/plain": [
       "HBox(children=(IntProgress(value=0, max=34070), HTML(value='')))"
      ]
     },
     "metadata": {},
     "output_type": "display_data"
    },
    {
     "data": {
      "application/vnd.jupyter.widget-view+json": {
       "model_id": "b7693a2e56be4038b5c8a869528cbe3f",
       "version_major": 2,
       "version_minor": 0
      },
      "text/plain": [
       "HBox(children=(IntProgress(value=0, max=1), HTML(value='')))"
      ]
     },
     "metadata": {},
     "output_type": "display_data"
    }
   ],
   "source": [
    "# 雜病篇卷之四 > 內傷 > 勞倦傷治法 > 補中益氣湯 1.17.1\n",
    "# https://mediclassics.kr/books/8/volume/12#content_267\n",
    "data1 = \"治勞役太甚或飮食失節身熱而煩自汗倦怠黃芪 一錢半人參白朮甘草各一錢當歸身陳皮各五分升麻柴胡各三分右剉作一貼水煎服\"\n",
    "\n",
    "ct = CohesionTokenizer()\n",
    "ct.fit( corpus )\n",
    "seg = ct.transform( [data1] )\n"
   ]
  },
  {
   "cell_type": "code",
   "execution_count": 53,
   "metadata": {},
   "outputs": [
    {
     "data": {
      "text/plain": [
       "[' 治勞  役太甚或飮食失節  身熱  而煩  自汗  倦怠  黃芪   一錢 半 人參  白朮  甘草  各一錢  當歸 身 陳皮  各五分  升麻  柴胡  各三  分右  剉作一貼 水 煎服 ']"
      ]
     },
     "execution_count": 53,
     "metadata": {},
     "output_type": "execute_result"
    }
   ],
   "source": [
    "seg"
   ]
  },
  {
   "cell_type": "markdown",
   "metadata": {},
   "source": [
    "## Data"
   ]
  },
  {
   "cell_type": "markdown",
   "metadata": {},
   "source": [
    "자료는 한국전통지식포털에 실려 있는 전통의학처방 19171 건을 사용하였다. "
   ]
  },
  {
   "cell_type": "code",
   "execution_count": 1,
   "metadata": {},
   "outputs": [],
   "source": [
    "from collections import Counter\n",
    "import numpy as np\n",
    "import pandas as pd"
   ]
  },
  {
   "cell_type": "code",
   "execution_count": 2,
   "metadata": {},
   "outputs": [
    {
     "name": "stdout",
     "output_type": "stream",
     "text": [
      "# Corpus Description\n",
      "- 출처 : 한국전통지식포탈(www.koreantk.com) > 전통의료 > 처방\n",
      "- 특징 : 본초 구성만 추출한 데이터\n",
      "- 데이터 생성일 : 2016.01.16\n",
      "\n",
      "# Corpus Size:  19162\n"
     ]
    }
   ],
   "source": [
    "corpus_path = \"../data/formulas.txt\"\n",
    "corpus_ = open( corpus_path, 'r', encoding='utf-8' ).read()\n",
    "header, corpus_raw = corpus_.split(\"***\")\n",
    "corpus_raw = corpus_raw.strip()\n",
    "corpus = [ line.strip() for line in corpus_raw.split(\"\\n\") ]\n",
    "corpus_tokenized = [ line.split() for line in corpus ]\n",
    "\n",
    "print( \"# Corpus Description\" )\n",
    "print( header.strip() )\n",
    "print()\n",
    "print( \"# Corpus Size: \", len(corpus) )\n"
   ]
  },
  {
   "cell_type": "markdown",
   "metadata": {},
   "source": [
    "## Data Overview"
   ]
  },
  {
   "cell_type": "code",
   "execution_count": 3,
   "metadata": {},
   "outputs": [],
   "source": [
    "size_per_doc = [ len( doc ) for doc in corpus_tokenized ]\n",
    "all_tokens = sum( corpus_tokenized, [] )\n",
    "type_with_count_ = Counter( all_tokens )\n",
    "type_with_count = type_with_count_.items()\n",
    "count_per_type = list( type_with_count_.values() )"
   ]
  },
  {
   "cell_type": "code",
   "execution_count": 4,
   "metadata": {},
   "outputs": [],
   "source": [
    "n_of_token = len( all_tokens )\n",
    "n_of_type = len( type_with_count )\n",
    "type_freq1 = [ t_ for t_, f_ in type_with_count if f_ == 1 ]\n",
    "hapax = len( type_freq1 )"
   ]
  },
  {
   "cell_type": "code",
   "execution_count": 5,
   "metadata": {},
   "outputs": [
    {
     "name": "stdout",
     "output_type": "stream",
     "text": [
      "# Report for Corpus\n",
      "\n",
      "## Doc Size\n",
      "* Max of Doc Size: 59\n",
      "* Min of Doc Size: 1\n",
      "* Mean of Doc Size: 7.316\n",
      "* Median of Doc Size: 6.000\n",
      "\n",
      "## Token and Type\n",
      "* N of Token: 140198\n",
      "* N of Type: 1842\n",
      "* Token/Type: 76.112\n",
      "* hapax: 388 ( 0.277% )\n",
      "  ----------------------\n",
      "* Max of Type Frequency: 7372\n",
      "* Min of Type Frequency: 1\n",
      "* Mean of Type Frequency: 76.112\n",
      "* Median of Type Frequency: 6.000\n"
     ]
    }
   ],
   "source": [
    "print( \"# Report for Corpus\")\n",
    "print() \n",
    "print( \"## Doc Size\")\n",
    "print( \"* Max of Doc Size:\", max( size_per_doc ) )\n",
    "print( \"* Min of Doc Size:\", min( size_per_doc ) )\n",
    "print( \"* Mean of Doc Size: {:.3f}\".format( np.mean( size_per_doc ) ) )\n",
    "print( \"* Median of Doc Size: {:.3f}\".format( np.median( size_per_doc ) ) )\n",
    "print() \n",
    "print( \"## Token and Type\")\n",
    "print( \"* N of Token:\", n_of_token )\n",
    "print( \"* N of Type:\", n_of_type )\n",
    "print( \"* Token/Type: {:.3f}\".format( n_of_token /  n_of_type ) )\n",
    "print( \"* hapax: {} ( {:.3f}% )\".format( hapax, hapax / n_of_token * 100 ) )\n",
    "print( \"  ----------------------\" )\n",
    "print( \"* Max of Type Frequency:\", max( count_per_type ) )\n",
    "print( \"* Min of Type Frequency:\", min( count_per_type ) )\n",
    "print( \"* Mean of Type Frequency: {:.3f}\".format( np.mean( count_per_type ) ) )\n",
    "print( \"* Median of Type Frequency: {:.3f}\".format( np.median( count_per_type ) ) )"
   ]
  },
  {
   "cell_type": "code",
   "execution_count": 6,
   "metadata": {},
   "outputs": [
    {
     "name": "stdout",
     "output_type": "stream",
     "text": [
      "# Most Frequency Tokens ( TOP 20 )\n"
     ]
    },
    {
     "data": {
      "text/html": [
       "<div>\n",
       "<style scoped>\n",
       "    .dataframe tbody tr th:only-of-type {\n",
       "        vertical-align: middle;\n",
       "    }\n",
       "\n",
       "    .dataframe tbody tr th {\n",
       "        vertical-align: top;\n",
       "    }\n",
       "\n",
       "    .dataframe thead th {\n",
       "        text-align: right;\n",
       "    }\n",
       "</style>\n",
       "<table border=\"1\" class=\"dataframe\">\n",
       "  <thead>\n",
       "    <tr style=\"text-align: right;\">\n",
       "      <th></th>\n",
       "      <th>1.Token</th>\n",
       "      <th>2.Frequency</th>\n",
       "    </tr>\n",
       "  </thead>\n",
       "  <tbody>\n",
       "    <tr>\n",
       "      <th>0</th>\n",
       "      <td>감초</td>\n",
       "      <td>7372</td>\n",
       "    </tr>\n",
       "    <tr>\n",
       "      <th>1</th>\n",
       "      <td>당귀</td>\n",
       "      <td>3834</td>\n",
       "    </tr>\n",
       "    <tr>\n",
       "      <th>2</th>\n",
       "      <td>인삼</td>\n",
       "      <td>3810</td>\n",
       "    </tr>\n",
       "    <tr>\n",
       "      <th>3</th>\n",
       "      <td>백출</td>\n",
       "      <td>3137</td>\n",
       "    </tr>\n",
       "    <tr>\n",
       "      <th>4</th>\n",
       "      <td>진피</td>\n",
       "      <td>2989</td>\n",
       "    </tr>\n",
       "    <tr>\n",
       "      <th>5</th>\n",
       "      <td>천궁</td>\n",
       "      <td>2701</td>\n",
       "    </tr>\n",
       "    <tr>\n",
       "      <th>6</th>\n",
       "      <td>반하</td>\n",
       "      <td>2340</td>\n",
       "    </tr>\n",
       "    <tr>\n",
       "      <th>7</th>\n",
       "      <td>황금</td>\n",
       "      <td>2052</td>\n",
       "    </tr>\n",
       "    <tr>\n",
       "      <th>8</th>\n",
       "      <td>백복령</td>\n",
       "      <td>1990</td>\n",
       "    </tr>\n",
       "    <tr>\n",
       "      <th>9</th>\n",
       "      <td>방풍</td>\n",
       "      <td>1943</td>\n",
       "    </tr>\n",
       "    <tr>\n",
       "      <th>10</th>\n",
       "      <td>백작약</td>\n",
       "      <td>1823</td>\n",
       "    </tr>\n",
       "    <tr>\n",
       "      <th>11</th>\n",
       "      <td>황련</td>\n",
       "      <td>1733</td>\n",
       "    </tr>\n",
       "    <tr>\n",
       "      <th>12</th>\n",
       "      <td>목향</td>\n",
       "      <td>1712</td>\n",
       "    </tr>\n",
       "    <tr>\n",
       "      <th>13</th>\n",
       "      <td>건강</td>\n",
       "      <td>1500</td>\n",
       "    </tr>\n",
       "    <tr>\n",
       "      <th>14</th>\n",
       "      <td>황기</td>\n",
       "      <td>1500</td>\n",
       "    </tr>\n",
       "    <tr>\n",
       "      <th>15</th>\n",
       "      <td>숙지황</td>\n",
       "      <td>1456</td>\n",
       "    </tr>\n",
       "    <tr>\n",
       "      <th>16</th>\n",
       "      <td>길경</td>\n",
       "      <td>1456</td>\n",
       "    </tr>\n",
       "    <tr>\n",
       "      <th>17</th>\n",
       "      <td>시호</td>\n",
       "      <td>1403</td>\n",
       "    </tr>\n",
       "    <tr>\n",
       "      <th>18</th>\n",
       "      <td>창출</td>\n",
       "      <td>1390</td>\n",
       "    </tr>\n",
       "    <tr>\n",
       "      <th>19</th>\n",
       "      <td>대황</td>\n",
       "      <td>1379</td>\n",
       "    </tr>\n",
       "  </tbody>\n",
       "</table>\n",
       "</div>"
      ],
      "text/plain": [
       "   1.Token  2.Frequency\n",
       "0       감초         7372\n",
       "1       당귀         3834\n",
       "2       인삼         3810\n",
       "3       백출         3137\n",
       "4       진피         2989\n",
       "5       천궁         2701\n",
       "6       반하         2340\n",
       "7       황금         2052\n",
       "8      백복령         1990\n",
       "9       방풍         1943\n",
       "10     백작약         1823\n",
       "11      황련         1733\n",
       "12      목향         1712\n",
       "13      건강         1500\n",
       "14      황기         1500\n",
       "15     숙지황         1456\n",
       "16      길경         1456\n",
       "17      시호         1403\n",
       "18      창출         1390\n",
       "19      대황         1379"
      ]
     },
     "execution_count": 6,
     "metadata": {},
     "output_type": "execute_result"
    }
   ],
   "source": [
    "topn = 20\n",
    "most_freq_top = type_with_count_.most_common( topn )\n",
    "type_, freq_ = zip( *most_freq_top )\n",
    "print( \"# Most Frequency Tokens ( TOP {} )\".format(topn) )\n",
    "pd.DataFrame( {\"1.Token\": type_, \"2.Frequency\": freq_ } )"
   ]
  },
  {
   "cell_type": "code",
   "execution_count": 29,
   "metadata": {},
   "outputs": [
    {
     "data": {
      "image/png": "[encoded data removed]",
      "text/plain": [
       "<Figure size 792x576 with 1 Axes>"
      ]
     },
     "metadata": {},
     "output_type": "display_data"
    },
    {
     "data": {
      "text/plain": [
       "<ggplot: (-9223371926589008447)>"
      ]
     },
     "execution_count": 29,
     "metadata": {},
     "output_type": "execute_result"
    }
   ],
   "source": [
    "# ggplot\n",
    "from ggplot import *\n",
    "\n",
    "doc_size_dist = pd.DataFrame(data={'size': size_per_doc })\n",
    "p1 = ggplot( aes(x='size'), data=doc_size_dist ) + geom_histogram(binwidth=1) \n",
    "p1 + labs(title=\"Histogram of Formulas Size\") + xlab('Formulas Size') + ylab('Frequency')"
   ]
  },
  {
   "cell_type": "code",
   "execution_count": 25,
   "metadata": {},
   "outputs": [
    {
     "data": {
      "image/png": "[encoded data removed]",
      "text/plain": [
       "<Figure size 792x576 with 1 Axes>"
      ]
     },
     "metadata": {},
     "output_type": "display_data"
    },
    {
     "data": {
      "text/plain": [
       "<ggplot: (-9223371926589028471)>"
      ]
     },
     "execution_count": 25,
     "metadata": {},
     "output_type": "execute_result"
    }
   ],
   "source": [
    "type_freq_dist = pd.DataFrame(data={'freq': count_per_type })\n",
    "p2 = ggplot( aes(x='freq'), data=type_freq_dist ) + geom_histogram(binwidth=50)\n",
    "p2 + labs(title=\"Histogram of Herbs Count\") + xlab('Herbs Count') + ylab('Frequency')"
   ]
  },
  {
   "cell_type": "code",
   "execution_count": null,
   "metadata": {},
   "outputs": [],
   "source": []
  }
 ],
 "metadata": {
  "kernelspec": {
   "display_name": "Python 3",
   "language": "python",
   "name": "python3"
  },
  "language_info": {
   "codemirror_mode": {
    "name": "ipython",
    "version": 3
   },
   "file_extension": ".py",
   "mimetype": "text/x-python",
   "name": "python",
   "nbconvert_exporter": "python",
   "pygments_lexer": "ipython3",
   "version": "3.6.6"
  }
 },
 "nbformat": 4,
 "nbformat_minor": 2
}
