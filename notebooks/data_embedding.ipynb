{
 "cells": [
  {
   "cell_type": "markdown",
   "metadata": {
    "collapsed": true
   },
   "source": [
    "# Data Embedding\n",
    "\n",
    "* word embedding\n",
    "* word vectorization"
   ]
  },
  {
   "cell_type": "markdown",
   "metadata": {},
   "source": [
    "## Data"
   ]
  },
  {
   "cell_type": "code",
   "execution_count": 31,
   "metadata": {},
   "outputs": [],
   "source": [
    "from collections import Counter\n",
    "import numpy as np\n",
    "\n",
    "np.set_printoptions( threshold=100, edgeitems=10  )"
   ]
  },
  {
   "cell_type": "code",
   "execution_count": 2,
   "metadata": {},
   "outputs": [
    {
     "name": "stdout",
     "output_type": "stream",
     "text": [
      "# Corpus Description\n",
      "- 출처 : 한국전통지식포탈(www.koreantk.com) > 전통의료 > 처방\n",
      "- 특징 : 본초 구성만 추출한 데이터\n",
      "- 데이터 생성일 : 2016.01.16\n",
      "\n",
      "# Corpus Size:  19162\n"
     ]
    }
   ],
   "source": [
    "corpus_path = \"../data/formulas.txt\"\n",
    "corpus_ = open( corpus_path, 'r', encoding='utf-8' ).read()\n",
    "header, corpus_raw = corpus_.split(\"***\")\n",
    "corpus_raw = corpus_raw.strip()\n",
    "corpus = [ line.strip() for line in corpus_raw.split(\"\\n\") ]\n",
    "corpus_tokenized = [ line.split() for line in corpus ]\n",
    "\n",
    "print( \"# Corpus Description\" )\n",
    "print( header.strip() )\n",
    "print()\n",
    "print( \"# Corpus Size: \", len(corpus) )"
   ]
  },
  {
   "cell_type": "markdown",
   "metadata": {},
   "source": [
    "## 1. 카운트 기반 방법(Counting-based word embedding)\n"
   ]
  },
  {
   "cell_type": "markdown",
   "metadata": {},
   "source": [
    "### 1차 벡터 ( 1st order vector )\n",
    "\n",
    "* TF vector\n",
    "* TF-IDF vector"
   ]
  },
  {
   "cell_type": "code",
   "execution_count": 3,
   "metadata": {},
   "outputs": [],
   "source": [
    "from sklearn.feature_extraction.text import CountVectorizer, TfidfVectorizer\n",
    "from time import time"
   ]
  },
  {
   "cell_type": "code",
   "execution_count": 4,
   "metadata": {},
   "outputs": [],
   "source": [
    "min_df = 6"
   ]
  },
  {
   "cell_type": "code",
   "execution_count": 5,
   "metadata": {
    "scrolled": true
   },
   "outputs": [
    {
     "name": "stdout",
     "output_type": "stream",
     "text": [
      "TF Matrix done in 0.113003s.\n",
      "TF-IDF Matrix done in 0.119001s.\n"
     ]
    }
   ],
   "source": [
    "# Build TF Matrix and TF-IDF Matrix\n",
    "\n",
    "t0 = time()\n",
    "tf_vectorizer = CountVectorizer( min_df=min_df )\n",
    "tf = tf_vectorizer.fit_transform( corpus )\n",
    "tf_feature_names = tf_vectorizer.get_feature_names()\n",
    "print( \"TF Matrix done in {:03f}s.\".format(time() - t0) )\n",
    "\n",
    "t0 = time()\n",
    "tfidf_vectorizer = TfidfVectorizer( min_df=min_df )\n",
    "tfidf = tfidf_vectorizer.fit_transform( corpus )\n",
    "tfidf_feature_names = tfidf_vectorizer.get_feature_names()\n",
    "print( \"TF-IDF Matrix done in {:03f}s.\".format(time() - t0) )\n",
    "\n",
    "term_vector_via_tf = tf.T\n",
    "term_vector_via_tfidf = tfidf.T"
   ]
  },
  {
   "cell_type": "code",
   "execution_count": 6,
   "metadata": {},
   "outputs": [],
   "source": [
    "# Save TF and TFIDF matrix : sparse matrix이기 때문에 파일크기가 매우 크다. \n",
    "# np.savetxt(\"../../_data/formulas_tf.tsv\", tf.toarray(), delimiter='\\t', fmt=\"%10.3f\" )\n",
    "# np.savetxt(\"../../_data/formulas_tfidf.tsv\", tfidf.toarray(), delimiter='\\t', fmt=\"%10.3f\" )"
   ]
  },
  {
   "cell_type": "code",
   "execution_count": 32,
   "metadata": {},
   "outputs": [
    {
     "name": "stdout",
     "output_type": "stream",
     "text": [
      "# 처방 개수:  19162\n",
      "# 본초 개수:  916  (6회 이상 사용된 본초)\n",
      "\n",
      "# Term Vector via TF\n",
      "* Shape: (916, 19162)\n",
      "[[0 0 0 0 0 0 0 0 0 0 ... 0 0 0 0 0 0 0 0 0 0]\n",
      " [0 0 0 0 0 0 0 0 0 0 ... 0 0 0 0 0 0 0 0 0 0]\n",
      " [0 0 0 0 0 0 0 0 0 0 ... 0 0 0 0 0 0 0 0 0 0]\n",
      " [0 0 0 0 0 0 0 0 0 0 ... 0 0 0 0 0 0 0 0 0 0]\n",
      " [0 0 0 0 0 0 0 0 0 0 ... 0 0 0 0 0 0 0 0 0 0]\n",
      " [0 0 0 0 0 0 0 0 0 0 ... 0 0 0 0 0 0 0 0 0 0]\n",
      " [0 0 0 0 0 0 0 0 0 0 ... 0 0 0 0 0 0 0 0 0 0]\n",
      " [0 0 0 0 0 0 0 0 0 0 ... 0 0 0 0 0 0 0 0 0 0]\n",
      " [0 0 0 0 0 0 0 0 0 0 ... 0 0 0 0 0 0 0 0 0 0]\n",
      " [0 0 0 0 0 0 0 0 0 0 ... 0 0 0 0 0 0 0 0 0 0]\n",
      " ...\n",
      " [0 0 0 0 0 0 0 0 0 0 ... 0 0 0 0 0 0 0 0 0 0]\n",
      " [0 0 0 0 0 0 0 0 0 0 ... 0 0 0 0 0 0 0 0 0 0]\n",
      " [0 0 0 0 0 0 0 0 0 0 ... 0 0 0 0 0 0 0 0 0 0]\n",
      " [0 0 0 0 0 0 0 0 0 0 ... 0 0 0 0 0 0 0 0 0 0]\n",
      " [0 0 0 0 0 0 0 0 0 0 ... 0 0 0 0 0 0 0 0 0 0]\n",
      " [0 0 0 0 0 0 0 0 0 0 ... 0 0 0 0 0 0 0 0 0 0]\n",
      " [0 0 0 0 0 0 0 0 0 0 ... 0 0 0 0 0 0 0 0 0 0]\n",
      " [0 0 0 0 0 0 0 0 0 0 ... 0 0 0 0 0 0 0 0 0 0]\n",
      " [0 0 0 0 0 0 0 0 0 0 ... 0 0 0 0 0 0 0 0 0 0]\n",
      " [0 0 0 0 0 0 0 0 0 0 ... 0 0 0 0 0 0 0 0 0 0]]\n",
      "\n",
      "# Term Vector via TFIDF\n",
      "* Shape: (916, 19162)\n",
      "[[0. 0. 0. 0. 0. 0. 0. 0. 0. 0. ... 0. 0. 0. 0. 0. 0. 0. 0. 0. 0.]\n",
      " [0. 0. 0. 0. 0. 0. 0. 0. 0. 0. ... 0. 0. 0. 0. 0. 0. 0. 0. 0. 0.]\n",
      " [0. 0. 0. 0. 0. 0. 0. 0. 0. 0. ... 0. 0. 0. 0. 0. 0. 0. 0. 0. 0.]\n",
      " [0. 0. 0. 0. 0. 0. 0. 0. 0. 0. ... 0. 0. 0. 0. 0. 0. 0. 0. 0. 0.]\n",
      " [0. 0. 0. 0. 0. 0. 0. 0. 0. 0. ... 0. 0. 0. 0. 0. 0. 0. 0. 0. 0.]\n",
      " [0. 0. 0. 0. 0. 0. 0. 0. 0. 0. ... 0. 0. 0. 0. 0. 0. 0. 0. 0. 0.]\n",
      " [0. 0. 0. 0. 0. 0. 0. 0. 0. 0. ... 0. 0. 0. 0. 0. 0. 0. 0. 0. 0.]\n",
      " [0. 0. 0. 0. 0. 0. 0. 0. 0. 0. ... 0. 0. 0. 0. 0. 0. 0. 0. 0. 0.]\n",
      " [0. 0. 0. 0. 0. 0. 0. 0. 0. 0. ... 0. 0. 0. 0. 0. 0. 0. 0. 0. 0.]\n",
      " [0. 0. 0. 0. 0. 0. 0. 0. 0. 0. ... 0. 0. 0. 0. 0. 0. 0. 0. 0. 0.]\n",
      " ...\n",
      " [0. 0. 0. 0. 0. 0. 0. 0. 0. 0. ... 0. 0. 0. 0. 0. 0. 0. 0. 0. 0.]\n",
      " [0. 0. 0. 0. 0. 0. 0. 0. 0. 0. ... 0. 0. 0. 0. 0. 0. 0. 0. 0. 0.]\n",
      " [0. 0. 0. 0. 0. 0. 0. 0. 0. 0. ... 0. 0. 0. 0. 0. 0. 0. 0. 0. 0.]\n",
      " [0. 0. 0. 0. 0. 0. 0. 0. 0. 0. ... 0. 0. 0. 0. 0. 0. 0. 0. 0. 0.]\n",
      " [0. 0. 0. 0. 0. 0. 0. 0. 0. 0. ... 0. 0. 0. 0. 0. 0. 0. 0. 0. 0.]\n",
      " [0. 0. 0. 0. 0. 0. 0. 0. 0. 0. ... 0. 0. 0. 0. 0. 0. 0. 0. 0. 0.]\n",
      " [0. 0. 0. 0. 0. 0. 0. 0. 0. 0. ... 0. 0. 0. 0. 0. 0. 0. 0. 0. 0.]\n",
      " [0. 0. 0. 0. 0. 0. 0. 0. 0. 0. ... 0. 0. 0. 0. 0. 0. 0. 0. 0. 0.]\n",
      " [0. 0. 0. 0. 0. 0. 0. 0. 0. 0. ... 0. 0. 0. 0. 0. 0. 0. 0. 0. 0.]\n",
      " [0. 0. 0. 0. 0. 0. 0. 0. 0. 0. ... 0. 0. 0. 0. 0. 0. 0. 0. 0. 0.]]\n"
     ]
    }
   ],
   "source": [
    "doc_size, feature_size = tf.shape\n",
    "print( \"# 처방 개수: \", doc_size)\n",
    "print( \"# 본초 개수: \", feature_size, \" ({}회 이상 사용된 본초)\".format( min_df ) ) \n",
    "print()\n",
    "print( \"# Term Vector via TF\")\n",
    "print( \"* Shape:\", term_vector_via_tf.shape )\n",
    "print( np.array_str( term_vector_via_tf, precision=3, suppress_small=True ) )\n",
    "print()\n",
    "print( \"# Term Vector via TFIDF\")\n",
    "print( \"* Shape:\", term_vector_via_tfidf.shape )\n",
    "print( np.array_str( term_vector_via_tfidf.toarray(), precision=3, suppress_small=True ) )"
   ]
  },
  {
   "cell_type": "code",
   "execution_count": 8,
   "metadata": {},
   "outputs": [],
   "source": [
    "freq_per_term = np.sum( tf, axis=0 ).flatten().tolist()[0]\n",
    "size_per_doc = np.sum( tf, axis=1 ).flatten().tolist()[0]"
   ]
  },
  {
   "cell_type": "markdown",
   "metadata": {},
   "source": [
    "### 2차 벡터 ( 2nd order vector )\n",
    "\n",
    "* co-word vector\n",
    "* t-score vector\n"
   ]
  },
  {
   "cell_type": "markdown",
   "metadata": {},
   "source": [
    "#### 1.2. co-word vector"
   ]
  },
  {
   "cell_type": "code",
   "execution_count": 9,
   "metadata": {},
   "outputs": [
    {
     "name": "stdout",
     "output_type": "stream",
     "text": [
      "916개 본초에 대해 916 길이의 벡터 생성\n"
     ]
    }
   ],
   "source": [
    "co_word = ( tf.T * tf )\n",
    "term_vector_via_coword = co_word\n",
    "print( \"{}개 본초에 대해 {} 길이의 벡터 생성\".format( *co_word.shape ) )"
   ]
  },
  {
   "cell_type": "markdown",
   "metadata": {},
   "source": [
    "#### 2.2. t-score vector"
   ]
  },
  {
   "cell_type": "code",
   "execution_count": 10,
   "metadata": {},
   "outputs": [
    {
     "name": "stdout",
     "output_type": "stream",
     "text": [
      "916개 본초에 대해 916 길이의 벡터 생성\n"
     ]
    }
   ],
   "source": [
    "# Observed Value\n",
    "observed_v = co_word.toarray()\n",
    "\n",
    "# Expected Value\n",
    "margin_x = np.full( co_word.shape, freq_per_term )\n",
    "margin_y = margin_x.T\n",
    "expected_v = np.divide(  np.multiply( margin_x, margin_y ),  sum( freq_per_term )   )\n",
    "\n",
    "# T-score with addone smoothing\n",
    "observed_v_add1 = np.add( observed_v, 1 )\n",
    "t_score = np.divide( np.subtract( observed_v, expected_v ) , np.sqrt( observed_v_add1 ) )\n",
    "\n",
    "from scipy import sparse\n",
    "term_vector_via_tscore = sparse.csc_matrix( t_score )\n",
    "print( \"{}개 본초에 대해 {} 길이의 벡터 생성\".format( *term_vector_via_tscore.shape ) )"
   ]
  },
  {
   "cell_type": "markdown",
   "metadata": {},
   "source": [
    "### 2. 예측 기반 방법(Prediction-based word embedding)\n",
    "\n",
    "* word2vec\n",
    "* GloVe"
   ]
  },
  {
   "cell_type": "markdown",
   "metadata": {},
   "source": [
    "#### 2.1. word2vec"
   ]
  },
  {
   "cell_type": "code",
   "execution_count": 11,
   "metadata": {
    "scrolled": true
   },
   "outputs": [],
   "source": [
    "# !conda install gensim"
   ]
  },
  {
   "cell_type": "code",
   "execution_count": 12,
   "metadata": {},
   "outputs": [
    {
     "name": "stderr",
     "output_type": "stream",
     "text": [
      "C:\\Users\\Junho\\Anaconda3\\lib\\site-packages\\gensim\\utils.py:1197: UserWarning: detected Windows; aliasing chunkize to chunkize_serial\n",
      "  warnings.warn(\"detected Windows; aliasing chunkize to chunkize_serial\")\n"
     ]
    },
    {
     "name": "stdout",
     "output_type": "stream",
     "text": [
      "Window size:  55\n"
     ]
    },
    {
     "data": {
      "text/plain": [
       "(2816484, 4486336)"
      ]
     },
     "execution_count": 12,
     "metadata": {},
     "output_type": "execute_result"
    }
   ],
   "source": [
    "import gensim\n",
    "\n",
    "vec_size = 64\n",
    "pochs = 32\n",
    "max_formula_length = max( size_per_doc ) \n",
    "print( \"Window size: \", max_formula_length )\n",
    "\n",
    "w2v = gensim.models.Word2Vec( size=vec_size, window=max_formula_length, min_count=min_df, workers=10 )\n",
    "w2v_feature_names = w2v.build_vocab( corpus_tokenized )\n",
    "w2v.train( corpus_tokenized, total_examples=len( corpus_tokenized ), epochs=pochs)\n"
   ]
  },
  {
   "cell_type": "markdown",
   "metadata": {},
   "source": [
    "## 결과"
   ]
  },
  {
   "cell_type": "markdown",
   "metadata": {},
   "source": [
    "### Vectors"
   ]
  },
  {
   "cell_type": "code",
   "execution_count": 13,
   "metadata": {},
   "outputs": [],
   "source": [
    "\n",
    "\n",
    "def get_vector( matrix, term, feature_names ):\n",
    "    i = feature_names.index( term )\n",
    "    return matrix[i, :].toarray().reshape( 1, -1 )[0]\n",
    "\n",
    "def print_vector( vc ):\n",
    "    print( np.array_str( vc, precision=3, suppress_small=True ) )"
   ]
  },
  {
   "cell_type": "code",
   "execution_count": 14,
   "metadata": {},
   "outputs": [
    {
     "name": "stdout",
     "output_type": "stream",
     "text": [
      "# Count-based (1st order vector)TF  방법으로 만들어진 '인삼'의 벡터(Vector)\n",
      "[0 0 0 0 0 0 0 0 0 0 ... 0 0 1 0 0 0 0 0 0 0]\n"
     ]
    }
   ],
   "source": [
    "ex_term = \"인삼\"\n",
    "\n",
    "ex_method = \"Count-based (1st order vector)TF \"\n",
    "print( \"# {} 방법으로 만들어진 '{}'의 벡터(Vector)\".format( ex_method, ex_term ) )\n",
    "print_vector( get_vector( term_vector_via_tf, ex_term, tf_feature_names ) )"
   ]
  },
  {
   "cell_type": "code",
   "execution_count": 15,
   "metadata": {},
   "outputs": [
    {
     "name": "stdout",
     "output_type": "stream",
     "text": [
      "# TFIDF (1st order vector) 방법으로 만들어진 '인삼'의 벡터(Vector)\n",
      "[0.    0.    0.    0.    0.    0.    0.    0.    0.    0.    ... 0.\n",
      " 0.    0.265 0.    0.    0.    0.    0.    0.    0.   ]\n"
     ]
    }
   ],
   "source": [
    "ex_method = \"TFIDF (1st order vector)\"\n",
    "print( \"# {} 방법으로 만들어진 '{}'의 벡터(Vector)\".format( ex_method, ex_term ) )\n",
    "print_vector( get_vector( term_vector_via_tfidf, ex_term, tfidf_feature_names ) )"
   ]
  },
  {
   "cell_type": "code",
   "execution_count": 16,
   "metadata": {},
   "outputs": [
    {
     "name": "stdout",
     "output_type": "stream",
     "text": [
      "# Co-word (2nd order vector) 방법으로 만들어진 '인삼'의 벡터(Vector)\n",
      "[ 3  3  0 59  5  7  8  0 95  1 ...  2  0  2  4  5  0  0  4  1  0]\n"
     ]
    }
   ],
   "source": [
    "ex_method = \"Co-word (2nd order vector)\"\n",
    "print( \"# {} 방법으로 만들어진 '{}'의 벡터(Vector)\".format( ex_method, ex_term ) )\n",
    "print_vector( get_vector( term_vector_via_coword, ex_term, tf_feature_names ) )"
   ]
  },
  {
   "cell_type": "code",
   "execution_count": 17,
   "metadata": {},
   "outputs": [
    {
     "name": "stdout",
     "output_type": "stream",
     "text": [
      "# t-score (2nd order vector) 방법으로 만들어진 '인삼'의 벡터(Vector)\n",
      "[ 1.154  1.348 -0.166  6.985  1.612  2.006  2.593 -0.249  8.567  0.59  ...\n",
      "  0.213 -1.189  1.043  0.664  1.77  -0.525 -0.636  0.565  0.492 -0.166]\n"
     ]
    }
   ],
   "source": [
    "ex_method = \"t-score (2nd order vector)\"\n",
    "print( \"# {} 방법으로 만들어진 '{}'의 벡터(Vector)\".format( ex_method, ex_term ) )\n",
    "print_vector( get_vector( term_vector_via_tscore, ex_term, tf_feature_names ) )"
   ]
  },
  {
   "cell_type": "code",
   "execution_count": 18,
   "metadata": {},
   "outputs": [
    {
     "name": "stdout",
     "output_type": "stream",
     "text": [
      "# Word2vec 방법으로 만들어진 '인삼'의 벡터(Vector)\n",
      "[-0.92   0.913 -0.035  0.902 -0.678  3.247 -0.382 -0.723 -0.448  0.812\n",
      " -1.84  -0.327 -0.819  2.639  1.036  0.256 -0.718 -0.867  1.356 -0.751\n",
      "  0.188  1.851 -0.298  0.734  1.664 -1.046  0.212  0.265 -1.843  0.509\n",
      "  0.417 -0.018  0.803 -0.235  0.076 -0.047  1.691 -0.628 -1.006 -0.338\n",
      " -1.405 -0.281 -0.968  0.935 -2.108 -0.249  0.443  1.052 -1.15   0.44\n",
      "  0.844 -0.557 -0.663 -0.065 -2.723  0.93  -0.34  -2.416  1.299 -0.081\n",
      "  0.597 -1.956  0.802  2.053]\n"
     ]
    }
   ],
   "source": [
    "ex_method = \"Word2vec\"\n",
    "print( \"# {} 방법으로 만들어진 '{}'의 벡터(Vector)\".format( ex_method, ex_term ) )\n",
    "print_vector( w2v.wv[ ex_term ] )"
   ]
  },
  {
   "cell_type": "code",
   "execution_count": null,
   "metadata": {},
   "outputs": [],
   "source": []
  },
  {
   "cell_type": "markdown",
   "metadata": {},
   "source": [
    "### Plot"
   ]
  },
  {
   "cell_type": "code",
   "execution_count": 19,
   "metadata": {},
   "outputs": [
    {
     "data": {
      "text/html": [
       "\n",
       "    <div class=\"bk-root\">\n",
       "        <a href=\"https://bokeh.pydata.org\" target=\"_blank\" class=\"bk-logo bk-logo-small bk-logo-notebook\"></a>\n",
       "        <span id=\"1001\">Loading BokehJS ...</span>\n",
       "    </div>"
      ]
     },
     "metadata": {},
     "output_type": "display_data"
    },
    {
     "data": {
      "application/javascript": [
       "\n",
       "(function(root) {\n",
       "  function now() {\n",
       "    return new Date();\n",
       "  }\n",
       "\n",
       "  var force = true;\n",
       "\n",
       "  if (typeof (root._bokeh_onload_callbacks) === \"undefined\" || force === true) {\n",
       "    root._bokeh_onload_callbacks = [];\n",
       "    root._bokeh_is_loading = undefined;\n",
       "  }\n",
       "\n",
       "  var JS_MIME_TYPE = 'application/javascript';\n",
       "  var HTML_MIME_TYPE = 'text/html';\n",
       "  var EXEC_MIME_TYPE = 'application/vnd.bokehjs_exec.v0+json';\n",
       "  var CLASS_NAME = 'output_bokeh rendered_html';\n",
       "\n",
       "  /**\n",
       "   * Render data to the DOM node\n",
       "   */\n",
       "  function render(props, node) {\n",
       "    var script = document.createElement(\"script\");\n",
       "    node.appendChild(script);\n",
       "  }\n",
       "\n",
       "  /**\n",
       "   * Handle when an output is cleared or removed\n",
       "   */\n",
       "  function handleClearOutput(event, handle) {\n",
       "    var cell = handle.cell;\n",
       "\n",
       "    var id = cell.output_area._bokeh_element_id;\n",
       "    var server_id = cell.output_area._bokeh_server_id;\n",
       "    // Clean up Bokeh references\n",
       "    if (id != null && id in Bokeh.index) {\n",
       "      Bokeh.index[id].model.document.clear();\n",
       "      delete Bokeh.index[id];\n",
       "    }\n",
       "\n",
       "    if (server_id !== undefined) {\n",
       "      // Clean up Bokeh references\n",
       "      var cmd = \"from bokeh.io.state import curstate; print(curstate().uuid_to_server['\" + server_id + \"'].get_sessions()[0].document.roots[0]._id)\";\n",
       "      cell.notebook.kernel.execute(cmd, {\n",
       "        iopub: {\n",
       "          output: function(msg) {\n",
       "            var id = msg.content.text.trim();\n",
       "            if (id in Bokeh.index) {\n",
       "              Bokeh.index[id].model.document.clear();\n",
       "              delete Bokeh.index[id];\n",
       "            }\n",
       "          }\n",
       "        }\n",
       "      });\n",
       "      // Destroy server and session\n",
       "      var cmd = \"import bokeh.io.notebook as ion; ion.destroy_server('\" + server_id + \"')\";\n",
       "      cell.notebook.kernel.execute(cmd);\n",
       "    }\n",
       "  }\n",
       "\n",
       "  /**\n",
       "   * Handle when a new output is added\n",
       "   */\n",
       "  function handleAddOutput(event, handle) {\n",
       "    var output_area = handle.output_area;\n",
       "    var output = handle.output;\n",
       "\n",
       "    // limit handleAddOutput to display_data with EXEC_MIME_TYPE content only\n",
       "    if ((output.output_type != \"display_data\") || (!output.data.hasOwnProperty(EXEC_MIME_TYPE))) {\n",
       "      return\n",
       "    }\n",
       "\n",
       "    var toinsert = output_area.element.find(\".\" + CLASS_NAME.split(' ')[0]);\n",
       "\n",
       "    if (output.metadata[EXEC_MIME_TYPE][\"id\"] !== undefined) {\n",
       "      toinsert[toinsert.length - 1].firstChild.textContent = output.data[JS_MIME_TYPE];\n",
       "      // store reference to embed id on output_area\n",
       "      output_area._bokeh_element_id = output.metadata[EXEC_MIME_TYPE][\"id\"];\n",
       "    }\n",
       "    if (output.metadata[EXEC_MIME_TYPE][\"server_id\"] !== undefined) {\n",
       "      var bk_div = document.createElement(\"div\");\n",
       "      bk_div.innerHTML = output.data[HTML_MIME_TYPE];\n",
       "      var script_attrs = bk_div.children[0].attributes;\n",
       "      for (var i = 0; i < script_attrs.length; i++) {\n",
       "        toinsert[toinsert.length - 1].firstChild.setAttribute(script_attrs[i].name, script_attrs[i].value);\n",
       "      }\n",
       "      // store reference to server id on output_area\n",
       "      output_area._bokeh_server_id = output.metadata[EXEC_MIME_TYPE][\"server_id\"];\n",
       "    }\n",
       "  }\n",
       "\n",
       "  function register_renderer(events, OutputArea) {\n",
       "\n",
       "    function append_mime(data, metadata, element) {\n",
       "      // create a DOM node to render to\n",
       "      var toinsert = this.create_output_subarea(\n",
       "        metadata,\n",
       "        CLASS_NAME,\n",
       "        EXEC_MIME_TYPE\n",
       "      );\n",
       "      this.keyboard_manager.register_events(toinsert);\n",
       "      // Render to node\n",
       "      var props = {data: data, metadata: metadata[EXEC_MIME_TYPE]};\n",
       "      render(props, toinsert[toinsert.length - 1]);\n",
       "      element.append(toinsert);\n",
       "      return toinsert\n",
       "    }\n",
       "\n",
       "    /* Handle when an output is cleared or removed */\n",
       "    events.on('clear_output.CodeCell', handleClearOutput);\n",
       "    events.on('delete.Cell', handleClearOutput);\n",
       "\n",
       "    /* Handle when a new output is added */\n",
       "    events.on('output_added.OutputArea', handleAddOutput);\n",
       "\n",
       "    /**\n",
       "     * Register the mime type and append_mime function with output_area\n",
       "     */\n",
       "    OutputArea.prototype.register_mime_type(EXEC_MIME_TYPE, append_mime, {\n",
       "      /* Is output safe? */\n",
       "      safe: true,\n",
       "      /* Index of renderer in `output_area.display_order` */\n",
       "      index: 0\n",
       "    });\n",
       "  }\n",
       "\n",
       "  // register the mime type if in Jupyter Notebook environment and previously unregistered\n",
       "  if (root.Jupyter !== undefined) {\n",
       "    var events = require('base/js/events');\n",
       "    var OutputArea = require('notebook/js/outputarea').OutputArea;\n",
       "\n",
       "    if (OutputArea.prototype.mime_types().indexOf(EXEC_MIME_TYPE) == -1) {\n",
       "      register_renderer(events, OutputArea);\n",
       "    }\n",
       "  }\n",
       "\n",
       "  \n",
       "  if (typeof (root._bokeh_timeout) === \"undefined\" || force === true) {\n",
       "    root._bokeh_timeout = Date.now() + 5000;\n",
       "    root._bokeh_failed_load = false;\n",
       "  }\n",
       "\n",
       "  var NB_LOAD_WARNING = {'data': {'text/html':\n",
       "     \"<div style='background-color: #fdd'>\\n\"+\n",
       "     \"<p>\\n\"+\n",
       "     \"BokehJS does not appear to have successfully loaded. If loading BokehJS from CDN, this \\n\"+\n",
       "     \"may be due to a slow or bad network connection. Possible fixes:\\n\"+\n",
       "     \"</p>\\n\"+\n",
       "     \"<ul>\\n\"+\n",
       "     \"<li>re-rerun `output_notebook()` to attempt to load from CDN again, or</li>\\n\"+\n",
       "     \"<li>use INLINE resources instead, as so:</li>\\n\"+\n",
       "     \"</ul>\\n\"+\n",
       "     \"<code>\\n\"+\n",
       "     \"from bokeh.resources import INLINE\\n\"+\n",
       "     \"output_notebook(resources=INLINE)\\n\"+\n",
       "     \"</code>\\n\"+\n",
       "     \"</div>\"}};\n",
       "\n",
       "  function display_loaded() {\n",
       "    var el = document.getElementById(\"1001\");\n",
       "    if (el != null) {\n",
       "      el.textContent = \"BokehJS is loading...\";\n",
       "    }\n",
       "    if (root.Bokeh !== undefined) {\n",
       "      if (el != null) {\n",
       "        el.textContent = \"BokehJS \" + root.Bokeh.version + \" successfully loaded.\";\n",
       "      }\n",
       "    } else if (Date.now() < root._bokeh_timeout) {\n",
       "      setTimeout(display_loaded, 100)\n",
       "    }\n",
       "  }\n",
       "\n",
       "\n",
       "  function run_callbacks() {\n",
       "    try {\n",
       "      root._bokeh_onload_callbacks.forEach(function(callback) { callback() });\n",
       "    }\n",
       "    finally {\n",
       "      delete root._bokeh_onload_callbacks\n",
       "    }\n",
       "    console.info(\"Bokeh: all callbacks have finished\");\n",
       "  }\n",
       "\n",
       "  function load_libs(js_urls, callback) {\n",
       "    root._bokeh_onload_callbacks.push(callback);\n",
       "    if (root._bokeh_is_loading > 0) {\n",
       "      console.log(\"Bokeh: BokehJS is being loaded, scheduling callback at\", now());\n",
       "      return null;\n",
       "    }\n",
       "    if (js_urls == null || js_urls.length === 0) {\n",
       "      run_callbacks();\n",
       "      return null;\n",
       "    }\n",
       "    console.log(\"Bokeh: BokehJS not loaded, scheduling load and callback at\", now());\n",
       "    root._bokeh_is_loading = js_urls.length;\n",
       "    for (var i = 0; i < js_urls.length; i++) {\n",
       "      var url = js_urls[i];\n",
       "      var s = document.createElement('script');\n",
       "      s.src = url;\n",
       "      s.async = false;\n",
       "      s.onreadystatechange = s.onload = function() {\n",
       "        root._bokeh_is_loading--;\n",
       "        if (root._bokeh_is_loading === 0) {\n",
       "          console.log(\"Bokeh: all BokehJS libraries loaded\");\n",
       "          run_callbacks()\n",
       "        }\n",
       "      };\n",
       "      s.onerror = function() {\n",
       "        console.warn(\"failed to load library \" + url);\n",
       "      };\n",
       "      console.log(\"Bokeh: injecting script tag for BokehJS library: \", url);\n",
       "      document.getElementsByTagName(\"head\")[0].appendChild(s);\n",
       "    }\n",
       "  };var element = document.getElementById(\"1001\");\n",
       "  if (element == null) {\n",
       "    console.log(\"Bokeh: ERROR: autoload.js configured with elementid '1001' but no matching script tag was found. \")\n",
       "    return false;\n",
       "  }\n",
       "\n",
       "  var js_urls = [\"https://cdn.pydata.org/bokeh/release/bokeh-1.0.4.min.js\", \"https://cdn.pydata.org/bokeh/release/bokeh-widgets-1.0.4.min.js\", \"https://cdn.pydata.org/bokeh/release/bokeh-tables-1.0.4.min.js\", \"https://cdn.pydata.org/bokeh/release/bokeh-gl-1.0.4.min.js\"];\n",
       "\n",
       "  var inline_js = [\n",
       "    function(Bokeh) {\n",
       "      Bokeh.set_log_level(\"info\");\n",
       "    },\n",
       "    \n",
       "    function(Bokeh) {\n",
       "      \n",
       "    },\n",
       "    function(Bokeh) {\n",
       "      console.log(\"Bokeh: injecting CSS: https://cdn.pydata.org/bokeh/release/bokeh-1.0.4.min.css\");\n",
       "      Bokeh.embed.inject_css(\"https://cdn.pydata.org/bokeh/release/bokeh-1.0.4.min.css\");\n",
       "      console.log(\"Bokeh: injecting CSS: https://cdn.pydata.org/bokeh/release/bokeh-widgets-1.0.4.min.css\");\n",
       "      Bokeh.embed.inject_css(\"https://cdn.pydata.org/bokeh/release/bokeh-widgets-1.0.4.min.css\");\n",
       "      console.log(\"Bokeh: injecting CSS: https://cdn.pydata.org/bokeh/release/bokeh-tables-1.0.4.min.css\");\n",
       "      Bokeh.embed.inject_css(\"https://cdn.pydata.org/bokeh/release/bokeh-tables-1.0.4.min.css\");\n",
       "    }\n",
       "  ];\n",
       "\n",
       "  function run_inline_js() {\n",
       "    \n",
       "    if ((root.Bokeh !== undefined) || (force === true)) {\n",
       "      for (var i = 0; i < inline_js.length; i++) {\n",
       "        inline_js[i].call(root, root.Bokeh);\n",
       "      }if (force === true) {\n",
       "        display_loaded();\n",
       "      }} else if (Date.now() < root._bokeh_timeout) {\n",
       "      setTimeout(run_inline_js, 100);\n",
       "    } else if (!root._bokeh_failed_load) {\n",
       "      console.log(\"Bokeh: BokehJS failed to load within specified timeout.\");\n",
       "      root._bokeh_failed_load = true;\n",
       "    } else if (force !== true) {\n",
       "      var cell = $(document.getElementById(\"1001\")).parents('.cell').data().cell;\n",
       "      cell.output_area.append_execute_result(NB_LOAD_WARNING)\n",
       "    }\n",
       "\n",
       "  }\n",
       "\n",
       "  if (root._bokeh_is_loading === 0) {\n",
       "    console.log(\"Bokeh: BokehJS loaded, going straight to plotting\");\n",
       "    run_inline_js();\n",
       "  } else {\n",
       "    load_libs(js_urls, function() {\n",
       "      console.log(\"Bokeh: BokehJS plotting callback run at\", now());\n",
       "      run_inline_js();\n",
       "    });\n",
       "  }\n",
       "}(window));"
      ],
      "application/vnd.bokehjs_load.v0+json": "\n(function(root) {\n  function now() {\n    return new Date();\n  }\n\n  var force = true;\n\n  if (typeof (root._bokeh_onload_callbacks) === \"undefined\" || force === true) {\n    root._bokeh_onload_callbacks = [];\n    root._bokeh_is_loading = undefined;\n  }\n\n  \n\n  \n  if (typeof (root._bokeh_timeout) === \"undefined\" || force === true) {\n    root._bokeh_timeout = Date.now() + 5000;\n    root._bokeh_failed_load = false;\n  }\n\n  var NB_LOAD_WARNING = {'data': {'text/html':\n     \"<div style='background-color: #fdd'>\\n\"+\n     \"<p>\\n\"+\n     \"BokehJS does not appear to have successfully loaded. If loading BokehJS from CDN, this \\n\"+\n     \"may be due to a slow or bad network connection. Possible fixes:\\n\"+\n     \"</p>\\n\"+\n     \"<ul>\\n\"+\n     \"<li>re-rerun `output_notebook()` to attempt to load from CDN again, or</li>\\n\"+\n     \"<li>use INLINE resources instead, as so:</li>\\n\"+\n     \"</ul>\\n\"+\n     \"<code>\\n\"+\n     \"from bokeh.resources import INLINE\\n\"+\n     \"output_notebook(resources=INLINE)\\n\"+\n     \"</code>\\n\"+\n     \"</div>\"}};\n\n  function display_loaded() {\n    var el = document.getElementById(\"1001\");\n    if (el != null) {\n      el.textContent = \"BokehJS is loading...\";\n    }\n    if (root.Bokeh !== undefined) {\n      if (el != null) {\n        el.textContent = \"BokehJS \" + root.Bokeh.version + \" successfully loaded.\";\n      }\n    } else if (Date.now() < root._bokeh_timeout) {\n      setTimeout(display_loaded, 100)\n    }\n  }\n\n\n  function run_callbacks() {\n    try {\n      root._bokeh_onload_callbacks.forEach(function(callback) { callback() });\n    }\n    finally {\n      delete root._bokeh_onload_callbacks\n    }\n    console.info(\"Bokeh: all callbacks have finished\");\n  }\n\n  function load_libs(js_urls, callback) {\n    root._bokeh_onload_callbacks.push(callback);\n    if (root._bokeh_is_loading > 0) {\n      console.log(\"Bokeh: BokehJS is being loaded, scheduling callback at\", now());\n      return null;\n    }\n    if (js_urls == null || js_urls.length === 0) {\n      run_callbacks();\n      return null;\n    }\n    console.log(\"Bokeh: BokehJS not loaded, scheduling load and callback at\", now());\n    root._bokeh_is_loading = js_urls.length;\n    for (var i = 0; i < js_urls.length; i++) {\n      var url = js_urls[i];\n      var s = document.createElement('script');\n      s.src = url;\n      s.async = false;\n      s.onreadystatechange = s.onload = function() {\n        root._bokeh_is_loading--;\n        if (root._bokeh_is_loading === 0) {\n          console.log(\"Bokeh: all BokehJS libraries loaded\");\n          run_callbacks()\n        }\n      };\n      s.onerror = function() {\n        console.warn(\"failed to load library \" + url);\n      };\n      console.log(\"Bokeh: injecting script tag for BokehJS library: \", url);\n      document.getElementsByTagName(\"head\")[0].appendChild(s);\n    }\n  };var element = document.getElementById(\"1001\");\n  if (element == null) {\n    console.log(\"Bokeh: ERROR: autoload.js configured with elementid '1001' but no matching script tag was found. \")\n    return false;\n  }\n\n  var js_urls = [\"https://cdn.pydata.org/bokeh/release/bokeh-1.0.4.min.js\", \"https://cdn.pydata.org/bokeh/release/bokeh-widgets-1.0.4.min.js\", \"https://cdn.pydata.org/bokeh/release/bokeh-tables-1.0.4.min.js\", \"https://cdn.pydata.org/bokeh/release/bokeh-gl-1.0.4.min.js\"];\n\n  var inline_js = [\n    function(Bokeh) {\n      Bokeh.set_log_level(\"info\");\n    },\n    \n    function(Bokeh) {\n      \n    },\n    function(Bokeh) {\n      console.log(\"Bokeh: injecting CSS: https://cdn.pydata.org/bokeh/release/bokeh-1.0.4.min.css\");\n      Bokeh.embed.inject_css(\"https://cdn.pydata.org/bokeh/release/bokeh-1.0.4.min.css\");\n      console.log(\"Bokeh: injecting CSS: https://cdn.pydata.org/bokeh/release/bokeh-widgets-1.0.4.min.css\");\n      Bokeh.embed.inject_css(\"https://cdn.pydata.org/bokeh/release/bokeh-widgets-1.0.4.min.css\");\n      console.log(\"Bokeh: injecting CSS: https://cdn.pydata.org/bokeh/release/bokeh-tables-1.0.4.min.css\");\n      Bokeh.embed.inject_css(\"https://cdn.pydata.org/bokeh/release/bokeh-tables-1.0.4.min.css\");\n    }\n  ];\n\n  function run_inline_js() {\n    \n    if ((root.Bokeh !== undefined) || (force === true)) {\n      for (var i = 0; i < inline_js.length; i++) {\n        inline_js[i].call(root, root.Bokeh);\n      }if (force === true) {\n        display_loaded();\n      }} else if (Date.now() < root._bokeh_timeout) {\n      setTimeout(run_inline_js, 100);\n    } else if (!root._bokeh_failed_load) {\n      console.log(\"Bokeh: BokehJS failed to load within specified timeout.\");\n      root._bokeh_failed_load = true;\n    } else if (force !== true) {\n      var cell = $(document.getElementById(\"1001\")).parents('.cell').data().cell;\n      cell.output_area.append_execute_result(NB_LOAD_WARNING)\n    }\n\n  }\n\n  if (root._bokeh_is_loading === 0) {\n    console.log(\"Bokeh: BokehJS loaded, going straight to plotting\");\n    run_inline_js();\n  } else {\n    load_libs(js_urls, function() {\n      console.log(\"Bokeh: BokehJS plotting callback run at\", now());\n      run_inline_js();\n    });\n  }\n}(window));"
     },
     "metadata": {},
     "output_type": "display_data"
    }
   ],
   "source": [
    "from bokeh.io import output_notebook\n",
    "from bokeh.plotting import figure, output_file, show, ColumnDataSource\n",
    "from sklearn.manifold import TSNE\n",
    "output_notebook()"
   ]
  },
  {
   "cell_type": "code",
   "execution_count": 20,
   "metadata": {},
   "outputs": [],
   "source": [
    "def tsne_model_fit_transform( matrix ):\n",
    "    tsne_model = TSNE( n_components=2, n_iter=2000, init='pca', random_state=23 )\n",
    "    new_matrix = tsne_model.fit_transform( matrix )\n",
    "    return new_matrix\n"
   ]
  },
  {
   "cell_type": "code",
   "execution_count": 21,
   "metadata": {},
   "outputs": [],
   "source": [
    "def tsne_plot( transformed_2d, label, title=\"plot\" ):\n",
    "    TOOLS=\"hover,crosshair,pan,wheel_zoom,zoom_in,zoom_out,box_zoom,undo,redo,reset,tap,save,box_select,poly_select,lasso_select,\"\n",
    "    TOOLTIPS = [\n",
    "        (\"label\", \"@label\"),\n",
    "        (\"(index, x, y)\", \"($index, $x, $y)\"),\n",
    "    ]\n",
    "   \n",
    "    x, y = transformed_2d.T\n",
    "    source = ColumnDataSource(data=dict( x=x, y=y, label=label ))\n",
    "    plt = figure( tools=TOOLS, tooltips=TOOLTIPS, plot_width=600, plot_height=600, title=title )\n",
    "    plt.scatter('x', 'y', source=source, radius=1, fill_alpha=0.6, line_color=None)\n",
    "    return plt"
   ]
  },
  {
   "cell_type": "code",
   "execution_count": 22,
   "metadata": {},
   "outputs": [
    {
     "name": "stdout",
     "output_type": "stream",
     "text": [
      "TF TSNE model done in 32.107294s.\n"
     ]
    }
   ],
   "source": [
    "t0 = time()\n",
    "transformed_tf = tsne_model_fit_transform( term_vector_via_tf.todense() )\n",
    "print( \"TF TSNE model done in {:03f}s.\".format( time() - t0 ) )"
   ]
  },
  {
   "cell_type": "code",
   "execution_count": 23,
   "metadata": {},
   "outputs": [
    {
     "data": {
      "text/html": [
       "\n",
       "\n",
       "\n",
       "\n",
       "\n",
       "\n",
       "  <div class=\"bk-root\" id=\"a9868535-1fbc-4e0c-af0a-009ef9e27698\" data-root-id=\"1004\"></div>\n"
      ]
     },
     "metadata": {},
     "output_type": "display_data"
    },
    {
     "data": {
      "application/javascript": [
       "(function(root) {\n",
       "  function embed_document(root) {\n",
       "    \n",
       "  var docs_json = {\"ddb9f4b5-5685-4680-be69-20b53728eaab\":{\"roots\":{\"references\":[{\"attributes\":{\"below\":[{\"id\":\"1014\",\"type\":\"LinearAxis\"}],\"left\":[{\"id\":\"1019\",\"type\":\"LinearAxis\"}],\"renderers\":[{\"id\":\"1014\",\"type\":\"LinearAxis\"},{\"id\":\"1018\",\"type\":\"Grid\"},{\"id\":\"1019\",\"type\":\"LinearAxis\"},{\"id\":\"1023\",\"type\":\"Grid\"},{\"id\":\"1045\",\"type\":\"BoxAnnotation\"},{\"id\":\"1053\",\"type\":\"BoxAnnotation\"},{\"id\":\"1056\",\"type\":\"PolyAnnotation\"},{\"id\":\"1059\",\"type\":\"PolyAnnotation\"},{\"id\":\"1066\",\"type\":\"GlyphRenderer\"}],\"title\":{\"id\":\"1003\",\"type\":\"Title\"},\"toolbar\":{\"id\":\"1039\",\"type\":\"Toolbar\"},\"x_range\":{\"id\":\"1006\",\"type\":\"DataRange1d\"},\"x_scale\":{\"id\":\"1010\",\"type\":\"LinearScale\"},\"y_range\":{\"id\":\"1008\",\"type\":\"DataRange1d\"},\"y_scale\":{\"id\":\"1012\",\"type\":\"LinearScale\"}},\"id\":\"1004\",\"subtype\":\"Figure\",\"type\":\"Plot\"},{\"attributes\":{\"fill_alpha\":{\"value\":0.6},\"fill_color\":{\"value\":\"#1f77b4\"},\"line_color\":{\"value\":null},\"radius\":{\"units\":\"data\",\"value\":1},\"x\":{\"field\":\"x\"},\"y\":{\"field\":\"y\"}},\"id\":\"1064\",\"type\":\"Circle\"},{\"attributes\":{\"formatter\":{\"id\":\"1070\",\"type\":\"BasicTickFormatter\"},\"plot\":{\"id\":\"1004\",\"subtype\":\"Figure\",\"type\":\"Plot\"},\"ticker\":{\"id\":\"1015\",\"type\":\"BasicTicker\"}},\"id\":\"1014\",\"type\":\"LinearAxis\"},{\"attributes\":{\"active_drag\":\"auto\",\"active_inspect\":\"auto\",\"active_multi\":null,\"active_scroll\":\"auto\",\"active_tap\":\"auto\",\"tools\":[{\"id\":\"1024\",\"type\":\"HoverTool\"},{\"id\":\"1025\",\"type\":\"CrosshairTool\"},{\"id\":\"1026\",\"type\":\"PanTool\"},{\"id\":\"1027\",\"type\":\"WheelZoomTool\"},{\"id\":\"1028\",\"type\":\"ZoomInTool\"},{\"id\":\"1029\",\"type\":\"ZoomOutTool\"},{\"id\":\"1030\",\"type\":\"BoxZoomTool\"},{\"id\":\"1031\",\"type\":\"UndoTool\"},{\"id\":\"1032\",\"type\":\"RedoTool\"},{\"id\":\"1033\",\"type\":\"ResetTool\"},{\"id\":\"1034\",\"type\":\"TapTool\"},{\"id\":\"1035\",\"type\":\"SaveTool\"},{\"id\":\"1036\",\"type\":\"BoxSelectTool\"},{\"id\":\"1037\",\"type\":\"PolySelectTool\"},{\"id\":\"1038\",\"type\":\"LassoSelectTool\"}]},\"id\":\"1039\",\"type\":\"Toolbar\"},{\"attributes\":{\"bottom_units\":\"screen\",\"fill_alpha\":{\"value\":0.5},\"fill_color\":{\"value\":\"lightgrey\"},\"left_units\":\"screen\",\"level\":\"overlay\",\"line_alpha\":{\"value\":1.0},\"line_color\":{\"value\":\"black\"},\"line_dash\":[4,4],\"line_width\":{\"value\":2},\"plot\":null,\"render_mode\":\"css\",\"right_units\":\"screen\",\"top_units\":\"screen\"},\"id\":\"1045\",\"type\":\"BoxAnnotation\"},{\"attributes\":{\"bottom_units\":\"screen\",\"fill_alpha\":{\"value\":0.5},\"fill_color\":{\"value\":\"lightgrey\"},\"left_units\":\"screen\",\"level\":\"overlay\",\"line_alpha\":{\"value\":1.0},\"line_color\":{\"value\":\"black\"},\"line_dash\":[4,4],\"line_width\":{\"value\":2},\"plot\":null,\"render_mode\":\"css\",\"right_units\":\"screen\",\"top_units\":\"screen\"},\"id\":\"1053\",\"type\":\"BoxAnnotation\"},{\"attributes\":{\"callback\":null,\"tooltips\":[[\"label\",\"@label\"],[\"(index, x, y)\",\"($index, $x, $y)\"]]},\"id\":\"1024\",\"type\":\"HoverTool\"},{\"attributes\":{\"fill_alpha\":{\"value\":0.5},\"fill_color\":{\"value\":\"lightgrey\"},\"level\":\"overlay\",\"line_alpha\":{\"value\":1.0},\"line_color\":{\"value\":\"black\"},\"line_dash\":[4,4],\"line_width\":{\"value\":2},\"plot\":null,\"xs_units\":\"screen\",\"ys_units\":\"screen\"},\"id\":\"1056\",\"type\":\"PolyAnnotation\"},{\"attributes\":{},\"id\":\"1025\",\"type\":\"CrosshairTool\"},{\"attributes\":{\"fill_alpha\":{\"value\":0.5},\"fill_color\":{\"value\":\"lightgrey\"},\"level\":\"overlay\",\"line_alpha\":{\"value\":1.0},\"line_color\":{\"value\":\"black\"},\"line_dash\":[4,4],\"line_width\":{\"value\":2},\"plot\":null,\"xs_units\":\"screen\",\"ys_units\":\"screen\"},\"id\":\"1059\",\"type\":\"PolyAnnotation\"},{\"attributes\":{},\"id\":\"1026\",\"type\":\"PanTool\"},{\"attributes\":{},\"id\":\"1072\",\"type\":\"BasicTickFormatter\"},{\"attributes\":{\"callback\":null,\"data\":{\"label\":[\"\\uac00\\ub824\\ub291\",\"\\uac00\\ub9ac\\ub291\",\"\\uac00\\uc11c\\ubd84\",\"\\uac00\\uc790\",\"\\uac00\\uc790\\uc721\",\"\\uac00\\uc790\\ud53c\",\"\\uac00\\uc790\\ud575\",\"\\uac00\\ud30c\\ucd08\",\"\\uac08\\uadfc\",\"\\uac08\\ubbf8\",\"\\uac08\\uc591\\uac04\",\"\\uac08\\ucd08\",\"\\uac08\\ud654\",\"\\uac10\\uad6c\\uae30\\uc790\",\"\\uac10\\uad6d\",\"\\uac10\\uad6d\\ud654\",\"\\uac10\\ub78c\",\"\\uac10\\uc1a1\",\"\\uac10\\uc1a1\\ud5a5\",\"\\uac10\\uc218\",\"\\uac10\\uc778\",\"\\uac10\\ucd08\",\"\\uac10\\ucd08\\uc808\",\"\\uac10\\ucd08\\ucd08\",\"\\uac15\\ub791\",\"\\uac15\\ubc18\\ud558\",\"\\uac15\\uc7a0\",\"\\uac15\\uc9c4\\ud5a5\",\"\\uac15\\ud45c\",\"\\uac15\\ud65c\",\"\\uac15\\ud669\",\"\\uac31\\ubbf8\",\"\\uac70\\uc2b9\\uc790\",\"\\uac74\\uac08\",\"\\uac74\\uac15\",\"\\uac74\\ubaa8\\uacfc\",\"\\uac74\\uc0b0\\uc57d\",\"\\uac74\\uc0dd\\uac15\",\"\\uac74\\uc12c\",\"\\uac74\\uc5f0\\uc9c0\",\"\\uac74\\uc728\",\"\\uac74\\uc9c0\\ud669\",\"\\uac74\\uce60\",\"\\uac80\\uc2e4\",\"\\uacac\\uc6b0\",\"\\uacac\\uc6b0\\uc790\",\"\\uacb0\\uba85\\uc790\",\"\\uacbd\\ubb35\",\"\\uacbd\\ubd84\",\"\\uacbd\\uc0bc\\ub989\",\"\\uacbd\\uc0c1\\uc0c1\\uc5fd\",\"\\uacc4\\uad00\\ud654\",\"\\uacc4\\ub0b4\\uae08\",\"\\uacc4\\ub780\",\"\\uacc4\\ubd80\\ud65c\\uc11d\",\"\\uacc4\\ube44\\uce58\",\"\\uacc4\\uc18c\",\"\\uacc4\\uc18c\\uc5fd\",\"\\uacc4\\uc2ec\",\"\\uacc4\\uc2ec\\ube48\\ub791\",\"\\uacc4\\uc790\",\"\\uacc4\\uc790\\ud669\",\"\\uacc4\\uc9c0\",\"\\uacc4\\ud53c\",\"\\uace0\\uacbd\",\"\\uace0\\uae08\",\"\\uace0\\uae38\\uacbd\",\"\\uace0\\ub7c9\\uac15\",\"\\uace0\\ub828\\uadfc\",\"\\uace0\\ub828\\uadfc\\ud53c\",\"\\uace0\\ub828\\uc790\",\"\\uace0\\ub828\\ud53c\",\"\\uace0\\ubc18\",\"\\uace0\\ubc31\\ubc18\",\"\\uace0\\ubcf8\",\"\\uace0\\uc0bc\",\"\\uace0\\uc815\\ub825\",\"\\uace1\\uc544\",\"\\uace1\\uc815\\ucd08\",\"\\uace4\\ud3ec\",\"\\uace8\\uc1c4\\ubcf4\",\"\\uacfc\\ub8e8\",\"\\uacfc\\ub8e8\\uadfc\",\"\\uacfc\\ub8e8\\uc2e4\",\"\\uacfc\\ub8e8\\uc778\",\"\\uacfc\\ub8e8\\uc790\",\"\\uacfc\\uccb4\",\"\\uacfd\\ud5a5\",\"\\uacfd\\ud5a5\\uc5fd\",\"\\uad00\\uacc4\",\"\\uad00\\ub3d9\\ud654\",\"\\uad00\\ubd84\",\"\\uad00\\uc911\",\"\\uad04\\ub8e8\\uadfc\",\"\\uad04\\ub8e8\\uc778\",\"\\uad11\\ucd9c\",\"\\uad34\\uac01\",\"\\uad34\\uac01\\uc790\",\"\\uad34\\uc790\",\"\\uad34\\uc9c0\",\"\\uad34\\ud654\",\"\\uad50\\uc774\",\"\\uad6c\\uae30\",\"\\uad6c\\uae30\\uc790\",\"\\uad6c\\ub9e5\",\"\\uad6c\\ub9e5\\uc218\",\"\\uad6c\\uc778\",\"\\uad6c\\uc778\\ubd84\",\"\\uad6c\\uc790\",\"\\uad6c\\ucc44\",\"\\uad6c\\ucc99\",\"\\uad6c\\ud310\",\"\\uad6d\\uc5bc\",\"\\uad6d\\ud654\",\"\\uad81\\uad81\",\"\\uad8c\\ubc31\",\"\\uadc0\\uac01\",\"\\uadc0\\uac11\",\"\\uadc0\\uad6c\",\"\\uadc0\\uc804\\uc6b0\",\"\\uadc0\\ud310\",\"\\uaddc\\uc790\",\"\\uade4\\uc5fd\",\"\\uade4\\ud53c\",\"\\uade4\\ud575\",\"\\uade4\\ud64d\",\"\\uae08\\ub839\\uc790\",\"\\uae08\\ubaa8\\uad6c\\ucc99\",\"\\uae08\\ubb38\\ub300\\ud669\",\"\\uae08\\ubc15\",\"\\uae08\\ubd88\\ucd08\",\"\\uae08\\uc575\\uc790\",\"\\uae08\\uc740\\ubc15\",\"\\uae08\\uc740\\ud654\",\"\\uae30\\ub9b0\\uac08\",\"\\uae38\\uacbd\",\"\\ub098\\ubbf8\",\"\\ub098\\ubbf8\\uc8fc\",\"\\ub098\\ubcf5\",\"\\ub098\\ubcf5\\uc790\",\"\\ub09c\\ubc1c\",\"\\ub0a0\\uacc4\",\"\\ub0a8\\uc131\",\"\\ub0a8\\uc5fd\",\"\\ub0a9\\ub2e4\",\"\\ub0ad\\ub3c5\",\"\\ub0b4\\ubcf5\\uc790\",\"\\ub178\\uac10\\uc11d\",\"\\ub178\\uadfc\",\"\\ub178\\ubd09\\ubc29\",\"\\ub178\\ud68c\",\"\\ub179\\uac01\",\"\\ub179\\uac01\\uad50\",\"\\ub179\\uac01\\uc0c1\",\"\\ub179\\ub450\",\"\\ub179\\ub450\\ubd84\",\"\\ub179\\ubc18\",\"\\ub179\\uc6a9\",\"\\ub1cc\\uc0ac\",\"\\ub1cc\\uc790\",\"\\ub1cc\\ud658\",\"\\ub204\\ub85c\",\"\\ub2e4\\uc5fd\",\"\\ub2e8\\uc0ac\",\"\\ub2e8\\uc0bc\",\"\\ub2e8\\ud5a5\",\"\\ub2f4\\ub450\\uc2dc\",\"\\ub2f4\\ubc18\",\"\\ub2f4\\uc131\",\"\\ub2f4\\uc8fd\\uc5fd\",\"\\ub2f9\\uadc0\",\"\\ub2f9\\uadc0\\ub450\",\"\\ub2f9\\uadc0\\ubbf8\",\"\\ub2f9\\uadc0\\uc2e0\",\"\\ub300\\uacc4\",\"\\ub300\\uadf9\",\"\\ub300\\ub450\",\"\\ub300\\ub450\\ud669\\uad8c\",\"\\ub300\\ub825\\uc790\",\"\\ub300\\ub9c8\\uc778\",\"\\ub300\\ub9e5\\uc5bc\",\"\\ub300\\ubcf5\\uc790\",\"\\ub300\\ubcf5\\ud53c\",\"\\ub300\\uc0b0\",\"\\ub300\\uc790\\uc11d\",\"\\ub300\\uc870\",\"\\ub300\\uc870\\uc721\",\"\\ub300\\ucc9c\\uc624\",\"\\ub300\\uccad\",\"\\ub300\\uccad\\uc5fd\",\"\\ub300\\ud48d\\uc790\",\"\\ub300\\ud669\",\"\\ub3c4\\uad50\",\"\\ub3c4\\ub178\",\"\\ub3c4\\uc778\",\"\\ub3c4\\uc9c0\",\"\\ub3c5\\ud65c\",\"\\ub3d9\\uacfc\\uc778\",\"\\ub3d9\\uaddc\\uc790\",\"\\ub3d9\\ub85d\",\"\\ub3d9\\ubcc0\",\"\\ub3d9\\uccad\",\"\\ub450\\ubc1c\",\"\\ub450\\uc2dc\",\"\\ub450\\uc911\",\"\\ub4f1\\uc2ec\\ucd08\",\"\\ub9c8\\ub450\\ub839\",\"\\ub9c8\\ub9b0\\uc790\",\"\\ub9c8\\ub9b0\\ud654\",\"\\ub9c8\\ubc1c\",\"\\ub9c8\\uc544\\ucd08\",\"\\ub9c8\\uc720\",\"\\ub9c8\\uc778\",\"\\ub9c8\\uc790\\uc778\",\"\\ub9c8\\uce58\\ud604\",\"\\ub9c8\\ud3b8\\ucd08\",\"\\ub9c8\\ud669\",\"\\ub9c8\\ud669\\uadfc\",\"\\ub9cc\\uc7a0\\uc0ac\",\"\\ub9cc\\uc7a0\\uc544\",\"\\ub9cc\\ud615\\uc790\",\"\\ub9dd\\uc18c\",\"\\ub9dd\\ucd08\",\"\\ub9e4\\ud654\\ub1cc\\uc790\",\"\\ub9e5\\ubb38\\ub3d9\",\"\\ub9e5\\uc544\",\"\\ub9e5\\uc5bc\",\"\\ub9f9\\ucda9\",\"\\uba74\\uacac\",\"\\uba74\\ud669\\uae30\",\"\\uba85\\uad50\",\"\\uba85\\ubc18\",\"\\uba85\\ubc31\\ubc18\",\"\\ubaa8\\uacfc\",\"\\ubaa8\\uadfc\",\"\\ubaa8\\ub824\",\"\\ubaa8\\uc815\\ud5a5\",\"\\ubaa8\\ud5a5\",\"\\ubaa9\\ub2e8\",\"\\ubaa9\\ub2e8\\ud53c\",\"\\ubaa9\\ubcc4\",\"\\ubaa9\\ubcc4\\uc790\",\"\\ubaa9\\uc774\",\"\\ubaa9\\uc801\",\"\\ubaa9\\ud1b5\",\"\\ubaa9\\ud5a5\",\"\\ubab0\\uc11d\\uc790\",\"\\ubab0\\uc57d\",\"\\ubabd\\uc11d\",\"\\ubb34\\uad81\",\"\\ubb34\\uc774\",\"\\ubb34\\ud68c\\uc8fc\",\"\\ubb38\\ud569\",\"\\ubbf8\\ucd08\",\"\\ubc00\\ubabd\\ud654\",\"\\ubc00\\ud0c0\\uc2b9\",\"\\ubc15\\uacc4\",\"\\ubc15\\uc18c\",\"\\ubc15\\ucd08\",\"\\ubc15\\ud558\",\"\\ubc15\\ud558\\uc5fd\",\"\\ubc15\\ud558\\uc720\",\"\\ubc18\\ubaa8\",\"\\ubc18\\ubb18\",\"\\ubc18\\uc11d\",\"\\ubc18\\ud558\",\"\\ubc18\\ud558\\uad6d\",\"\\ubc1c\\ud68c\",\"\\ubc29\\uae30\",\"\\ubc29\\ubd84\",\"\\ubc29\\ud48d\",\"\\ubc31\\uac15\",\"\\ubc31\\uac15\\uc7a0\",\"\\ubc31\\uac1c\\uc790\",\"\\ubc31\\uacac\\uc6b0\",\"\\ubc31\\uacfc\",\"\\ubc31\\uad50\\ud5a5\",\"\\ubc31\\uad6d\",\"\\ubc31\\uad6d\\ud654\",\"\\ubc31\\uaddc\\ud654\",\"\\ubc31\\uae09\",\"\\ubc31\\ub2e8\",\"\\ubc31\\ub2e8\\ud5a5\",\"\\ubc31\\ub450\\uad6c\",\"\\ubc31\\ub450\\uad6c\\uc778\",\"\\ubc31\\ub450\\uc639\",\"\\ubc31\\ub78d\",\"\\ubc31\\ub834\",\"\\ubc31\\uba74\",\"\\ubc31\\ubaa8\\uadfc\",\"\\ubc31\\ubb34\\uc774\",\"\\ubc31\\ubbf8\",\"\\ubc31\\ubc00\",\"\\ubc31\\ubc18\",\"\\ubc31\\ubcf5\\ub839\",\"\\ubc31\\ubcf5\\uc2e0\",\"\\ubc31\\ubd80\\uadfc\",\"\\ubc31\\ubd80\\uc790\",\"\\ubc31\\ube44\",\"\\ubc31\\ube48\\ub791\",\"\\ubc31\\uc0ac\\ub2f9\",\"\\ubc31\\uc11d\\uc601\",\"\\ubc31\\uc11d\\uc9c0\",\"\\ubc31\\uc120\\ud53c\",\"\\ubc31\\uc57d\\uc804\",\"\\ubc31\\uc5fc\",\"\\ubc31\\uc5fd\",\"\\ubc31\\uc6a9\\uace8\",\"\\ubc31\\uc790\\uc778\",\"\\ubc31\\uc791\",\"\\ubc31\\uc791\\uc57d\",\"\\ubc31\\uc815\\ud5a5\",\"\\ubc31\\uc9c0\",\"\\ubc31\\uc9c8\\ub824\",\"\\ubc31\\ucd08\\uc0c1\",\"\\ubc31\\ucd95\",\"\\ubc31\\ucd9c\",\"\\ubc31\\ud3b8\\ub450\",\"\\ubc31\\ud558\\uc218\\uc624\",\"\\ubc31\\ud569\",\"\\ubc31\\ud654\\uc0ac\",\"\\ubc31\\ud65c\\uc11d\",\"\\ubcc0\\ud5a5\\ubd80\",\"\\ubcc4\\uac11\",\"\\ubcf4\\uace8\\uc9c0\",\"\\ubcf5\\ub839\",\"\\ubcf5\\ub839\\ud53c\",\"\\ubcf5\\ub8e1\\uac04\",\"\\ubcf5\\ubd84\\uc790\",\"\\ubcf5\\uc2e0\",\"\\ubd09\\ubc00\",\"\\ubd09\\ubc29\",\"\\ubd09\\uc120\",\"\\ubd09\\uc544\\ubb34\",\"\\ubd09\\uc544\\ucd9c\",\"\\ubd09\\ucd9c\",\"\\ubd80\\uc6a9\\uc5fd\",\"\\ubd80\\uc790\",\"\\ubd80\\uc800\\ub9e4\",\"\\ubd80\\ud3c9\",\"\\ubd81\\uc138\\uc2e0\",\"\\ubd81\\uc2dc\\ud638\",\"\\ubd84\\uc0c1\",\"\\ubd84\\ucd08\",\"\\ubd88\\uc774\\ucd08\",\"\\ubd95\\uc0ac\",\"\\ube44\\ub9c8\\uc790\",\"\\ube44\\uc0c1\",\"\\ube44\\uc790\",\"\\ube44\\ud30c\\uc5fd\",\"\\ube44\\ud574\",\"\\ube48\\ub791\",\"\\ube59\\ud3b8\",\"\\uc0ac\\uac04\",\"\\uc0ac\\uacfc\",\"\\uc0ac\\uad70\\uc790\",\"\\uc0ac\\uad70\\uc790\\uc721\",\"\\uc0ac\\ub2f9\",\"\\uc0ac\\uc0bc\",\"\\uc0ac\\uc0c1\\uc790\",\"\\uc0ac\\uc6d0\\uc9c8\\ub824\",\"\\uc0ac\\uc778\",\"\\uc0ac\\ud0dc\",\"\\uc0ac\\ud1f4\",\"\\uc0ac\\ud568\\uc11d\",\"\\uc0ac\\ud5a5\",\"\\uc0b0\\ub450\\uadfc\",\"\\uc0b0\\uc0ac\",\"\\uc0b0\\uc0ac\\uc721\",\"\\uc0b0\\uc0ac\\uc790\",\"\\uc0b0\\uc11d\\ub958\\ud53c\",\"\\uc0b0\\uc218\\uc720\",\"\\uc0b0\\uc218\\uc720\\uc721\",\"\\uc0b0\\uc57d\",\"\\uc0b0\\uc790\\uace0\",\"\\uc0b0\\uc870\\uc778\",\"\\uc0b0\\uce58\",\"\\uc0b0\\uce58\\uc778\",\"\\uc0b0\\uce58\\uc790\",\"\\uc0b0\\uce58\\uc790\\uc778\",\"\\uc0bc\\ub0b4\",\"\\uc0bc\\ub989\",\"\\uc0bc\\ubaa9\\uc808\",\"\\uc0c1\\uae30\\uc0dd\",\"\\uc0c1\\ub959\",\"\\uc0c1\\ub9e4\",\"\\uc0c1\\ubc31\\ud53c\",\"\\uc0c1\\uc0b0\",\"\\uc0c1\\uc544\",\"\\uc0c1\\uc5fd\",\"\\uc0c1\\uc9c0\",\"\\uc0c1\\ud45c\\ucd08\",\"\\uc0c1\\ud53c\",\"\\uc0dd\\uac15\",\"\\uc0dd\\uac15\\uc999\",\"\\uc0dd\\uac15\\ud53c\",\"\\uc0dd\\uac74\\uc9c0\\ud669\",\"\\uc0dd\\ubc31\\ubc18\",\"\\uc0dd\\uc6a9\\ub1cc\",\"\\uc0dd\\uc720\\ud669\",\"\\uc0dd\\uc9c0\\ud669\",\"\\uc0dd\\ud669\\uae08\",\"\\uc11c\\uac01\",\"\\uc11c\\uac01\\uc124\",\"\\uc11c\\uc810\\uc790\",\"\\uc11d\\uacb0\\uba85\",\"\\uc11d\\uace0\",\"\\uc11d\\uace1\",\"\\uc11d\\ub0a8\\uc5fd\",\"\\uc11d\\ub828\\uc721\",\"\\uc11d\\ub828\\uc790\",\"\\uc11d\\ub958\\ud53c\",\"\\uc11d\\uc5f0\",\"\\uc11d\\uc5f0\\uc721\",\"\\uc11d\\uc6c5\\ud669\",\"\\uc11d\\uc704\",\"\\uc11d\\uc720\\ud669\",\"\\uc11d\\uc885\\uc720\",\"\\uc11d\\ucc3d\\ud3ec\",\"\\uc11d\\ud68c\",\"\\uc120\\uac01\",\"\\uc120\\ub839\\ube44\",\"\\uc120\\ubaa8\",\"\\uc120\\ubaa8\\uacfc\",\"\\uc120\\ubaa8\\uc0bc\",\"\\uc120\\ubcf5\\ud654\",\"\\uc120\\uc5b4\",\"\\uc120\\ud0dc\",\"\\uc120\\ud1f4\",\"\\uc124\\ub9ac\\uc999\",\"\\uc12c\\ub450\",\"\\uc12c\\uc218\",\"\\uc12c\\uc5ec\",\"\\uc138\\ub2e4\",\"\\uc138\\uc2e0\",\"\\uc18c\\uacbd\",\"\\uc18c\\uacc4\",\"\\uc18c\\ub1cc\",\"\\uc18c\\ub9e5\",\"\\uc18c\\ub9e5\\ub178\",\"\\uc18c\\ubaa9\",\"\\uc18c\\ubd84\",\"\\uc18c\\uc11d\",\"\\uc18c\\uc5fd\",\"\\uc18c\\uc790\",\"\\uc18c\\ucd08\",\"\\uc18c\\ud569\\uc720\",\"\\uc18c\\ud569\\ud5a5\",\"\\uc18c\\ud569\\ud5a5\\uc720\",\"\\uc18c\\ud68c\\ud5a5\",\"\\uc18d\\uac01\",\"\\uc18d\\ub2e8\",\"\\uc18d\\ubbf8\",\"\\uc18d\\uc218\\uc790\",\"\\uc1a1\\uc790\\uc778\",\"\\uc1a1\\uc808\",\"\\uc1a1\\uc9c0\",\"\\uc1a1\\ud654\",\"\\uc1c4\\uc591\",\"\\uc218\\ubd84\",\"\\uc218\\uc720\",\"\\uc218\\uc740\",\"\\uc218\\uc9c8\",\"\\uc218\\ud64d\\ud654\\uc790\",\"\\uc219\\uac74\\uc9c0\\ud669\",\"\\uc219\\uc560\",\"\\uc219\\uc9c0\\ud669\",\"\\uc2b9\\ub9c8\",\"\\uc2dc\\uc0c1\",\"\\uc2dc\\uccb4\",\"\\uc2dc\\ud638\",\"\\uc2dd\\uc218\\uc720\",\"\\uc2dd\\uc5fc\",\"\\uc2e0\\uace1\",\"\\uc2e0\\uad6d\",\"\\uc2e0\\uae09\\uc218\",\"\\uc2e0\\ube44\",\"\\uc2e0\\uc11d\",\"\\uc2e0\\uc774\",\"\\uc2e0\\uc774\\ud654\",\"\\uc544\\uad50\",\"\\uc544\\uad50\\uc8fc\",\"\\uc544\\ub2e4\",\"\\uc544\\ubb34\",\"\\uc544\\uc18c\",\"\\uc544\\uc704\",\"\\uc544\\uc870\",\"\\uc544\\ucd08\",\"\\uc544\\ucd9c\",\"\\uc545\\uc2e4\",\"\\uc548\\uc2dd\\ud5a5\",\"\\uc560\\uc5fd\",\"\\uc575\\uc18d\\uac01\",\"\\uc57c\\uba85\\uc0ac\",\"\\uc591\\uac04\",\"\\uc591\\uac15\",\"\\uc591\\uacbd\\uace8\",\"\\uc591\\uae30\\uc11d\",\"\\uc591\\ub450\\ucca8\",\"\\uc591\\uc0c1\\uc9c4\",\"\\uc591\\uc2e0\",\"\\uc591\\uc721\",\"\\uc5b4\\uad50\",\"\\uc5b4\\ubbf8\\uac01\",\"\\uc5ec\\ub85c\",\"\\uc5ec\\uc9c0\\ud575\",\"\\uc5f0\\uad50\",\"\\uc5f0\\uadfc\",\"\\uc5f0\\ubd84\",\"\\uc5f0\\uc11d\\uace0\",\"\\uc5f0\\uc608\",\"\\uc5f0\\uc721\",\"\\uc5f0\\uc790\",\"\\uc5f0\\uc790\\uc721\",\"\\uc5f0\\uc9c0\",\"\\uc5f0\\ud638\\uc0c9\",\"\\uc5f0\\ud654\\uc218\",\"\\uc5f0\\ud654\\uc608\",\"\\uc5fc\\ucd08\",\"\\uc5fc\\ud654\",\"\\uc601\\ub989\\ud5a5\",\"\\uc601\\uc0ac\",\"\\uc601\\uc591\\uac01\",\"\\uc624\\uac00\\ud53c\",\"\\uc624\\uacc4\\ub780\",\"\\uc624\\uacf5\",\"\\uc624\\ub450\",\"\\uc624\\ub839\\uc9c0\",\"\\uc624\\ub9e4\",\"\\uc624\\ub9e4\\uc721\",\"\\uc624\\ubbf8\",\"\\uc624\\ubbf8\\uc790\",\"\\uc624\\ubc30\\uc790\",\"\\uc624\\uc0ac\",\"\\uc624\\uc0ac\\uc721\",\"\\uc624\\uc11c\\uac01\",\"\\uc624\\uc218\\uc720\",\"\\uc624\\uc57d\",\"\\uc624\\uc801\\uc5b4\\uace8\",\"\\uc624\\ucd08\\uc0ac\",\"\\uc62c\\ub20c\\uc81c\",\"\\uc640\\uc6b0\",\"\\uc655\\ubd88\\ub958\\ud589\",\"\\uc678\\uac15\",\"\\uc694\\uc0ac\",\"\\uc6a9\\uace8\",\"\\uc6a9\\ub1cc\",\"\\uc6a9\\ub2f4\",\"\\uc6a9\\ub2f4\\ucd08\",\"\\uc6a9\\uc548\\uc721\",\"\\uc6a9\\uce58\",\"\\uc6b0\\uac01\\uc0c8\",\"\\uc6b0\\ub2f4\",\"\\uc6b0\\ub2f4\\ub0a8\\uc131\",\"\\uc6b0\\ubc29\\uc790\",\"\\uc6b0\\uc2ac\",\"\\uc6b0\\uc5ec\\ub7c9\",\"\\uc6b0\\uc720\",\"\\uc6b0\\uc721\",\"\\uc6b0\\uc808\",\"\\uc6b0\\uc999\",\"\\uc6b0\\ud669\",\"\\uc6b1\\ub9ac\\uc778\",\"\\uc6b4\\ubaa8\",\"\\uc6b8\\uae08\",\"\\uc6c5\\ub2f4\",\"\\uc6c5\\ud669\",\"\\uc6c5\\ud751\\ub450\",\"\\uc6d0\\uba85\\ubd84\",\"\\uc6d0\\uc0bc\",\"\\uc6d0\\uc9c0\",\"\\uc6d0\\uccad\",\"\\uc6d0\\ud654\",\"\\uc6d4\\uc11d\",\"\\uc704\\ub839\\uc120\",\"\\uc704\\uc720\",\"\\uc704\\ud53c\",\"\\uc720\\uae30\\ub178\",\"\\uc720\\ubc1c\\ud68c\",\"\\uc720\\ubc31\\ud53c\",\"\\uc720\\uc778\",\"\\uc720\\uc9c0\",\"\\uc720\\ud5a5\",\"\\uc720\\ud669\",\"\\uc721\\uacc4\",\"\\uc721\\ub450\\uad6c\",\"\\uc721\\uc885\\uc6a9\",\"\\uc740\\ubc15\",\"\\uc740\\uc2dc\\ud638\",\"\\uc740\\uc8fc\",\"\\uc74c\\uc591\\uacfd\",\"\\uc758\\uc774\\uc778\",\"\\uc774\\ub2f9\",\"\\uc774\\ubd84\",\"\\uc774\\uc5b4\",\"\\uc774\\uc5b4\\ub2f4\",\"\\uc775\\ubaa8\\ucd08\",\"\\uc775\\uc9c0\",\"\\uc775\\uc9c0\\uc778\",\"\\uc778\\ub1e8\",\"\\uc778\\ub3d9\",\"\\uc778\\ub3d9\\ub4f1\",\"\\uc778\\ub3d9\\ucd08\",\"\\uc778\\uc0bc\",\"\\uc778\\uc720\",\"\\uc778\\uc911\\ubc31\",\"\\uc778\\uc911\\ud669\",\"\\uc778\\uc9c4\",\"\\uc778\\uc9c4\\ud638\",\"\\uc790\\uac10\\ucd08\",\"\\uc790\\uae08\",\"\\uc790\\uae08\\ud53c\",\"\\uc790\\ub2e8\\ud5a5\",\"\\uc790\\ubc30\\ubd80\\ud3c9\",\"\\uc790\\uc0bc\",\"\\uc790\\uc11d\",\"\\uc790\\uc11d\\uc601\",\"\\uc790\\uc18c\",\"\\uc790\\uc18c\\uc5fd\",\"\\uc790\\uc18c\\uc790\",\"\\uc790\\uc5f0\\ub3d9\",\"\\uc790\\uc644\",\"\\uc790\\uc644\\uc6a9\",\"\\uc790\\uc6d0\",\"\\uc790\\uc704\\ud53c\",\"\\uc790\\ucd08\",\"\\uc790\\ucd08\\uc6a9\",\"\\uc790\\ucda9\",\"\\uc790\\ud558\\uac70\",\"\\uc790\\ud654\\uc9c0\\uc815\",\"\\uc790\\ud669\",\"\\uc791\\uc57d\",\"\\uc7a0\\uacac\",\"\\uc7a0\\ud1f4\",\"\\uc7a0\\ud1f4\\uc9c0\",\"\\uc7a5\\ub1cc\",\"\\uc800\\uac04\",\"\\uc800\\uace0\",\"\\uc800\\uadfc\",\"\\uc800\\uadfc\\ubc31\\ud53c\",\"\\uc800\\uadfc\\ud53c\",\"\\uc800\\ub2f4\",\"\\uc800\\ub2f4\\uc999\",\"\\uc800\\ub450\",\"\\uc800\\ub839\",\"\\uc800\\uc2e4\",\"\\uc800\\uc2e4\\uc790\",\"\\uc800\\uc2ec\",\"\\uc800\\uc544\\uc870\\uac01\",\"\\uc800\\uc694\\uc790\",\"\\uc800\\uc81c\",\"\\uc800\\uc81c\\uac11\",\"\\uc800\\uc9c0\",\"\\uc800\\ud604\\uc81c\",\"\\uc801\\ub450\",\"\\uc801\\ubcf5\\ub839\",\"\\uc801\\uc11d\\uc9c0\",\"\\uc801\\uc18c\\ub450\",\"\\uc801\\uc791\",\"\\uc801\\uc791\\uc57d\",\"\\uc801\\uc804\",\"\\uc801\\ud558\\uc218\\uc624\",\"\\uc804\\uac08\",\"\\uc804\\ub77c\",\"\\uc804\\ud638\",\"\\uc808\\ud328\\ubaa8\",\"\\uc815\\ub825\\uc790\",\"\\uc815\\ubd84\",\"\\uc815\\ud53c\",\"\\uc815\\ud5a5\",\"\\uc815\\ud5a5\\ud53c\",\"\\uc81c\\uc870\",\"\\uc870\\uac01\",\"\\uc870\\uac01\\uc778\",\"\\uc870\\uac01\\uc790\",\"\\uc870\\uad6c\\ub4f1\",\"\\uc870\\uae08\",\"\\uc870\\ub1cc\",\"\\uc870\\ub3cc\\ubb35\",\"\\uc870\\ubc18\",\"\\uc870\\uc720\\uadfc\",\"\\uc870\\ud611\",\"\\uc885\\ub824\\ud53c\",\"\\uc885\\uc6a9\",\"\\uc8fc\\uae08\",\"\\uc8fc\\uc0ac\",\"\\uc8fd\\ub825\",\"\\uc8fd\\uc5ec\",\"\\uc8fd\\uc5fd\",\"\\uc989\\uc5b4\",\"\\uc9c0\\uac01\",\"\\uc9c0\\uace8\\ud53c\",\"\\uc9c0\\ub8e1\",\"\\uc9c0\\ub9c8\",\"\\uc9c0\\ubaa8\",\"\\uc9c0\\ubd80\\uc790\",\"\\uc9c0\\uc2e4\",\"\\uc9c0\\uc720\",\"\\uc9c0\\uc8fc\",\"\\uc9c0\\ud669\",\"\\uc9c4\\uad50\",\"\\uc9c4\\uade4\\ud53c\",\"\\uc9c4\\ubbf8\",\"\\uc9c4\\uc0ac\",\"\\uc9c4\\uc560\\uc5fd\",\"\\uc9c4\\uc8fc\",\"\\uc9c4\\uc8fc\\ubaa8\",\"\\uc9c4\\ucc3d\\ubbf8\",\"\\uc9c4\\ud53c\",\"\\uc9c8\\ub824\\uc790\",\"\\ucc28\\uc804\\uc790\",\"\\ucc3d\\uc774\",\"\\ucc3d\\uc774\\uc790\",\"\\ucc3d\\uc774\\ucd08\",\"\\ucc3d\\ucd9c\",\"\\ucc3d\\ud3ec\",\"\\ucc99\\ucd09\\ud654\",\"\\ucc9c\\uac15\",\"\\ucc9c\\uac74\\uac15\",\"\\ucc9c\\uad81\",\"\\ucc9c\\uadc0\",\"\\ucc9c\\uadfc\",\"\\ucc9c\\ub0a8\\uc131\",\"\\ucc9c\\ub3d9\",\"\\ucc9c\\ub828\",\"\\ucc9c\\ub828\\uc721\",\"\\ucc9c\\ub828\\uc790\",\"\\ucc9c\\ub839\\uac1c\",\"\\ucc9c\\ub9c8\",\"\\ucc9c\\ubb38\\ub3d9\",\"\\ucc9c\\uc0b0\\uac11\",\"\\ucc9c\\uc120\\ub4f1\",\"\\ucc9c\\uc18d\\ub2e8\",\"\\ucc9c\\uc624\",\"\\ucc9c\\uc624\\ub450\",\"\\ucc9c\\uc624\\ucca8\",\"\\ucc9c\\uc6b0\\uc2ac\",\"\\ucc9c\\uc6c5\",\"\\ucc9c\\uc7a5\\uc790\",\"\\ucc9c\\ucd08\",\"\\ucc9c\\ucd08\\uadfc\",\"\\ucc9c\\ucd95\\ud669\",\"\\ucc9c\\ud0dc\\uc624\\uc57d\",\"\\ucc9c\\ud328\\ubaa8\",\"\\ucc9c\\ud654\\ubd84\",\"\\ucc9c\\ud669\\ub828\",\"\\ucca0\\ubd84\",\"\\ucca0\\uc724\\ubd84\",\"\\ucca8\\uc815\\ub825\",\"\\uccad\\uade4\\ud53c\",\"\\uccad\\ub300\",\"\\uccad\\ubaa9\\ud5a5\",\"\\uccad\\ubabd\\uc11d\",\"\\uccad\\ubc18\",\"\\uccad\\uc0c1\\uc790\",\"\\uccad\\uc0c1\\ud53c\",\"\\uccad\\uc591\\ub2f4\",\"\\uccad\\uc5b4\\ub2f4\",\"\\uccad\\uc5fc\",\"\\uccad\\uc720\",\"\\uccad\\uc8fc\",\"\\uccad\\uc8fd\\uc5ec\",\"\\uccad\\ud53c\",\"\\uccad\\ud638\",\"\\ucd08\\uacb0\\uba85\",\"\\ucd08\\uacfc\",\"\\ucd08\\uacfc\\uc778\",\"\\ucd08\\ub450\\uad6c\",\"\\ucd08\\ubaa9\",\"\\ucd08\\uc11d\",\"\\ucd08\\uc624\",\"\\ucd08\\uc6a9\\ub2f4\",\"\\ucd09\\ucd08\",\"\\ucd1d\\ubc31\",\"\\ucd94\\uc11d\",\"\\ucd95\\uc0ac\",\"\\ucd95\\uc0ac\\uc778\",\"\\ucd98\\uadfc\\ubc31\\ud53c\",\"\\ucda9\\uc704\\uc790\",\"\\uce21\\ubc31\",\"\\uce21\\ubc31\\uc5fd\",\"\\uce58\\uc790\",\"\\uce58\\uc790\\uc778\",\"\\uce68\\uc0ac\",\"\\uce68\\ud5a5\",\"\\ud0dc\\uc74c\\ud604\\uc815\\uc11d\",\"\\ud0dd\\ub780\",\"\\ud0dd\\ub780\\uc5fd\",\"\\ud0dd\\uc0ac\",\"\\ud1a0\\uacfc\\uadfc\",\"\\ud1a0\\uad6c\",\"\\ud1a0\\ubaa9\\ud5a5\",\"\\ud1a0\\ubcf5\\ub839\",\"\\ud1a0\\ubd09\\ubc29\",\"\\ud1a0\\uc0ac\\uc790\",\"\\ud1b5\\ucd08\",\"\\ud30c\\uace0\\uc9c0\",\"\\ud30c\\uadf9\",\"\\ud30c\\uadf9\\uc721\",\"\\ud30c\\uadf9\\ucc9c\",\"\\ud30c\\ub450\",\"\\ud30c\\ub450\\uc0c1\",\"\\ud30c\\ub450\\uc721\",\"\\ud30c\\ub450\\uc778\",\"\\ud310\\ub78c\\uadfc\",\"\\ud314\\uac01\\ud68c\\ud5a5\",\"\\ud328\\ubaa8\",\"\\ud328\\uc7a5\",\"\\ud328\\uc885\",\"\\ud3b8\\uae08\",\"\\ud3b8\\ub1cc\",\"\\ud3b8\\ub450\",\"\\ud3b8\\ubcf5\",\"\\ud3b8\\uc790\\uac15\\ud669\",\"\\ud3b8\\ucd95\",\"\\ud3ec\\uacf5\\uc601\",\"\\ud3ec\\ubd80\\uc790\",\"\\ud3ec\\ud669\",\"\\ud48d\\ud654\\uc11d\\ud68c\",\"\\ud48d\\ud654\\ucd08\",\"\\ud544\\ubc1c\",\"\\ud544\\uc9d5\\uac00\",\"\\ud558\\uace0\\ucd08\",\"\\ud558\\ub9c8\",\"\\ud558\\uc218\\uc624\",\"\\ud558\\uc5fd\",\"\\ud559\\uc2ac\",\"\\ud55c\\ub828\\ucd08\",\"\\ud55c\\uc218\\uc11d\",\"\\ud55c\\uc2dd\\uba74\",\"\\ud569\\uac1c\",\"\\ud569\\ubd84\",\"\\ud569\\ud658\\ud53c\",\"\\ud574\\uae08\\uc0ac\",\"\\ud574\\ub300\",\"\\ud574\\ub3d9\\ud53c\",\"\\ud574\\ubc31\",\"\\ud574\\ubd84\",\"\\ud574\\uc11d\",\"\\ud574\\uc1a1\\uc790\",\"\\ud574\\uc544\\ub2e4\",\"\\ud574\\uc870\",\"\\ud574\\ud45c\\uc18c\",\"\\ud574\\ud569\",\"\\ud574\\ud569\\ubd84\",\"\\ud589\\uc778\",\"\\ud5a5\\ubc31\\uc9c0\",\"\\ud5a5\\ubd80\",\"\\ud5a5\\ubd80\\ubbf8\",\"\\ud5a5\\ubd80\\uc790\",\"\\ud5a5\\uc2dc\",\"\\ud5a5\\uc5ec\",\"\\ud5a5\\uc720\",\"\\ud604\\uba85\\ubd84\",\"\\ud604\\uc0bc\",\"\\ud604\\ud638\\uc0c9\",\"\\ud608\\uac08\",\"\\ud608\\uc5ec\",\"\\ud615\\uac1c\",\"\\ud615\\uac1c\\uc218\",\"\\ud615\\uc0bc\\ub989\",\"\\ud638\\uacbd\\uace8\",\"\\ud638\\uace8\",\"\\ud638\\ub3c4\",\"\\ud638\\ub3c4\\uc721\",\"\\ud638\\ub3c4\\uc778\",\"\\ud638\\ub3d9\\ub8e8\",\"\\ud638\\ub85c\\ud30c\",\"\\ud638\\ub9c8\",\"\\ud638\\ub9c8\\uc790\",\"\\ud638\\ubc15\",\"\\ud638\\ubc18\\uc720\\uc0ac\",\"\\ud638\\ubd84\",\"\\ud638\\uc7a5\\uadfc\",\"\\ud638\\ucd08\",\"\\ud638\\ud669\\ub828\",\"\\ud64d\\uad6d\",\"\\ud64d\\ub0b4\\uc18c\",\"\\ud64d\\ub450\",\"\\ud64d\\uc544\\ub300\\uadf9\",\"\\ud64d\\uc870\",\"\\ud64d\\ucd08\",\"\\ud64d\\ud654\",\"\\ud654\\ub9c8\\uc778\",\"\\ud654\\uc608\\uc11d\",\"\\ud654\\ud53c\",\"\\ud65c\\uc11d\",\"\\ud669\\uacfc\\ub8e8\",\"\\ud669\\uad6c\",\"\\ud669\\uae08\",\"\\ud669\\uae30\",\"\\ud669\\ub2e8\",\"\\ud669\\ub78d\",\"\\ud669\\ub828\",\"\\ud669\\ubc31\",\"\\ud669\\ubc31\\ud53c\",\"\\ud669\\ubcbd\",\"\\ud669\\ubcbd\\ud53c\",\"\\ud669\\uc57d\\uc790\",\"\\ud669\\uc815\",\"\\ud669\\ud5a5\",\"\\ud68c\\uc0b0\\uc57d\",\"\\ud68c\\uc0dd\\uc9c0\\ud669\",\"\\ud68c\\uc219\\uc9c0\\ud669\",\"\\ud68c\\ud5a5\",\"\\ud6c4\\ubc15\",\"\\ud751\\uacac\\uc6b0\",\"\\ud751\\uacac\\uc6b0\\uc790\",\"\\ud751\\uad6c\\ucc99\",\"\\ud751\\ub450\",\"\\ud751\\ubd80\\uc790\",\"\\ud751\\uc11d\",\"\\ud751\\uc5f0\",\"\\ud751\\ucd95\",\"\\ud76c\\ub834\",\"\\ud76c\\ub834\\ucd08\"],\"x\":{\"__ndarray__\":\"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\",\"dtype\":\"float32\",\"shape\":[916]},\"y\":{\"__ndarray__\":\"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\",\"dtype\":\"float32\",\"shape\":[916]}},\"selected\":{\"id\":\"1073\",\"type\":\"Selection\"},\"selection_policy\":{\"id\":\"1074\",\"type\":\"UnionRenderers\"}},\"id\":\"1002\",\"type\":\"ColumnDataSource\"},{\"attributes\":{},\"id\":\"1027\",\"type\":\"WheelZoomTool\"},{\"attributes\":{},\"id\":\"1015\",\"type\":\"BasicTicker\"},{\"attributes\":{},\"id\":\"1073\",\"type\":\"Selection\"},{\"attributes\":{\"callback\":null},\"id\":\"1006\",\"type\":\"DataRange1d\"},{\"attributes\":{\"fill_alpha\":{\"value\":0.1},\"fill_color\":{\"value\":\"#1f77b4\"},\"line_alpha\":{\"value\":0.1},\"line_color\":{\"value\":\"#1f77b4\"},\"radius\":{\"units\":\"data\",\"value\":1},\"x\":{\"field\":\"x\"},\"y\":{\"field\":\"y\"}},\"id\":\"1065\",\"type\":\"Circle\"},{\"attributes\":{},\"id\":\"1028\",\"type\":\"ZoomInTool\"},{\"attributes\":{},\"id\":\"1074\",\"type\":\"UnionRenderers\"},{\"attributes\":{},\"id\":\"1029\",\"type\":\"ZoomOutTool\"},{\"attributes\":{\"callback\":null},\"id\":\"1008\",\"type\":\"DataRange1d\"},{\"attributes\":{\"overlay\":{\"id\":\"1045\",\"type\":\"BoxAnnotation\"}},\"id\":\"1030\",\"type\":\"BoxZoomTool\"},{\"attributes\":{},\"id\":\"1010\",\"type\":\"LinearScale\"},{\"attributes\":{\"data_source\":{\"id\":\"1002\",\"type\":\"ColumnDataSource\"},\"glyph\":{\"id\":\"1064\",\"type\":\"Circle\"},\"hover_glyph\":null,\"muted_glyph\":null,\"nonselection_glyph\":{\"id\":\"1065\",\"type\":\"Circle\"},\"selection_glyph\":null,\"view\":{\"id\":\"1067\",\"type\":\"CDSView\"}},\"id\":\"1066\",\"type\":\"GlyphRenderer\"},{\"attributes\":{},\"id\":\"1031\",\"type\":\"UndoTool\"},{\"attributes\":{},\"id\":\"1012\",\"type\":\"LinearScale\"},{\"attributes\":{\"plot\":null,\"text\":\"TF Model\"},\"id\":\"1003\",\"type\":\"Title\"},{\"attributes\":{},\"id\":\"1032\",\"type\":\"RedoTool\"},{\"attributes\":{},\"id\":\"1033\",\"type\":\"ResetTool\"},{\"attributes\":{\"plot\":{\"id\":\"1004\",\"subtype\":\"Figure\",\"type\":\"Plot\"},\"ticker\":{\"id\":\"1015\",\"type\":\"BasicTicker\"}},\"id\":\"1018\",\"type\":\"Grid\"},{\"attributes\":{\"callback\":null},\"id\":\"1034\",\"type\":\"TapTool\"},{\"attributes\":{\"source\":{\"id\":\"1002\",\"type\":\"ColumnDataSource\"}},\"id\":\"1067\",\"type\":\"CDSView\"},{\"attributes\":{},\"id\":\"1035\",\"type\":\"SaveTool\"},{\"attributes\":{\"callback\":null,\"overlay\":{\"id\":\"1053\",\"type\":\"BoxAnnotation\"}},\"id\":\"1036\",\"type\":\"BoxSelectTool\"},{\"attributes\":{\"formatter\":{\"id\":\"1072\",\"type\":\"BasicTickFormatter\"},\"plot\":{\"id\":\"1004\",\"subtype\":\"Figure\",\"type\":\"Plot\"},\"ticker\":{\"id\":\"1020\",\"type\":\"BasicTicker\"}},\"id\":\"1019\",\"type\":\"LinearAxis\"},{\"attributes\":{\"callback\":null,\"overlay\":{\"id\":\"1056\",\"type\":\"PolyAnnotation\"}},\"id\":\"1037\",\"type\":\"PolySelectTool\"},{\"attributes\":{},\"id\":\"1020\",\"type\":\"BasicTicker\"},{\"attributes\":{},\"id\":\"1070\",\"type\":\"BasicTickFormatter\"},{\"attributes\":{\"callback\":null,\"overlay\":{\"id\":\"1059\",\"type\":\"PolyAnnotation\"}},\"id\":\"1038\",\"type\":\"LassoSelectTool\"},{\"attributes\":{\"dimension\":1,\"plot\":{\"id\":\"1004\",\"subtype\":\"Figure\",\"type\":\"Plot\"},\"ticker\":{\"id\":\"1020\",\"type\":\"BasicTicker\"}},\"id\":\"1023\",\"type\":\"Grid\"}],\"root_ids\":[\"1004\"]},\"title\":\"Bokeh Application\",\"version\":\"1.0.4\"}};\n",
       "  var render_items = [{\"docid\":\"ddb9f4b5-5685-4680-be69-20b53728eaab\",\"roots\":{\"1004\":\"a9868535-1fbc-4e0c-af0a-009ef9e27698\"}}];\n",
       "  root.Bokeh.embed.embed_items_notebook(docs_json, render_items);\n",
       "\n",
       "  }\n",
       "  if (root.Bokeh !== undefined) {\n",
       "    embed_document(root);\n",
       "  } else {\n",
       "    var attempts = 0;\n",
       "    var timer = setInterval(function(root) {\n",
       "      if (root.Bokeh !== undefined) {\n",
       "        embed_document(root);\n",
       "        clearInterval(timer);\n",
       "      }\n",
       "      attempts++;\n",
       "      if (attempts > 100) {\n",
       "        console.log(\"Bokeh: ERROR: Unable to run BokehJS code because BokehJS library is missing\");\n",
       "        clearInterval(timer);\n",
       "      }\n",
       "    }, 10, root)\n",
       "  }\n",
       "})(window);"
      ],
      "application/vnd.bokehjs_exec.v0+json": ""
     },
     "metadata": {
      "application/vnd.bokehjs_exec.v0+json": {
       "id": "1004"
      }
     },
     "output_type": "display_data"
    }
   ],
   "source": [
    "show( tsne_plot( transformed_tf, tf_feature_names, \"TF Model\" ) )"
   ]
  },
  {
   "cell_type": "code",
   "execution_count": 24,
   "metadata": {},
   "outputs": [
    {
     "name": "stdout",
     "output_type": "stream",
     "text": [
      "TFIDF TSNE model done in 31.429655s.\n"
     ]
    }
   ],
   "source": [
    "t0 = time()\n",
    "transformed_tfidf = tsne_model_fit_transform( term_vector_via_tfidf.todense() )\n",
    "print( \"TFIDF TSNE model done in {:03f}s.\".format( time() - t0 ) )"
   ]
  },
  {
   "cell_type": "code",
   "execution_count": 25,
   "metadata": {},
   "outputs": [
    {
     "data": {
      "text/html": [
       "\n",
       "\n",
       "\n",
       "\n",
       "\n",
       "\n",
       "  <div class=\"bk-root\" id=\"bb959bff-6e97-4ab1-bfd6-783def00728d\" data-root-id=\"1147\"></div>\n"
      ]
     },
     "metadata": {},
     "output_type": "display_data"
    },
    {
     "data": {
      "application/javascript": [
       "(function(root) {\n",
       "  function embed_document(root) {\n",
       "    \n",
       "  var docs_json = {\"61383c85-24cd-48d2-87a8-8a386e4cc662\":{\"roots\":{\"references\":[{\"attributes\":{\"below\":[{\"id\":\"1157\",\"type\":\"LinearAxis\"}],\"left\":[{\"id\":\"1162\",\"type\":\"LinearAxis\"}],\"renderers\":[{\"id\":\"1157\",\"type\":\"LinearAxis\"},{\"id\":\"1161\",\"type\":\"Grid\"},{\"id\":\"1162\",\"type\":\"LinearAxis\"},{\"id\":\"1166\",\"type\":\"Grid\"},{\"id\":\"1188\",\"type\":\"BoxAnnotation\"},{\"id\":\"1196\",\"type\":\"BoxAnnotation\"},{\"id\":\"1199\",\"type\":\"PolyAnnotation\"},{\"id\":\"1202\",\"type\":\"PolyAnnotation\"},{\"id\":\"1209\",\"type\":\"GlyphRenderer\"}],\"title\":{\"id\":\"1146\",\"type\":\"Title\"},\"toolbar\":{\"id\":\"1182\",\"type\":\"Toolbar\"},\"x_range\":{\"id\":\"1149\",\"type\":\"DataRange1d\"},\"x_scale\":{\"id\":\"1153\",\"type\":\"LinearScale\"},\"y_range\":{\"id\":\"1151\",\"type\":\"DataRange1d\"},\"y_scale\":{\"id\":\"1155\",\"type\":\"LinearScale\"}},\"id\":\"1147\",\"subtype\":\"Figure\",\"type\":\"Plot\"},{\"attributes\":{},\"id\":\"1168\",\"type\":\"CrosshairTool\"},{\"attributes\":{},\"id\":\"1170\",\"type\":\"WheelZoomTool\"},{\"attributes\":{},\"id\":\"1224\",\"type\":\"BasicTickFormatter\"},{\"attributes\":{},\"id\":\"1169\",\"type\":\"PanTool\"},{\"attributes\":{\"data_source\":{\"id\":\"1145\",\"type\":\"ColumnDataSource\"},\"glyph\":{\"id\":\"1207\",\"type\":\"Circle\"},\"hover_glyph\":null,\"muted_glyph\":null,\"nonselection_glyph\":{\"id\":\"1208\",\"type\":\"Circle\"},\"selection_glyph\":null,\"view\":{\"id\":\"1210\",\"type\":\"CDSView\"}},\"id\":\"1209\",\"type\":\"GlyphRenderer\"},{\"attributes\":{\"plot\":null,\"text\":\"TFIDF Model\"},\"id\":\"1146\",\"type\":\"Title\"},{\"attributes\":{},\"id\":\"1176\",\"type\":\"ResetTool\"},{\"attributes\":{\"fill_alpha\":{\"value\":0.5},\"fill_color\":{\"value\":\"lightgrey\"},\"level\":\"overlay\",\"line_alpha\":{\"value\":1.0},\"line_color\":{\"value\":\"black\"},\"line_dash\":[4,4],\"line_width\":{\"value\":2},\"plot\":null,\"xs_units\":\"screen\",\"ys_units\":\"screen\"},\"id\":\"1202\",\"type\":\"PolyAnnotation\"},{\"attributes\":{},\"id\":\"1175\",\"type\":\"RedoTool\"},{\"attributes\":{},\"id\":\"1226\",\"type\":\"BasicTickFormatter\"},{\"attributes\":{},\"id\":\"1227\",\"type\":\"Selection\"},{\"attributes\":{\"overlay\":{\"id\":\"1188\",\"type\":\"BoxAnnotation\"}},\"id\":\"1173\",\"type\":\"BoxZoomTool\"},{\"attributes\":{\"callback\":null,\"data\":{\"label\":[\"\\uac00\\ub824\\ub291\",\"\\uac00\\ub9ac\\ub291\",\"\\uac00\\uc11c\\ubd84\",\"\\uac00\\uc790\",\"\\uac00\\uc790\\uc721\",\"\\uac00\\uc790\\ud53c\",\"\\uac00\\uc790\\ud575\",\"\\uac00\\ud30c\\ucd08\",\"\\uac08\\uadfc\",\"\\uac08\\ubbf8\",\"\\uac08\\uc591\\uac04\",\"\\uac08\\ucd08\",\"\\uac08\\ud654\",\"\\uac10\\uad6c\\uae30\\uc790\",\"\\uac10\\uad6d\",\"\\uac10\\uad6d\\ud654\",\"\\uac10\\ub78c\",\"\\uac10\\uc1a1\",\"\\uac10\\uc1a1\\ud5a5\",\"\\uac10\\uc218\",\"\\uac10\\uc778\",\"\\uac10\\ucd08\",\"\\uac10\\ucd08\\uc808\",\"\\uac10\\ucd08\\ucd08\",\"\\uac15\\ub791\",\"\\uac15\\ubc18\\ud558\",\"\\uac15\\uc7a0\",\"\\uac15\\uc9c4\\ud5a5\",\"\\uac15\\ud45c\",\"\\uac15\\ud65c\",\"\\uac15\\ud669\",\"\\uac31\\ubbf8\",\"\\uac70\\uc2b9\\uc790\",\"\\uac74\\uac08\",\"\\uac74\\uac15\",\"\\uac74\\ubaa8\\uacfc\",\"\\uac74\\uc0b0\\uc57d\",\"\\uac74\\uc0dd\\uac15\",\"\\uac74\\uc12c\",\"\\uac74\\uc5f0\\uc9c0\",\"\\uac74\\uc728\",\"\\uac74\\uc9c0\\ud669\",\"\\uac74\\uce60\",\"\\uac80\\uc2e4\",\"\\uacac\\uc6b0\",\"\\uacac\\uc6b0\\uc790\",\"\\uacb0\\uba85\\uc790\",\"\\uacbd\\ubb35\",\"\\uacbd\\ubd84\",\"\\uacbd\\uc0bc\\ub989\",\"\\uacbd\\uc0c1\\uc0c1\\uc5fd\",\"\\uacc4\\uad00\\ud654\",\"\\uacc4\\ub0b4\\uae08\",\"\\uacc4\\ub780\",\"\\uacc4\\ubd80\\ud65c\\uc11d\",\"\\uacc4\\ube44\\uce58\",\"\\uacc4\\uc18c\",\"\\uacc4\\uc18c\\uc5fd\",\"\\uacc4\\uc2ec\",\"\\uacc4\\uc2ec\\ube48\\ub791\",\"\\uacc4\\uc790\",\"\\uacc4\\uc790\\ud669\",\"\\uacc4\\uc9c0\",\"\\uacc4\\ud53c\",\"\\uace0\\uacbd\",\"\\uace0\\uae08\",\"\\uace0\\uae38\\uacbd\",\"\\uace0\\ub7c9\\uac15\",\"\\uace0\\ub828\\uadfc\",\"\\uace0\\ub828\\uadfc\\ud53c\",\"\\uace0\\ub828\\uc790\",\"\\uace0\\ub828\\ud53c\",\"\\uace0\\ubc18\",\"\\uace0\\ubc31\\ubc18\",\"\\uace0\\ubcf8\",\"\\uace0\\uc0bc\",\"\\uace0\\uc815\\ub825\",\"\\uace1\\uc544\",\"\\uace1\\uc815\\ucd08\",\"\\uace4\\ud3ec\",\"\\uace8\\uc1c4\\ubcf4\",\"\\uacfc\\ub8e8\",\"\\uacfc\\ub8e8\\uadfc\",\"\\uacfc\\ub8e8\\uc2e4\",\"\\uacfc\\ub8e8\\uc778\",\"\\uacfc\\ub8e8\\uc790\",\"\\uacfc\\uccb4\",\"\\uacfd\\ud5a5\",\"\\uacfd\\ud5a5\\uc5fd\",\"\\uad00\\uacc4\",\"\\uad00\\ub3d9\\ud654\",\"\\uad00\\ubd84\",\"\\uad00\\uc911\",\"\\uad04\\ub8e8\\uadfc\",\"\\uad04\\ub8e8\\uc778\",\"\\uad11\\ucd9c\",\"\\uad34\\uac01\",\"\\uad34\\uac01\\uc790\",\"\\uad34\\uc790\",\"\\uad34\\uc9c0\",\"\\uad34\\ud654\",\"\\uad50\\uc774\",\"\\uad6c\\uae30\",\"\\uad6c\\uae30\\uc790\",\"\\uad6c\\ub9e5\",\"\\uad6c\\ub9e5\\uc218\",\"\\uad6c\\uc778\",\"\\uad6c\\uc778\\ubd84\",\"\\uad6c\\uc790\",\"\\uad6c\\ucc44\",\"\\uad6c\\ucc99\",\"\\uad6c\\ud310\",\"\\uad6d\\uc5bc\",\"\\uad6d\\ud654\",\"\\uad81\\uad81\",\"\\uad8c\\ubc31\",\"\\uadc0\\uac01\",\"\\uadc0\\uac11\",\"\\uadc0\\uad6c\",\"\\uadc0\\uc804\\uc6b0\",\"\\uadc0\\ud310\",\"\\uaddc\\uc790\",\"\\uade4\\uc5fd\",\"\\uade4\\ud53c\",\"\\uade4\\ud575\",\"\\uade4\\ud64d\",\"\\uae08\\ub839\\uc790\",\"\\uae08\\ubaa8\\uad6c\\ucc99\",\"\\uae08\\ubb38\\ub300\\ud669\",\"\\uae08\\ubc15\",\"\\uae08\\ubd88\\ucd08\",\"\\uae08\\uc575\\uc790\",\"\\uae08\\uc740\\ubc15\",\"\\uae08\\uc740\\ud654\",\"\\uae30\\ub9b0\\uac08\",\"\\uae38\\uacbd\",\"\\ub098\\ubbf8\",\"\\ub098\\ubbf8\\uc8fc\",\"\\ub098\\ubcf5\",\"\\ub098\\ubcf5\\uc790\",\"\\ub09c\\ubc1c\",\"\\ub0a0\\uacc4\",\"\\ub0a8\\uc131\",\"\\ub0a8\\uc5fd\",\"\\ub0a9\\ub2e4\",\"\\ub0ad\\ub3c5\",\"\\ub0b4\\ubcf5\\uc790\",\"\\ub178\\uac10\\uc11d\",\"\\ub178\\uadfc\",\"\\ub178\\ubd09\\ubc29\",\"\\ub178\\ud68c\",\"\\ub179\\uac01\",\"\\ub179\\uac01\\uad50\",\"\\ub179\\uac01\\uc0c1\",\"\\ub179\\ub450\",\"\\ub179\\ub450\\ubd84\",\"\\ub179\\ubc18\",\"\\ub179\\uc6a9\",\"\\ub1cc\\uc0ac\",\"\\ub1cc\\uc790\",\"\\ub1cc\\ud658\",\"\\ub204\\ub85c\",\"\\ub2e4\\uc5fd\",\"\\ub2e8\\uc0ac\",\"\\ub2e8\\uc0bc\",\"\\ub2e8\\ud5a5\",\"\\ub2f4\\ub450\\uc2dc\",\"\\ub2f4\\ubc18\",\"\\ub2f4\\uc131\",\"\\ub2f4\\uc8fd\\uc5fd\",\"\\ub2f9\\uadc0\",\"\\ub2f9\\uadc0\\ub450\",\"\\ub2f9\\uadc0\\ubbf8\",\"\\ub2f9\\uadc0\\uc2e0\",\"\\ub300\\uacc4\",\"\\ub300\\uadf9\",\"\\ub300\\ub450\",\"\\ub300\\ub450\\ud669\\uad8c\",\"\\ub300\\ub825\\uc790\",\"\\ub300\\ub9c8\\uc778\",\"\\ub300\\ub9e5\\uc5bc\",\"\\ub300\\ubcf5\\uc790\",\"\\ub300\\ubcf5\\ud53c\",\"\\ub300\\uc0b0\",\"\\ub300\\uc790\\uc11d\",\"\\ub300\\uc870\",\"\\ub300\\uc870\\uc721\",\"\\ub300\\ucc9c\\uc624\",\"\\ub300\\uccad\",\"\\ub300\\uccad\\uc5fd\",\"\\ub300\\ud48d\\uc790\",\"\\ub300\\ud669\",\"\\ub3c4\\uad50\",\"\\ub3c4\\ub178\",\"\\ub3c4\\uc778\",\"\\ub3c4\\uc9c0\",\"\\ub3c5\\ud65c\",\"\\ub3d9\\uacfc\\uc778\",\"\\ub3d9\\uaddc\\uc790\",\"\\ub3d9\\ub85d\",\"\\ub3d9\\ubcc0\",\"\\ub3d9\\uccad\",\"\\ub450\\ubc1c\",\"\\ub450\\uc2dc\",\"\\ub450\\uc911\",\"\\ub4f1\\uc2ec\\ucd08\",\"\\ub9c8\\ub450\\ub839\",\"\\ub9c8\\ub9b0\\uc790\",\"\\ub9c8\\ub9b0\\ud654\",\"\\ub9c8\\ubc1c\",\"\\ub9c8\\uc544\\ucd08\",\"\\ub9c8\\uc720\",\"\\ub9c8\\uc778\",\"\\ub9c8\\uc790\\uc778\",\"\\ub9c8\\uce58\\ud604\",\"\\ub9c8\\ud3b8\\ucd08\",\"\\ub9c8\\ud669\",\"\\ub9c8\\ud669\\uadfc\",\"\\ub9cc\\uc7a0\\uc0ac\",\"\\ub9cc\\uc7a0\\uc544\",\"\\ub9cc\\ud615\\uc790\",\"\\ub9dd\\uc18c\",\"\\ub9dd\\ucd08\",\"\\ub9e4\\ud654\\ub1cc\\uc790\",\"\\ub9e5\\ubb38\\ub3d9\",\"\\ub9e5\\uc544\",\"\\ub9e5\\uc5bc\",\"\\ub9f9\\ucda9\",\"\\uba74\\uacac\",\"\\uba74\\ud669\\uae30\",\"\\uba85\\uad50\",\"\\uba85\\ubc18\",\"\\uba85\\ubc31\\ubc18\",\"\\ubaa8\\uacfc\",\"\\ubaa8\\uadfc\",\"\\ubaa8\\ub824\",\"\\ubaa8\\uc815\\ud5a5\",\"\\ubaa8\\ud5a5\",\"\\ubaa9\\ub2e8\",\"\\ubaa9\\ub2e8\\ud53c\",\"\\ubaa9\\ubcc4\",\"\\ubaa9\\ubcc4\\uc790\",\"\\ubaa9\\uc774\",\"\\ubaa9\\uc801\",\"\\ubaa9\\ud1b5\",\"\\ubaa9\\ud5a5\",\"\\ubab0\\uc11d\\uc790\",\"\\ubab0\\uc57d\",\"\\ubabd\\uc11d\",\"\\ubb34\\uad81\",\"\\ubb34\\uc774\",\"\\ubb34\\ud68c\\uc8fc\",\"\\ubb38\\ud569\",\"\\ubbf8\\ucd08\",\"\\ubc00\\ubabd\\ud654\",\"\\ubc00\\ud0c0\\uc2b9\",\"\\ubc15\\uacc4\",\"\\ubc15\\uc18c\",\"\\ubc15\\ucd08\",\"\\ubc15\\ud558\",\"\\ubc15\\ud558\\uc5fd\",\"\\ubc15\\ud558\\uc720\",\"\\ubc18\\ubaa8\",\"\\ubc18\\ubb18\",\"\\ubc18\\uc11d\",\"\\ubc18\\ud558\",\"\\ubc18\\ud558\\uad6d\",\"\\ubc1c\\ud68c\",\"\\ubc29\\uae30\",\"\\ubc29\\ubd84\",\"\\ubc29\\ud48d\",\"\\ubc31\\uac15\",\"\\ubc31\\uac15\\uc7a0\",\"\\ubc31\\uac1c\\uc790\",\"\\ubc31\\uacac\\uc6b0\",\"\\ubc31\\uacfc\",\"\\ubc31\\uad50\\ud5a5\",\"\\ubc31\\uad6d\",\"\\ubc31\\uad6d\\ud654\",\"\\ubc31\\uaddc\\ud654\",\"\\ubc31\\uae09\",\"\\ubc31\\ub2e8\",\"\\ubc31\\ub2e8\\ud5a5\",\"\\ubc31\\ub450\\uad6c\",\"\\ubc31\\ub450\\uad6c\\uc778\",\"\\ubc31\\ub450\\uc639\",\"\\ubc31\\ub78d\",\"\\ubc31\\ub834\",\"\\ubc31\\uba74\",\"\\ubc31\\ubaa8\\uadfc\",\"\\ubc31\\ubb34\\uc774\",\"\\ubc31\\ubbf8\",\"\\ubc31\\ubc00\",\"\\ubc31\\ubc18\",\"\\ubc31\\ubcf5\\ub839\",\"\\ubc31\\ubcf5\\uc2e0\",\"\\ubc31\\ubd80\\uadfc\",\"\\ubc31\\ubd80\\uc790\",\"\\ubc31\\ube44\",\"\\ubc31\\ube48\\ub791\",\"\\ubc31\\uc0ac\\ub2f9\",\"\\ubc31\\uc11d\\uc601\",\"\\ubc31\\uc11d\\uc9c0\",\"\\ubc31\\uc120\\ud53c\",\"\\ubc31\\uc57d\\uc804\",\"\\ubc31\\uc5fc\",\"\\ubc31\\uc5fd\",\"\\ubc31\\uc6a9\\uace8\",\"\\ubc31\\uc790\\uc778\",\"\\ubc31\\uc791\",\"\\ubc31\\uc791\\uc57d\",\"\\ubc31\\uc815\\ud5a5\",\"\\ubc31\\uc9c0\",\"\\ubc31\\uc9c8\\ub824\",\"\\ubc31\\ucd08\\uc0c1\",\"\\ubc31\\ucd95\",\"\\ubc31\\ucd9c\",\"\\ubc31\\ud3b8\\ub450\",\"\\ubc31\\ud558\\uc218\\uc624\",\"\\ubc31\\ud569\",\"\\ubc31\\ud654\\uc0ac\",\"\\ubc31\\ud65c\\uc11d\",\"\\ubcc0\\ud5a5\\ubd80\",\"\\ubcc4\\uac11\",\"\\ubcf4\\uace8\\uc9c0\",\"\\ubcf5\\ub839\",\"\\ubcf5\\ub839\\ud53c\",\"\\ubcf5\\ub8e1\\uac04\",\"\\ubcf5\\ubd84\\uc790\",\"\\ubcf5\\uc2e0\",\"\\ubd09\\ubc00\",\"\\ubd09\\ubc29\",\"\\ubd09\\uc120\",\"\\ubd09\\uc544\\ubb34\",\"\\ubd09\\uc544\\ucd9c\",\"\\ubd09\\ucd9c\",\"\\ubd80\\uc6a9\\uc5fd\",\"\\ubd80\\uc790\",\"\\ubd80\\uc800\\ub9e4\",\"\\ubd80\\ud3c9\",\"\\ubd81\\uc138\\uc2e0\",\"\\ubd81\\uc2dc\\ud638\",\"\\ubd84\\uc0c1\",\"\\ubd84\\ucd08\",\"\\ubd88\\uc774\\ucd08\",\"\\ubd95\\uc0ac\",\"\\ube44\\ub9c8\\uc790\",\"\\ube44\\uc0c1\",\"\\ube44\\uc790\",\"\\ube44\\ud30c\\uc5fd\",\"\\ube44\\ud574\",\"\\ube48\\ub791\",\"\\ube59\\ud3b8\",\"\\uc0ac\\uac04\",\"\\uc0ac\\uacfc\",\"\\uc0ac\\uad70\\uc790\",\"\\uc0ac\\uad70\\uc790\\uc721\",\"\\uc0ac\\ub2f9\",\"\\uc0ac\\uc0bc\",\"\\uc0ac\\uc0c1\\uc790\",\"\\uc0ac\\uc6d0\\uc9c8\\ub824\",\"\\uc0ac\\uc778\",\"\\uc0ac\\ud0dc\",\"\\uc0ac\\ud1f4\",\"\\uc0ac\\ud568\\uc11d\",\"\\uc0ac\\ud5a5\",\"\\uc0b0\\ub450\\uadfc\",\"\\uc0b0\\uc0ac\",\"\\uc0b0\\uc0ac\\uc721\",\"\\uc0b0\\uc0ac\\uc790\",\"\\uc0b0\\uc11d\\ub958\\ud53c\",\"\\uc0b0\\uc218\\uc720\",\"\\uc0b0\\uc218\\uc720\\uc721\",\"\\uc0b0\\uc57d\",\"\\uc0b0\\uc790\\uace0\",\"\\uc0b0\\uc870\\uc778\",\"\\uc0b0\\uce58\",\"\\uc0b0\\uce58\\uc778\",\"\\uc0b0\\uce58\\uc790\",\"\\uc0b0\\uce58\\uc790\\uc778\",\"\\uc0bc\\ub0b4\",\"\\uc0bc\\ub989\",\"\\uc0bc\\ubaa9\\uc808\",\"\\uc0c1\\uae30\\uc0dd\",\"\\uc0c1\\ub959\",\"\\uc0c1\\ub9e4\",\"\\uc0c1\\ubc31\\ud53c\",\"\\uc0c1\\uc0b0\",\"\\uc0c1\\uc544\",\"\\uc0c1\\uc5fd\",\"\\uc0c1\\uc9c0\",\"\\uc0c1\\ud45c\\ucd08\",\"\\uc0c1\\ud53c\",\"\\uc0dd\\uac15\",\"\\uc0dd\\uac15\\uc999\",\"\\uc0dd\\uac15\\ud53c\",\"\\uc0dd\\uac74\\uc9c0\\ud669\",\"\\uc0dd\\ubc31\\ubc18\",\"\\uc0dd\\uc6a9\\ub1cc\",\"\\uc0dd\\uc720\\ud669\",\"\\uc0dd\\uc9c0\\ud669\",\"\\uc0dd\\ud669\\uae08\",\"\\uc11c\\uac01\",\"\\uc11c\\uac01\\uc124\",\"\\uc11c\\uc810\\uc790\",\"\\uc11d\\uacb0\\uba85\",\"\\uc11d\\uace0\",\"\\uc11d\\uace1\",\"\\uc11d\\ub0a8\\uc5fd\",\"\\uc11d\\ub828\\uc721\",\"\\uc11d\\ub828\\uc790\",\"\\uc11d\\ub958\\ud53c\",\"\\uc11d\\uc5f0\",\"\\uc11d\\uc5f0\\uc721\",\"\\uc11d\\uc6c5\\ud669\",\"\\uc11d\\uc704\",\"\\uc11d\\uc720\\ud669\",\"\\uc11d\\uc885\\uc720\",\"\\uc11d\\ucc3d\\ud3ec\",\"\\uc11d\\ud68c\",\"\\uc120\\uac01\",\"\\uc120\\ub839\\ube44\",\"\\uc120\\ubaa8\",\"\\uc120\\ubaa8\\uacfc\",\"\\uc120\\ubaa8\\uc0bc\",\"\\uc120\\ubcf5\\ud654\",\"\\uc120\\uc5b4\",\"\\uc120\\ud0dc\",\"\\uc120\\ud1f4\",\"\\uc124\\ub9ac\\uc999\",\"\\uc12c\\ub450\",\"\\uc12c\\uc218\",\"\\uc12c\\uc5ec\",\"\\uc138\\ub2e4\",\"\\uc138\\uc2e0\",\"\\uc18c\\uacbd\",\"\\uc18c\\uacc4\",\"\\uc18c\\ub1cc\",\"\\uc18c\\ub9e5\",\"\\uc18c\\ub9e5\\ub178\",\"\\uc18c\\ubaa9\",\"\\uc18c\\ubd84\",\"\\uc18c\\uc11d\",\"\\uc18c\\uc5fd\",\"\\uc18c\\uc790\",\"\\uc18c\\ucd08\",\"\\uc18c\\ud569\\uc720\",\"\\uc18c\\ud569\\ud5a5\",\"\\uc18c\\ud569\\ud5a5\\uc720\",\"\\uc18c\\ud68c\\ud5a5\",\"\\uc18d\\uac01\",\"\\uc18d\\ub2e8\",\"\\uc18d\\ubbf8\",\"\\uc18d\\uc218\\uc790\",\"\\uc1a1\\uc790\\uc778\",\"\\uc1a1\\uc808\",\"\\uc1a1\\uc9c0\",\"\\uc1a1\\ud654\",\"\\uc1c4\\uc591\",\"\\uc218\\ubd84\",\"\\uc218\\uc720\",\"\\uc218\\uc740\",\"\\uc218\\uc9c8\",\"\\uc218\\ud64d\\ud654\\uc790\",\"\\uc219\\uac74\\uc9c0\\ud669\",\"\\uc219\\uc560\",\"\\uc219\\uc9c0\\ud669\",\"\\uc2b9\\ub9c8\",\"\\uc2dc\\uc0c1\",\"\\uc2dc\\uccb4\",\"\\uc2dc\\ud638\",\"\\uc2dd\\uc218\\uc720\",\"\\uc2dd\\uc5fc\",\"\\uc2e0\\uace1\",\"\\uc2e0\\uad6d\",\"\\uc2e0\\uae09\\uc218\",\"\\uc2e0\\ube44\",\"\\uc2e0\\uc11d\",\"\\uc2e0\\uc774\",\"\\uc2e0\\uc774\\ud654\",\"\\uc544\\uad50\",\"\\uc544\\uad50\\uc8fc\",\"\\uc544\\ub2e4\",\"\\uc544\\ubb34\",\"\\uc544\\uc18c\",\"\\uc544\\uc704\",\"\\uc544\\uc870\",\"\\uc544\\ucd08\",\"\\uc544\\ucd9c\",\"\\uc545\\uc2e4\",\"\\uc548\\uc2dd\\ud5a5\",\"\\uc560\\uc5fd\",\"\\uc575\\uc18d\\uac01\",\"\\uc57c\\uba85\\uc0ac\",\"\\uc591\\uac04\",\"\\uc591\\uac15\",\"\\uc591\\uacbd\\uace8\",\"\\uc591\\uae30\\uc11d\",\"\\uc591\\ub450\\ucca8\",\"\\uc591\\uc0c1\\uc9c4\",\"\\uc591\\uc2e0\",\"\\uc591\\uc721\",\"\\uc5b4\\uad50\",\"\\uc5b4\\ubbf8\\uac01\",\"\\uc5ec\\ub85c\",\"\\uc5ec\\uc9c0\\ud575\",\"\\uc5f0\\uad50\",\"\\uc5f0\\uadfc\",\"\\uc5f0\\ubd84\",\"\\uc5f0\\uc11d\\uace0\",\"\\uc5f0\\uc608\",\"\\uc5f0\\uc721\",\"\\uc5f0\\uc790\",\"\\uc5f0\\uc790\\uc721\",\"\\uc5f0\\uc9c0\",\"\\uc5f0\\ud638\\uc0c9\",\"\\uc5f0\\ud654\\uc218\",\"\\uc5f0\\ud654\\uc608\",\"\\uc5fc\\ucd08\",\"\\uc5fc\\ud654\",\"\\uc601\\ub989\\ud5a5\",\"\\uc601\\uc0ac\",\"\\uc601\\uc591\\uac01\",\"\\uc624\\uac00\\ud53c\",\"\\uc624\\uacc4\\ub780\",\"\\uc624\\uacf5\",\"\\uc624\\ub450\",\"\\uc624\\ub839\\uc9c0\",\"\\uc624\\ub9e4\",\"\\uc624\\ub9e4\\uc721\",\"\\uc624\\ubbf8\",\"\\uc624\\ubbf8\\uc790\",\"\\uc624\\ubc30\\uc790\",\"\\uc624\\uc0ac\",\"\\uc624\\uc0ac\\uc721\",\"\\uc624\\uc11c\\uac01\",\"\\uc624\\uc218\\uc720\",\"\\uc624\\uc57d\",\"\\uc624\\uc801\\uc5b4\\uace8\",\"\\uc624\\ucd08\\uc0ac\",\"\\uc62c\\ub20c\\uc81c\",\"\\uc640\\uc6b0\",\"\\uc655\\ubd88\\ub958\\ud589\",\"\\uc678\\uac15\",\"\\uc694\\uc0ac\",\"\\uc6a9\\uace8\",\"\\uc6a9\\ub1cc\",\"\\uc6a9\\ub2f4\",\"\\uc6a9\\ub2f4\\ucd08\",\"\\uc6a9\\uc548\\uc721\",\"\\uc6a9\\uce58\",\"\\uc6b0\\uac01\\uc0c8\",\"\\uc6b0\\ub2f4\",\"\\uc6b0\\ub2f4\\ub0a8\\uc131\",\"\\uc6b0\\ubc29\\uc790\",\"\\uc6b0\\uc2ac\",\"\\uc6b0\\uc5ec\\ub7c9\",\"\\uc6b0\\uc720\",\"\\uc6b0\\uc721\",\"\\uc6b0\\uc808\",\"\\uc6b0\\uc999\",\"\\uc6b0\\ud669\",\"\\uc6b1\\ub9ac\\uc778\",\"\\uc6b4\\ubaa8\",\"\\uc6b8\\uae08\",\"\\uc6c5\\ub2f4\",\"\\uc6c5\\ud669\",\"\\uc6c5\\ud751\\ub450\",\"\\uc6d0\\uba85\\ubd84\",\"\\uc6d0\\uc0bc\",\"\\uc6d0\\uc9c0\",\"\\uc6d0\\uccad\",\"\\uc6d0\\ud654\",\"\\uc6d4\\uc11d\",\"\\uc704\\ub839\\uc120\",\"\\uc704\\uc720\",\"\\uc704\\ud53c\",\"\\uc720\\uae30\\ub178\",\"\\uc720\\ubc1c\\ud68c\",\"\\uc720\\ubc31\\ud53c\",\"\\uc720\\uc778\",\"\\uc720\\uc9c0\",\"\\uc720\\ud5a5\",\"\\uc720\\ud669\",\"\\uc721\\uacc4\",\"\\uc721\\ub450\\uad6c\",\"\\uc721\\uc885\\uc6a9\",\"\\uc740\\ubc15\",\"\\uc740\\uc2dc\\ud638\",\"\\uc740\\uc8fc\",\"\\uc74c\\uc591\\uacfd\",\"\\uc758\\uc774\\uc778\",\"\\uc774\\ub2f9\",\"\\uc774\\ubd84\",\"\\uc774\\uc5b4\",\"\\uc774\\uc5b4\\ub2f4\",\"\\uc775\\ubaa8\\ucd08\",\"\\uc775\\uc9c0\",\"\\uc775\\uc9c0\\uc778\",\"\\uc778\\ub1e8\",\"\\uc778\\ub3d9\",\"\\uc778\\ub3d9\\ub4f1\",\"\\uc778\\ub3d9\\ucd08\",\"\\uc778\\uc0bc\",\"\\uc778\\uc720\",\"\\uc778\\uc911\\ubc31\",\"\\uc778\\uc911\\ud669\",\"\\uc778\\uc9c4\",\"\\uc778\\uc9c4\\ud638\",\"\\uc790\\uac10\\ucd08\",\"\\uc790\\uae08\",\"\\uc790\\uae08\\ud53c\",\"\\uc790\\ub2e8\\ud5a5\",\"\\uc790\\ubc30\\ubd80\\ud3c9\",\"\\uc790\\uc0bc\",\"\\uc790\\uc11d\",\"\\uc790\\uc11d\\uc601\",\"\\uc790\\uc18c\",\"\\uc790\\uc18c\\uc5fd\",\"\\uc790\\uc18c\\uc790\",\"\\uc790\\uc5f0\\ub3d9\",\"\\uc790\\uc644\",\"\\uc790\\uc644\\uc6a9\",\"\\uc790\\uc6d0\",\"\\uc790\\uc704\\ud53c\",\"\\uc790\\ucd08\",\"\\uc790\\ucd08\\uc6a9\",\"\\uc790\\ucda9\",\"\\uc790\\ud558\\uac70\",\"\\uc790\\ud654\\uc9c0\\uc815\",\"\\uc790\\ud669\",\"\\uc791\\uc57d\",\"\\uc7a0\\uacac\",\"\\uc7a0\\ud1f4\",\"\\uc7a0\\ud1f4\\uc9c0\",\"\\uc7a5\\ub1cc\",\"\\uc800\\uac04\",\"\\uc800\\uace0\",\"\\uc800\\uadfc\",\"\\uc800\\uadfc\\ubc31\\ud53c\",\"\\uc800\\uadfc\\ud53c\",\"\\uc800\\ub2f4\",\"\\uc800\\ub2f4\\uc999\",\"\\uc800\\ub450\",\"\\uc800\\ub839\",\"\\uc800\\uc2e4\",\"\\uc800\\uc2e4\\uc790\",\"\\uc800\\uc2ec\",\"\\uc800\\uc544\\uc870\\uac01\",\"\\uc800\\uc694\\uc790\",\"\\uc800\\uc81c\",\"\\uc800\\uc81c\\uac11\",\"\\uc800\\uc9c0\",\"\\uc800\\ud604\\uc81c\",\"\\uc801\\ub450\",\"\\uc801\\ubcf5\\ub839\",\"\\uc801\\uc11d\\uc9c0\",\"\\uc801\\uc18c\\ub450\",\"\\uc801\\uc791\",\"\\uc801\\uc791\\uc57d\",\"\\uc801\\uc804\",\"\\uc801\\ud558\\uc218\\uc624\",\"\\uc804\\uac08\",\"\\uc804\\ub77c\",\"\\uc804\\ud638\",\"\\uc808\\ud328\\ubaa8\",\"\\uc815\\ub825\\uc790\",\"\\uc815\\ubd84\",\"\\uc815\\ud53c\",\"\\uc815\\ud5a5\",\"\\uc815\\ud5a5\\ud53c\",\"\\uc81c\\uc870\",\"\\uc870\\uac01\",\"\\uc870\\uac01\\uc778\",\"\\uc870\\uac01\\uc790\",\"\\uc870\\uad6c\\ub4f1\",\"\\uc870\\uae08\",\"\\uc870\\ub1cc\",\"\\uc870\\ub3cc\\ubb35\",\"\\uc870\\ubc18\",\"\\uc870\\uc720\\uadfc\",\"\\uc870\\ud611\",\"\\uc885\\ub824\\ud53c\",\"\\uc885\\uc6a9\",\"\\uc8fc\\uae08\",\"\\uc8fc\\uc0ac\",\"\\uc8fd\\ub825\",\"\\uc8fd\\uc5ec\",\"\\uc8fd\\uc5fd\",\"\\uc989\\uc5b4\",\"\\uc9c0\\uac01\",\"\\uc9c0\\uace8\\ud53c\",\"\\uc9c0\\ub8e1\",\"\\uc9c0\\ub9c8\",\"\\uc9c0\\ubaa8\",\"\\uc9c0\\ubd80\\uc790\",\"\\uc9c0\\uc2e4\",\"\\uc9c0\\uc720\",\"\\uc9c0\\uc8fc\",\"\\uc9c0\\ud669\",\"\\uc9c4\\uad50\",\"\\uc9c4\\uade4\\ud53c\",\"\\uc9c4\\ubbf8\",\"\\uc9c4\\uc0ac\",\"\\uc9c4\\uc560\\uc5fd\",\"\\uc9c4\\uc8fc\",\"\\uc9c4\\uc8fc\\ubaa8\",\"\\uc9c4\\ucc3d\\ubbf8\",\"\\uc9c4\\ud53c\",\"\\uc9c8\\ub824\\uc790\",\"\\ucc28\\uc804\\uc790\",\"\\ucc3d\\uc774\",\"\\ucc3d\\uc774\\uc790\",\"\\ucc3d\\uc774\\ucd08\",\"\\ucc3d\\ucd9c\",\"\\ucc3d\\ud3ec\",\"\\ucc99\\ucd09\\ud654\",\"\\ucc9c\\uac15\",\"\\ucc9c\\uac74\\uac15\",\"\\ucc9c\\uad81\",\"\\ucc9c\\uadc0\",\"\\ucc9c\\uadfc\",\"\\ucc9c\\ub0a8\\uc131\",\"\\ucc9c\\ub3d9\",\"\\ucc9c\\ub828\",\"\\ucc9c\\ub828\\uc721\",\"\\ucc9c\\ub828\\uc790\",\"\\ucc9c\\ub839\\uac1c\",\"\\ucc9c\\ub9c8\",\"\\ucc9c\\ubb38\\ub3d9\",\"\\ucc9c\\uc0b0\\uac11\",\"\\ucc9c\\uc120\\ub4f1\",\"\\ucc9c\\uc18d\\ub2e8\",\"\\ucc9c\\uc624\",\"\\ucc9c\\uc624\\ub450\",\"\\ucc9c\\uc624\\ucca8\",\"\\ucc9c\\uc6b0\\uc2ac\",\"\\ucc9c\\uc6c5\",\"\\ucc9c\\uc7a5\\uc790\",\"\\ucc9c\\ucd08\",\"\\ucc9c\\ucd08\\uadfc\",\"\\ucc9c\\ucd95\\ud669\",\"\\ucc9c\\ud0dc\\uc624\\uc57d\",\"\\ucc9c\\ud328\\ubaa8\",\"\\ucc9c\\ud654\\ubd84\",\"\\ucc9c\\ud669\\ub828\",\"\\ucca0\\ubd84\",\"\\ucca0\\uc724\\ubd84\",\"\\ucca8\\uc815\\ub825\",\"\\uccad\\uade4\\ud53c\",\"\\uccad\\ub300\",\"\\uccad\\ubaa9\\ud5a5\",\"\\uccad\\ubabd\\uc11d\",\"\\uccad\\ubc18\",\"\\uccad\\uc0c1\\uc790\",\"\\uccad\\uc0c1\\ud53c\",\"\\uccad\\uc591\\ub2f4\",\"\\uccad\\uc5b4\\ub2f4\",\"\\uccad\\uc5fc\",\"\\uccad\\uc720\",\"\\uccad\\uc8fc\",\"\\uccad\\uc8fd\\uc5ec\",\"\\uccad\\ud53c\",\"\\uccad\\ud638\",\"\\ucd08\\uacb0\\uba85\",\"\\ucd08\\uacfc\",\"\\ucd08\\uacfc\\uc778\",\"\\ucd08\\ub450\\uad6c\",\"\\ucd08\\ubaa9\",\"\\ucd08\\uc11d\",\"\\ucd08\\uc624\",\"\\ucd08\\uc6a9\\ub2f4\",\"\\ucd09\\ucd08\",\"\\ucd1d\\ubc31\",\"\\ucd94\\uc11d\",\"\\ucd95\\uc0ac\",\"\\ucd95\\uc0ac\\uc778\",\"\\ucd98\\uadfc\\ubc31\\ud53c\",\"\\ucda9\\uc704\\uc790\",\"\\uce21\\ubc31\",\"\\uce21\\ubc31\\uc5fd\",\"\\uce58\\uc790\",\"\\uce58\\uc790\\uc778\",\"\\uce68\\uc0ac\",\"\\uce68\\ud5a5\",\"\\ud0dc\\uc74c\\ud604\\uc815\\uc11d\",\"\\ud0dd\\ub780\",\"\\ud0dd\\ub780\\uc5fd\",\"\\ud0dd\\uc0ac\",\"\\ud1a0\\uacfc\\uadfc\",\"\\ud1a0\\uad6c\",\"\\ud1a0\\ubaa9\\ud5a5\",\"\\ud1a0\\ubcf5\\ub839\",\"\\ud1a0\\ubd09\\ubc29\",\"\\ud1a0\\uc0ac\\uc790\",\"\\ud1b5\\ucd08\",\"\\ud30c\\uace0\\uc9c0\",\"\\ud30c\\uadf9\",\"\\ud30c\\uadf9\\uc721\",\"\\ud30c\\uadf9\\ucc9c\",\"\\ud30c\\ub450\",\"\\ud30c\\ub450\\uc0c1\",\"\\ud30c\\ub450\\uc721\",\"\\ud30c\\ub450\\uc778\",\"\\ud310\\ub78c\\uadfc\",\"\\ud314\\uac01\\ud68c\\ud5a5\",\"\\ud328\\ubaa8\",\"\\ud328\\uc7a5\",\"\\ud328\\uc885\",\"\\ud3b8\\uae08\",\"\\ud3b8\\ub1cc\",\"\\ud3b8\\ub450\",\"\\ud3b8\\ubcf5\",\"\\ud3b8\\uc790\\uac15\\ud669\",\"\\ud3b8\\ucd95\",\"\\ud3ec\\uacf5\\uc601\",\"\\ud3ec\\ubd80\\uc790\",\"\\ud3ec\\ud669\",\"\\ud48d\\ud654\\uc11d\\ud68c\",\"\\ud48d\\ud654\\ucd08\",\"\\ud544\\ubc1c\",\"\\ud544\\uc9d5\\uac00\",\"\\ud558\\uace0\\ucd08\",\"\\ud558\\ub9c8\",\"\\ud558\\uc218\\uc624\",\"\\ud558\\uc5fd\",\"\\ud559\\uc2ac\",\"\\ud55c\\ub828\\ucd08\",\"\\ud55c\\uc218\\uc11d\",\"\\ud55c\\uc2dd\\uba74\",\"\\ud569\\uac1c\",\"\\ud569\\ubd84\",\"\\ud569\\ud658\\ud53c\",\"\\ud574\\uae08\\uc0ac\",\"\\ud574\\ub300\",\"\\ud574\\ub3d9\\ud53c\",\"\\ud574\\ubc31\",\"\\ud574\\ubd84\",\"\\ud574\\uc11d\",\"\\ud574\\uc1a1\\uc790\",\"\\ud574\\uc544\\ub2e4\",\"\\ud574\\uc870\",\"\\ud574\\ud45c\\uc18c\",\"\\ud574\\ud569\",\"\\ud574\\ud569\\ubd84\",\"\\ud589\\uc778\",\"\\ud5a5\\ubc31\\uc9c0\",\"\\ud5a5\\ubd80\",\"\\ud5a5\\ubd80\\ubbf8\",\"\\ud5a5\\ubd80\\uc790\",\"\\ud5a5\\uc2dc\",\"\\ud5a5\\uc5ec\",\"\\ud5a5\\uc720\",\"\\ud604\\uba85\\ubd84\",\"\\ud604\\uc0bc\",\"\\ud604\\ud638\\uc0c9\",\"\\ud608\\uac08\",\"\\ud608\\uc5ec\",\"\\ud615\\uac1c\",\"\\ud615\\uac1c\\uc218\",\"\\ud615\\uc0bc\\ub989\",\"\\ud638\\uacbd\\uace8\",\"\\ud638\\uace8\",\"\\ud638\\ub3c4\",\"\\ud638\\ub3c4\\uc721\",\"\\ud638\\ub3c4\\uc778\",\"\\ud638\\ub3d9\\ub8e8\",\"\\ud638\\ub85c\\ud30c\",\"\\ud638\\ub9c8\",\"\\ud638\\ub9c8\\uc790\",\"\\ud638\\ubc15\",\"\\ud638\\ubc18\\uc720\\uc0ac\",\"\\ud638\\ubd84\",\"\\ud638\\uc7a5\\uadfc\",\"\\ud638\\ucd08\",\"\\ud638\\ud669\\ub828\",\"\\ud64d\\uad6d\",\"\\ud64d\\ub0b4\\uc18c\",\"\\ud64d\\ub450\",\"\\ud64d\\uc544\\ub300\\uadf9\",\"\\ud64d\\uc870\",\"\\ud64d\\ucd08\",\"\\ud64d\\ud654\",\"\\ud654\\ub9c8\\uc778\",\"\\ud654\\uc608\\uc11d\",\"\\ud654\\ud53c\",\"\\ud65c\\uc11d\",\"\\ud669\\uacfc\\ub8e8\",\"\\ud669\\uad6c\",\"\\ud669\\uae08\",\"\\ud669\\uae30\",\"\\ud669\\ub2e8\",\"\\ud669\\ub78d\",\"\\ud669\\ub828\",\"\\ud669\\ubc31\",\"\\ud669\\ubc31\\ud53c\",\"\\ud669\\ubcbd\",\"\\ud669\\ubcbd\\ud53c\",\"\\ud669\\uc57d\\uc790\",\"\\ud669\\uc815\",\"\\ud669\\ud5a5\",\"\\ud68c\\uc0b0\\uc57d\",\"\\ud68c\\uc0dd\\uc9c0\\ud669\",\"\\ud68c\\uc219\\uc9c0\\ud669\",\"\\ud68c\\ud5a5\",\"\\ud6c4\\ubc15\",\"\\ud751\\uacac\\uc6b0\",\"\\ud751\\uacac\\uc6b0\\uc790\",\"\\ud751\\uad6c\\ucc99\",\"\\ud751\\ub450\",\"\\ud751\\ubd80\\uc790\",\"\\ud751\\uc11d\",\"\\ud751\\uc5f0\",\"\\ud751\\ucd95\",\"\\ud76c\\ub834\",\"\\ud76c\\ub834\\ucd08\"],\"x\":{\"__ndarray__\":\"zesnQfXT08ADEMpAtBU5QC9hFME2CGZAMWz3Q1LiVsD4eATATXqYv58ElMD09bxAaMicwPqEtcAtVSnBQeFGwYpoX0HQLgjBaa/DviKrFUFbRrTAfJW+wFlPb0Duuf+/S7snwenOmcAl/XHBzfZSQDEIlUGibTNCtG7ZQhVO+MDJwru+EbaEQGGsIsHwuujAwqd4wMgiS8FcEQjAIRaPQeZ7J8GNWj3B+zqJPoWXH0CjvKa/lc9YP8Eh+D+lXV3BGjQiP3b3CcF30ynAPkULwBicicHJkS9BUVfowCHFfkCOD5DAF6x8wGtxN79BTlnAT16zwZGY3kAlxeS/3FfiQlfAcMEcTNU+HXy3wFSd9T+685/Adj6kPmOLn0DRblTAxT2VwRV1j0HhJYo/jDtFwDurQMG2623A/fy6QLicJb89ZE7BleLNQPGxj8F0fLrAbyA2wNY79b+jpTzAbcPlvxH5m0FCI5xAeC1qwZgVikD9m5jAveoYweFt5j57FBfAfVipQHhe1r95OhlB6i/cwKnySsAcoIA/449KwdHIrELk0ofB1TX/QLQ5psB5CQNBtpv8QF5IOEHMzGTA58IbwAaZqb/+RgzBoMzCQhNDkcE9W7y8woOiP75e7EDvnO9AqkzUQHBfH8Hx10NAQ09gQmNW9r/7miBCGVnxv+ILE8F+ssdARMy6wRUyjL9AIIG/gkKIvyYjs8FP+BTAGaXnQq9LI8AtLrVADhfpP1LyKsCCIUpATNdywfoLm0L4NAPAal6Bv0JQlT5Jev2/39JPQZ28A0GG4MA/Px8PwcJXZsF8gnHBPO1fwJWj1cJhljbBf1LcQC9Lo8AHCftAGe1/wRR+nUDbq97ADH63QNLna0DqunzAv1gEwRhao8CLRzRAFZRPwepGVMFN6dBClA1EwOiJVMAhsT3BBkJlwH5jFUFXQR/BJ3rCwMI9LcBAqa7ARjWLwMu/KcB6vatB/zoMQEdLZ8IZYbe/YxGhQCw5oz8slERAVw78v0O83UAmRk9CHB/wv0eJykA5MxJCyQviwMrcrUEmER3BQG+zQPbDPEGrPvlAxutYQfyoIkEu+APBfTDXQtwPqkAIg2DB61m+v3/0gb1aoIzAYI4pweJrSsDiiwfBNl0gwWarM8HH0gTBfCCMQiOaWMCrhBvAINsNv98TRcDaPTnA9N71wATACUH9t7xC3CAIwLXPJsGe5VxB9nkAQFs24L70gw7ANgY2QO08a0F/oQ3A1QJEwPYF/r9720xBfj7uwKI0vMGQ58/Auk+0wGet2MDHoINBAAOgwTRhgsHMiMe/MEQlQZPFzkFOswJAMlLswPnZkMGUDQLBhumGQe7lJEHxzJ/BtMVVQQtxNcBkKxg/9h+XwPlN5b+ll2VB8tFNQOwwgUEdqBdBEfuvQEoposDhfUDADqkCQIshRUI/Fw5BLPmJwMfYPMHEJk1CPyNswRDUS8EdSWnBQii+QPRWJsDvX71Ao9knwX4CiMC3A0G/oiUVQa1WiEH+hDw/1Ddfwae2MkEa3drA/BRkwDBfAcBfHKG/ayY0QcrTeEBayJ++M7ftv8gnxEJFS4zBoI/7vjGZa0GBBcy/DjcFQTSJXsCmyRvB/t2owaSibcGiZQpAjWWAwRF1wj9epEHBvF34Qne2hT+3CEdBN9Z/QkHTrcGIFuI/xLxOwbIs7b+heh3Ab2MQwMbdBMGJjkrAZzRBQZJSSMFQ9rlCELQ2wfkqtkJkn6tBySmiwYSCOMGvsflCx2WIP7zX90DpywjAVGYiwHf1K8GZmrlAV3X5QOgbaUJOHWw/UHZ3wP7IRcCQ1LO/SKrxP4G2ksAeN4bAz8WewhV5j0H/iltB8+Q2vpsprUHQRBpACdkDQYSDmEDtej3BGQOUQSsSt8C+ae/ADVm+v7bSNcGSPaQ/OEtVwIVvykHKFSBABtYnQDNHVT9kqJdCVlJ2QP7CBD+GaXjAUTtfP3gI48B+W6O/X+sfwRWJa7+4yYdBVH4owGeZV8FOP07BBJsEwDc0zcAi4u7ANam5QKvuhkDV6nfBJcEQQTD8fEFe89dCHbydwb+fc0G9SmtATwGSPurgpsARuSBA/smHQNEnGsH2nqtBU4xuwD2l9T9CvOPAZVayQF5b+cAJZRXAWdCuQC+ZxcAd0/TASSuWQJfU2b9D+qZB2qupPkHPOMGJa2zA3VyAwEPXZb87mJ2/j5sRwZ/F1j+cjwvBohTLQCS200IIkURAPCvywH0QhsArzwTA5dwwPlEYOcAd5YPB5hsbQRl2l8BXY9g/GOQBwHuOEcBh3i9BqAl7QUtFNcG2uNW/M6okwR17IcG+gti/fliIwV8uvL9g6BXBFINAQL64+kDh6rxCOmNdwPpdg8HzkqO/X2ApQVFhDcBeFzDBZlECwU8bp0D7so/AUh6GQXQGPsGtjCLAV5iJwYKrjL9GqcxAAHhMP9YrmMDFvT9B0uVcQSIJ9r+VyZ7BulWUwXvM5UKmSxTA09NUPslV7j7CfBvBAgQ/v13sDEHq2DBBAyzQQFi7yUBZuNdADbhDQbXy4MDePq+/mBGNwNUBfMExVJVAFYGowELR8z3t/SJB+LlKwGiyDMCmKwzAfisHwHsVI0FnE8LASPoZQUiU7z9ZJATAwZ+uQMdvxsBvdqVAutJDv4zQzb9ZLau/k2uHwX+5ncCrn6bAAILqQAWBXcAYCiPAigviQKaVV0DpCGrBOU8jQMUZKcC94hzB6dWDwWX58ECVoLHBfDLBv1zFjb2Hc8fAzmkiv2ne9MCgJ7a/xO7HwAO3ecAtV6fA6kmVQcOXycB6UvVAZ9a1QgNINcCaBIXBzB7vQBnVS0AUPIO/zI6kQCngKEFPyo6//H8AwFClAMFRTn2/OIkMwK7jX0Gv/CZBI9jvwJANc0DIIStCDnM3QYKTT8AbOf3AdPB7wTf/fsGbyArAgSloQOhldMFXSC/AfI5AwI4L8z9VzPPAmmlLP8GxmcB2yu2/tESAwiOQMMFZfoBBvcgBwKEYikCGizvCooxrv+AWgr/AdUHB7Mm9v1iBwz8z3Cm/ORxRQcmWYsAMkuK+c/wnQNmfBcE/dhNBijX7wBzxWMCJD+LAjWbOQYzvOEEz7MzAQaggwiBylcBSjrrBfbSuwJpBckHx9QfAusc3waii8sCAzBVBq9T7P5VEZEAkkqjBeF8SwWiBIMHc4gFBx/jsv19RzUAkZLu/NBMewTOxAsGpg/5AaGD9v4ITtEJU12LBlbXzv9VQw8AkDQJB8jukwFjoK0HKA8HAKpeSQOZpe0APVJJCL0uUQmtBK8E14jNBnXA/wdaydsF0A1nBetWHQACckcFo3pfBC2mjwG0pVsF08LPApqkLQYfSq0JYfXFAwjM2P7BkxEALaxhBTYw6QS3fCUEVWNHAOqArwegBfT8VE3VBOxJ2QBn1HEGQkyxAQzKjwHplFMFxDvVAb3ayP65qUUBpw4tBf/HxP1xIYEEOzAHAJD6TQL8kucAg5fM/mhERQRKMp8GeAw5CHigQwMRQD8A8Uq6/ucdRQWG9jb8IrcDADOmhwbYjS0Gxk+/AyC4vvsaSYsG/ghHAjxaHQnqfib7EnNDBCF9dwS0XlcH5/CS/8BnZvwV2VL7tjeU/A8scP6HzvcDo1grByHvdwOL6tUJl6rvBSp5dQsajWMH9MttA5hrDQlYQPb+JfT3AFrx4QLwc9L91gPa+ABPdwHMISMDD6F1Bx8RhwclgiL7ymkjABR90wKvtLMDDC7XBvF61vlWakcHRsczAxhPUwBh58sB7JobBUPNmQIM/u8D5vEtBFOsKQMqJk8HZSC6+l8dGwKaoJb/0QuK/gHKUwDeNFMFjaIzBlLsswelUw8CCD36/6PQ1P56rx0DrWJ6/cmwWwKSuqMHSgA/AWONmwTZf5r+YII/AmrcGP8LxqT9yu0K+sV4tQDig4UJJ9BHAZ7zGQO8cYcGHZma/388ZwG8ecMCug8jAnN7Mv27L3UDrtGy/qA8KwGNFNUGChKvBvxtYQT9JDsGv2o5Ag3CIvxuxAsDddWTBGFceQeEsE0HAUUPByN+PQszICsGSqR7BLQi3wc7qOsGi72TA5PIgwYFGCMGtgiM/xTQTwd6OBMFv0xLAzOubwB1Vq8AikYrBsye9vyYIj8CcndpATsQQwgit9L8l+DLBR7cAwLU2OEHi6fdAwemawUmoocFKGSxAde/RwJ0GWEH8xChAs2vQwfGrsL8OHOm/2AGMQcp41UEp+xrAoskNwBf4n7+JhB2+UK5TwWD+1ECFRTRA5E+WwEKNVMG7G6i/3SA4wX2vRUD6Z4fBY8v2P79moUAZ0oVB1mxdwdhdhcHy4rLBHaEpwWKcFMEGokBBVY8cQC8aJEHjLkTBeSxHwZf/ZMD0YUXAeOWfwf5V2z/yATBACKvFQZuXh0ByFwHAlKeQvrDdnr99coDBKrjdvpbTMsELEQHBwpIAwcqUjMAg9xnB9s1vQUjsIr+LaSxB+64Pv39nPkHc26FCsuLpP9xqpEJKXnjB7PK1v2uTBEFB1Z9AgPcewPPQV0CSWGZArI24QP2k8r+C9BdBje/gv4QbWEFsiSHAJ6oCwcOvo0Ax55LAVPQ2PyKQNMA1T8zAEk0lwSYiUcASCjbAZ06QwcUgBsDKIAtB3Dj+vy157L8xmNXAgh8YQde2nL5r9kPB282KQSxEtr+uK4hA1XYXwHLPF8GjIpI/TmmVwLOb4L0h5oHB6VMnwEZX479FpvZCcmfLQO7usMLq1aNCnuJ5P2JTFMEm08/AwKEDQNNpQb8FRw3BC8+iQP+b0sAG5kzBAbztwET1Cj+cq5JAP9x0QHRUS8HmIBLA1e03wEjfnMEJ6jtB3cpHQVPVlEDSS4/BXw0zQQ==\",\"dtype\":\"float32\",\"shape\":[916]},\"y\":{\"__ndarray__\":\"ub6Lv5VGSb9NBYTB+zSeQKf1EsEpfT3AgLpQRLdynUD+6c897riKP5l+iEHPeOe/xrVcwZCwIsDuVelAwsYPQb1IT8HgPj++U5pLv4jydME+6vvAR8CcQKLokkFohGRBIAOIQQuDEUCpS1VBlbU4Qbz4JEATkEfC2ZN5Qgxsy0B6q/69XbOSQF0dNb6/jRTBMtqmwJ49gcD0T3g+HwZYwG8U38CusvVAl8gMQCoSz8AbSgXBzNmEQCG1FUEhl+S/b9gaP5gb5MD84Q882i1WvhTcBEGYSB9A1eheQGx2jsEu4b07K44KPxGpF0GuHE7BAnp2wFcdaEFWy/w9O+k0Qo5LK8B2yF9A9gEOQPbUlMCDFOBA/ywfwVzbW8FkViU+09u8wNNhWMBwsrnCNgXRQG3uSMHjv0ZAEhiCQe3dUMFtWYZBw3HxQHKvJUFRiqvBURrhvr2j/z+SxcO/9PN9vh3AHsGnCLJA0ixnQETI1ECz+xBBhikBQRa/I0Hg/1A/40GcwHR2nT9V5KpAfuCXQeq6DL8mVq2/L9jRQFWoc8JIYoZBhufGP6d+c0H0RZbAKIumQDCyVMHRtEM/IwcmQXs0mz6NX7ZAFTlHwvULOsDBIZpAeBVRQMBEYsC3eMTAqLa8P7UAnb/otgvBIR+PQkfA7cCvT7NCx2IWwe84uj7KsA5BEHL2wMIKO0GoY5zBxTO2QO+dEEF8lJ6+XKoMwnQ+icACzFZBLh2cQBQFEr9c17HAhmGUv9MLUkJYIJY+0uUfP6ok18C6WNs/7fepQE7iMUH2AZBBusiMvzDOjsFRezjBSqM2wReErj9EnSJB2JUYwHeCor90goy/KgseQeT2d8B7nrjAf9s6wBvh7cB1GSHBvqsEweffJkGIz2q+J1AswDZhRUEzP4XCIBrRPtDtzj87rVNAaUhpQbeQdMHGTorBdyRawCLorj8hNi6/txFVwK5Ju0EdDrpAA8pOwYdsskLG7hK8frLHwBnFLcFGAB1ApFtLPRyVMUC8zeHChO6wO4E9hMEND7DCRfCrQY8QuMJxTwHB98fRQHaq3kA7gvDAxHviQDxZc8DKo1hBWUinwYGjkECZnGvAm32kwF8dlcCSJf9AkIVsQBi+UEE/lytBwMoqQdzHwUC+8AZBsXBrwnm+u8DbVpk/FDpLPtERfUDCHztB3PDVwkk5KMFvzTPBuOZEv6/4P8ECzIpBAqNywW+LD8FEdkXBTnghwXe6nr2CQEu/IkOhQSQ0Kr9zswDB7UgqP5ZoU0D2aN5AuetBvkkdB0HZWTm/mPlIQei4hUGGcLS9SjTJwN4tzMDdM+0/UikwwST/ZcG5JrrAKOI/QbC5L8Hap0hBgx5bQcy8hz8PWDlB7KIpwHiTUj5Dk/c/J1IOQR59vD8lpZ/AOP0NwfZ0rkCeFAzAHWVVQQ7amcLUoIRATPS/QKtcgsHG9r3C560FwQXSXr/0RGZA/GNYQMgrlMDey41BNa5zP0TCkL/0TPO+g7qLv8/AYMFuVS/ADcicvmWuJkEh7GrAXienwSEZu0DKlLe+8M6dwJWcuD+ds60/YnypPZKECkKACgrBaUbPQATOAcEJh12+tTwOwa/SpD8QqynB92olwTVkNEGvCYnBuTAdwVOUmMEUL/0+txuEwaxOqUA+qQxBIPelwjI+vMLxum/A+k96QA76bz54aHK/adHHwLWFCcCYvgJBuK11QH9VGcEZyJ3CG8vBwNZch0JX97lA50oMPb3gl8CcOpVBQwhewcJG/UC7W22+NB8pwXMCGcEFQatBF9NMQUtm0EJpySBA41gsQfIt5cBlD05BqKN7P+QYxD/wTiFAY7iNwvpPzcCCXCDBEfUzwe/jwr5wS+a/TqExQAxeYEAEd1VBO7Htvj2avsCt25TAtAU1wS5rlEAVvszAuNxZwAfruEKTBqJBAQFSv5OXesDh15PCF0lAQPxt6UAj+xa/JIpCwRjG/8AoKx3A7kRAwNCeicDHNDlBc3MavpagaUEcUytBsJqLvqNlhUEZ5o++UkqrQcDhCMHsUqdAFLuUQcVIwMB18kjASbhIwRfDAEE2dz89fTBRQRl8G8FmavxACQUrP5jyhcDg9rlAaYQtvruSsMC1qcq/t3skwX5qBEADyhQ/gThtv2q0SkHqMBhBo77wv9ymOT+YSJnA51aFvwmULcF1zJbB5T7VwN9fH77B9gDAhbRQwV/xIL+1LzrB0bBLwawPWEHE9dVArtnuQOAKbkAcr+m+jwBjwDpAID8YWVLA/HtLwTDz8b//IOq98JvXPsa71r72cvrAUl8wwZccckFNPgo+N0+fwfLwnUBBDbq+LEM+weutMT+F+HFBAJO/P1V5nMHZxkxCDzKDv8ltYEBVDZ2+osmQv9LZxL5lDxlAIE2AwRVLjD8sBYnB9Bo3QZZBDD+ELhRAX7KgQDOvJEFvcrc/KMsnP6c7RcEmhovBnsyKQaWm0b4q3QTBugiXv65vT8J4tkc/b0r6wKKBGcCHmdM/WDBbwNaLWMDsG8ZCQM6OQKbI4cAjUHq/gos2wdEXLEEIycE/m5gDPymgKT4u9kJBiOWcwCQsuECDU9hAtIWBQfI9jcGvLCPAmgOYQBa/CMCzltS/4wvrQrhL3UBdVag/ujIYQFtAej9G3DvBQDIJP/N9Az8SUna/cD7EPxerdsGzgNnACq7OQB/HZcETttU/ZOwawW9WfEAekoY/QXfpwDQ60L/PyXPBlI+CwfeTekApJrS/dzRsv/uNBEETbRlB+bPzPzxrMT9WwK7BoyWJwM+b9b/mJGvA2n4lQMOQJMFW1ZXBScGoQpqsNsBUEta/42suPpcIIkGzTZdAr84fPRMTiL81GdLAAlWQvi1PpMEPPlRAkZC2vuI+HUGXfH9APkjbwPlyfMFtV9tCe4IRv3E7DkCHQmPAZ5RbwdStvsB2lbG+AEjyv69GAkEyZFtAV4xMPjfUr8EbQkJBBRsMwfQvWEFBq4Y/+1WtwvZLYj++Y2xAxTHGv0BjUr8cwrjCF8AcviJ9nz8JwJlBheuIv4eZAsDlqevADpL/PuEY2UCaVTJA/79QQG2piEFoFwJBDmCXvzLDGEE86qtBWdPLwJsSkMGFQeDAJqrHQgp6uMD5HvbALo2yP/qzhsBdtCu/ebMAwQTDpkCWHfTAAowGwTMIo78O9bzAtkKtwHbs6EIOLkLBz4d+PwvRPUHyVIBB8iQtQEENUEAZPxVBXmNOQB/wpEHXd6fAToLIPRiyO8F3WhXA/OaFQPhECEF1AkJAeCs6wBCJzMAGx6FCbl7CQnp7CMAfJqtAeQTpv0YpjcBOUh1Alr6jwLL/1ECMgJZAjtIXP11PhT9M5sRAQ97HwEoJwsF8fEnByNwjvkQrucDcGzVA+ZUYwU8L5T6O+m3Bpu0NQT5/Z0HmEBPAwAYywUVsPUFtX9tBs+pMQG1FDcBZLF/BHXkBQcsCYsEXRNJAvj0nQFhacEDOMVO+6fVsQZQ6+0D5FrDBBPeUQQcwhEBvu9TCEa+rvlSpv8C+AUW/ytaXwPcGPEFYUndA0f/RQG88FkA9IUnBCBbVv2aUHcG8T5BBPIPLwqFbpEFX+B7AplupQNgPfj+GPx7Axg3DPkfwkT9WsT/A22qBwcJelsE2eRJAv80mQKNPiEC8qBc/+36uQm/r+0AvKjLBFmcKwosn7UAqQYy/VkCDwNza4z2dgmxB/wuPQLz8570IkcjAqPUXQSClpEH1zhXBb2OJwINBIL/+4bhAc/iLQfiZv8A524XBq225QPi5c0GVdYBBQKNUQdM8NkFjrTdBVd+7QDOdJcEPsRs/MeJ+wepckb+aJkc+MImKwMFtF0EK5JrAEm90wOyADcH/xiHB1MSnwPhcfMCHmCBAFcoOvnrg6sIozxBBn7jTQCjCEr78+fPA1nfmvsyN7sASx43BC0orP1J950EFMOG+uMTNPWtQdsFoM3o/L0iBvydsK8DxeFTBzWprvzA6nMC8k66/Qhv3QEmq0r/ELds/u/VCwLBc4EBk2QtAfDpHvm3elb45j9bAUL0TwfPMXkGeF5XBC7SDQvg6oD8o8MZAOp3LQobvRMBjnri/9KhWQdO2kMCkJbM/nNdeQB30H8EfY7i+WNYvwTtPw0KN8xC+djyCQNIYQUHGwCRBBwfUwk42DT6d/jxBZFNjwUu+jD8J8pfBt8kLQSycAcAL/NpBzF+pwJVas7+DaCnAqdUewKFRyT6vkJa/jaHSQEHl4EKAScm/qnXpviheXcDbz7u/bkE0wS/7BMHMLm3A77oNQX2PAcFEbgZBb8UAwbQRlMAsdkRBUsc/QV7WJ0GnGgvBKQ5SwRBQhEHxZhBBmltcwa7xkkAEvMvAeQs4wfYD8jxXBWfBsoanQG5SA8EH7aJABWl4wLJJGsHuYm5B8uvuwlRyHcHrvWTAUoptwdWH3T/nwPLAe+O5wKiiar9PxGPB9hyRwZHfl0BRGM/AyU6xQEnvUcFg2HdBsnitwNTAXsCojivCqg0qQXziFEKRjwNAMXcOvvzpfkHVeCZBF/bIvtPIg0FDLbVAi0NuwUduDsBBBR5BmeDXQN5f0sJwHAXBFKiLQPM3+0C2dgzBoxsRQW6GYT+KwtQ+PzunwHDj0UAYFnRA1knJwPHhi775rdFA9Fa6Pb6Sg78J0eI/7KHDPweMfkDCzAVActQ1QUudf8HTep/BfffpvW9zmUFwEIFB9ECXQUgiDL1CS9VAdEmWwH22yz40yMw/L4qyQNBTbkK9JrjCfI3LQEbxQEGxSWFBtbh/QE759j4pZ1LAO2jwwHK0HMBZB6zAPJ8nwEiEpsBnWRFBFeX4QNzJ1sC+DRm98D9EvxO0I0Dx643BG9J6wfKg8MLW5EBAg7BRQQ==\",\"dtype\":\"float32\",\"shape\":[916]}},\"selected\":{\"id\":\"1227\",\"type\":\"Selection\"},\"selection_policy\":{\"id\":\"1228\",\"type\":\"UnionRenderers\"}},\"id\":\"1145\",\"type\":\"ColumnDataSource\"},{\"attributes\":{},\"id\":\"1172\",\"type\":\"ZoomOutTool\"},{\"attributes\":{},\"id\":\"1171\",\"type\":\"ZoomInTool\"},{\"attributes\":{\"callback\":null},\"id\":\"1177\",\"type\":\"TapTool\"},{\"attributes\":{\"callback\":null},\"id\":\"1149\",\"type\":\"DataRange1d\"},{\"attributes\":{},\"id\":\"1153\",\"type\":\"LinearScale\"},{\"attributes\":{},\"id\":\"1178\",\"type\":\"SaveTool\"},{\"attributes\":{},\"id\":\"1174\",\"type\":\"UndoTool\"},{\"attributes\":{\"callback\":null,\"tooltips\":[[\"label\",\"@label\"],[\"(index, x, y)\",\"($index, $x, $y)\"]]},\"id\":\"1167\",\"type\":\"HoverTool\"},{\"attributes\":{\"fill_alpha\":{\"value\":0.1},\"fill_color\":{\"value\":\"#1f77b4\"},\"line_alpha\":{\"value\":0.1},\"line_color\":{\"value\":\"#1f77b4\"},\"radius\":{\"units\":\"data\",\"value\":1},\"x\":{\"field\":\"x\"},\"y\":{\"field\":\"y\"}},\"id\":\"1208\",\"type\":\"Circle\"},{\"attributes\":{\"active_drag\":\"auto\",\"active_inspect\":\"auto\",\"active_multi\":null,\"active_scroll\":\"auto\",\"active_tap\":\"auto\",\"tools\":[{\"id\":\"1167\",\"type\":\"HoverTool\"},{\"id\":\"1168\",\"type\":\"CrosshairTool\"},{\"id\":\"1169\",\"type\":\"PanTool\"},{\"id\":\"1170\",\"type\":\"WheelZoomTool\"},{\"id\":\"1171\",\"type\":\"ZoomInTool\"},{\"id\":\"1172\",\"type\":\"ZoomOutTool\"},{\"id\":\"1173\",\"type\":\"BoxZoomTool\"},{\"id\":\"1174\",\"type\":\"UndoTool\"},{\"id\":\"1175\",\"type\":\"RedoTool\"},{\"id\":\"1176\",\"type\":\"ResetTool\"},{\"id\":\"1177\",\"type\":\"TapTool\"},{\"id\":\"1178\",\"type\":\"SaveTool\"},{\"id\":\"1179\",\"type\":\"BoxSelectTool\"},{\"id\":\"1180\",\"type\":\"PolySelectTool\"},{\"id\":\"1181\",\"type\":\"LassoSelectTool\"}]},\"id\":\"1182\",\"type\":\"Toolbar\"},{\"attributes\":{\"fill_alpha\":{\"value\":0.6},\"fill_color\":{\"value\":\"#1f77b4\"},\"line_color\":{\"value\":null},\"radius\":{\"units\":\"data\",\"value\":1},\"x\":{\"field\":\"x\"},\"y\":{\"field\":\"y\"}},\"id\":\"1207\",\"type\":\"Circle\"},{\"attributes\":{\"callback\":null,\"overlay\":{\"id\":\"1196\",\"type\":\"BoxAnnotation\"}},\"id\":\"1179\",\"type\":\"BoxSelectTool\"},{\"attributes\":{},\"id\":\"1155\",\"type\":\"LinearScale\"},{\"attributes\":{\"source\":{\"id\":\"1145\",\"type\":\"ColumnDataSource\"}},\"id\":\"1210\",\"type\":\"CDSView\"},{\"attributes\":{\"callback\":null},\"id\":\"1151\",\"type\":\"DataRange1d\"},{\"attributes\":{\"formatter\":{\"id\":\"1224\",\"type\":\"BasicTickFormatter\"},\"plot\":{\"id\":\"1147\",\"subtype\":\"Figure\",\"type\":\"Plot\"},\"ticker\":{\"id\":\"1158\",\"type\":\"BasicTicker\"}},\"id\":\"1157\",\"type\":\"LinearAxis\"},{\"attributes\":{\"callback\":null,\"overlay\":{\"id\":\"1202\",\"type\":\"PolyAnnotation\"}},\"id\":\"1181\",\"type\":\"LassoSelectTool\"},{\"attributes\":{\"dimension\":1,\"plot\":{\"id\":\"1147\",\"subtype\":\"Figure\",\"type\":\"Plot\"},\"ticker\":{\"id\":\"1163\",\"type\":\"BasicTicker\"}},\"id\":\"1166\",\"type\":\"Grid\"},{\"attributes\":{\"callback\":null,\"overlay\":{\"id\":\"1199\",\"type\":\"PolyAnnotation\"}},\"id\":\"1180\",\"type\":\"PolySelectTool\"},{\"attributes\":{},\"id\":\"1163\",\"type\":\"BasicTicker\"},{\"attributes\":{\"bottom_units\":\"screen\",\"fill_alpha\":{\"value\":0.5},\"fill_color\":{\"value\":\"lightgrey\"},\"left_units\":\"screen\",\"level\":\"overlay\",\"line_alpha\":{\"value\":1.0},\"line_color\":{\"value\":\"black\"},\"line_dash\":[4,4],\"line_width\":{\"value\":2},\"plot\":null,\"render_mode\":\"css\",\"right_units\":\"screen\",\"top_units\":\"screen\"},\"id\":\"1188\",\"type\":\"BoxAnnotation\"},{\"attributes\":{},\"id\":\"1228\",\"type\":\"UnionRenderers\"},{\"attributes\":{\"formatter\":{\"id\":\"1226\",\"type\":\"BasicTickFormatter\"},\"plot\":{\"id\":\"1147\",\"subtype\":\"Figure\",\"type\":\"Plot\"},\"ticker\":{\"id\":\"1163\",\"type\":\"BasicTicker\"}},\"id\":\"1162\",\"type\":\"LinearAxis\"},{\"attributes\":{\"fill_alpha\":{\"value\":0.5},\"fill_color\":{\"value\":\"lightgrey\"},\"level\":\"overlay\",\"line_alpha\":{\"value\":1.0},\"line_color\":{\"value\":\"black\"},\"line_dash\":[4,4],\"line_width\":{\"value\":2},\"plot\":null,\"xs_units\":\"screen\",\"ys_units\":\"screen\"},\"id\":\"1199\",\"type\":\"PolyAnnotation\"},{\"attributes\":{\"plot\":{\"id\":\"1147\",\"subtype\":\"Figure\",\"type\":\"Plot\"},\"ticker\":{\"id\":\"1158\",\"type\":\"BasicTicker\"}},\"id\":\"1161\",\"type\":\"Grid\"},{\"attributes\":{\"bottom_units\":\"screen\",\"fill_alpha\":{\"value\":0.5},\"fill_color\":{\"value\":\"lightgrey\"},\"left_units\":\"screen\",\"level\":\"overlay\",\"line_alpha\":{\"value\":1.0},\"line_color\":{\"value\":\"black\"},\"line_dash\":[4,4],\"line_width\":{\"value\":2},\"plot\":null,\"render_mode\":\"css\",\"right_units\":\"screen\",\"top_units\":\"screen\"},\"id\":\"1196\",\"type\":\"BoxAnnotation\"},{\"attributes\":{},\"id\":\"1158\",\"type\":\"BasicTicker\"}],\"root_ids\":[\"1147\"]},\"title\":\"Bokeh Application\",\"version\":\"1.0.4\"}};\n",
       "  var render_items = [{\"docid\":\"61383c85-24cd-48d2-87a8-8a386e4cc662\",\"roots\":{\"1147\":\"bb959bff-6e97-4ab1-bfd6-783def00728d\"}}];\n",
       "  root.Bokeh.embed.embed_items_notebook(docs_json, render_items);\n",
       "\n",
       "  }\n",
       "  if (root.Bokeh !== undefined) {\n",
       "    embed_document(root);\n",
       "  } else {\n",
       "    var attempts = 0;\n",
       "    var timer = setInterval(function(root) {\n",
       "      if (root.Bokeh !== undefined) {\n",
       "        embed_document(root);\n",
       "        clearInterval(timer);\n",
       "      }\n",
       "      attempts++;\n",
       "      if (attempts > 100) {\n",
       "        console.log(\"Bokeh: ERROR: Unable to run BokehJS code because BokehJS library is missing\");\n",
       "        clearInterval(timer);\n",
       "      }\n",
       "    }, 10, root)\n",
       "  }\n",
       "})(window);"
      ],
      "application/vnd.bokehjs_exec.v0+json": ""
     },
     "metadata": {
      "application/vnd.bokehjs_exec.v0+json": {
       "id": "1147"
      }
     },
     "output_type": "display_data"
    }
   ],
   "source": [
    "show( tsne_plot( transformed_tfidf, tfidf_feature_names, \"TFIDF Model\" ) )"
   ]
  },
  {
   "cell_type": "code",
   "execution_count": 26,
   "metadata": {},
   "outputs": [
    {
     "name": "stdout",
     "output_type": "stream",
     "text": [
      "Co-Word TSNE model done in 18.025024s.\n"
     ]
    }
   ],
   "source": [
    "t0 = time()\n",
    "transformed_coword = tsne_model_fit_transform( term_vector_via_coword.todense() )\n",
    "print( \"Co-Word TSNE model done in {:03f}s.\".format( time() - t0 ) )"
   ]
  },
  {
   "cell_type": "code",
   "execution_count": 27,
   "metadata": {},
   "outputs": [
    {
     "data": {
      "text/html": [
       "\n",
       "\n",
       "\n",
       "\n",
       "\n",
       "\n",
       "  <div class=\"bk-root\" id=\"010be666-9868-44f3-b813-abc9affc0a10\" data-root-id=\"1301\"></div>\n"
      ]
     },
     "metadata": {},
     "output_type": "display_data"
    },
    {
     "data": {
      "application/javascript": [
       "(function(root) {\n",
       "  function embed_document(root) {\n",
       "    \n",
       "  var docs_json = {\"f8faa1a1-1132-4c9e-87e1-7dfe88aa537f\":{\"roots\":{\"references\":[{\"attributes\":{\"below\":[{\"id\":\"1311\",\"type\":\"LinearAxis\"}],\"left\":[{\"id\":\"1316\",\"type\":\"LinearAxis\"}],\"renderers\":[{\"id\":\"1311\",\"type\":\"LinearAxis\"},{\"id\":\"1315\",\"type\":\"Grid\"},{\"id\":\"1316\",\"type\":\"LinearAxis\"},{\"id\":\"1320\",\"type\":\"Grid\"},{\"id\":\"1342\",\"type\":\"BoxAnnotation\"},{\"id\":\"1350\",\"type\":\"BoxAnnotation\"},{\"id\":\"1353\",\"type\":\"PolyAnnotation\"},{\"id\":\"1356\",\"type\":\"PolyAnnotation\"},{\"id\":\"1363\",\"type\":\"GlyphRenderer\"}],\"title\":{\"id\":\"1300\",\"type\":\"Title\"},\"toolbar\":{\"id\":\"1336\",\"type\":\"Toolbar\"},\"x_range\":{\"id\":\"1303\",\"type\":\"DataRange1d\"},\"x_scale\":{\"id\":\"1307\",\"type\":\"LinearScale\"},\"y_range\":{\"id\":\"1305\",\"type\":\"DataRange1d\"},\"y_scale\":{\"id\":\"1309\",\"type\":\"LinearScale\"}},\"id\":\"1301\",\"subtype\":\"Figure\",\"type\":\"Plot\"},{\"attributes\":{\"active_drag\":\"auto\",\"active_inspect\":\"auto\",\"active_multi\":null,\"active_scroll\":\"auto\",\"active_tap\":\"auto\",\"tools\":[{\"id\":\"1321\",\"type\":\"HoverTool\"},{\"id\":\"1322\",\"type\":\"CrosshairTool\"},{\"id\":\"1323\",\"type\":\"PanTool\"},{\"id\":\"1324\",\"type\":\"WheelZoomTool\"},{\"id\":\"1325\",\"type\":\"ZoomInTool\"},{\"id\":\"1326\",\"type\":\"ZoomOutTool\"},{\"id\":\"1327\",\"type\":\"BoxZoomTool\"},{\"id\":\"1328\",\"type\":\"UndoTool\"},{\"id\":\"1329\",\"type\":\"RedoTool\"},{\"id\":\"1330\",\"type\":\"ResetTool\"},{\"id\":\"1331\",\"type\":\"TapTool\"},{\"id\":\"1332\",\"type\":\"SaveTool\"},{\"id\":\"1333\",\"type\":\"BoxSelectTool\"},{\"id\":\"1334\",\"type\":\"PolySelectTool\"},{\"id\":\"1335\",\"type\":\"LassoSelectTool\"}]},\"id\":\"1336\",\"type\":\"Toolbar\"},{\"attributes\":{\"callback\":null,\"data\":{\"label\":[\"\\uac00\\ub824\\ub291\",\"\\uac00\\ub9ac\\ub291\",\"\\uac00\\uc11c\\ubd84\",\"\\uac00\\uc790\",\"\\uac00\\uc790\\uc721\",\"\\uac00\\uc790\\ud53c\",\"\\uac00\\uc790\\ud575\",\"\\uac00\\ud30c\\ucd08\",\"\\uac08\\uadfc\",\"\\uac08\\ubbf8\",\"\\uac08\\uc591\\uac04\",\"\\uac08\\ucd08\",\"\\uac08\\ud654\",\"\\uac10\\uad6c\\uae30\\uc790\",\"\\uac10\\uad6d\",\"\\uac10\\uad6d\\ud654\",\"\\uac10\\ub78c\",\"\\uac10\\uc1a1\",\"\\uac10\\uc1a1\\ud5a5\",\"\\uac10\\uc218\",\"\\uac10\\uc778\",\"\\uac10\\ucd08\",\"\\uac10\\ucd08\\uc808\",\"\\uac10\\ucd08\\ucd08\",\"\\uac15\\ub791\",\"\\uac15\\ubc18\\ud558\",\"\\uac15\\uc7a0\",\"\\uac15\\uc9c4\\ud5a5\",\"\\uac15\\ud45c\",\"\\uac15\\ud65c\",\"\\uac15\\ud669\",\"\\uac31\\ubbf8\",\"\\uac70\\uc2b9\\uc790\",\"\\uac74\\uac08\",\"\\uac74\\uac15\",\"\\uac74\\ubaa8\\uacfc\",\"\\uac74\\uc0b0\\uc57d\",\"\\uac74\\uc0dd\\uac15\",\"\\uac74\\uc12c\",\"\\uac74\\uc5f0\\uc9c0\",\"\\uac74\\uc728\",\"\\uac74\\uc9c0\\ud669\",\"\\uac74\\uce60\",\"\\uac80\\uc2e4\",\"\\uacac\\uc6b0\",\"\\uacac\\uc6b0\\uc790\",\"\\uacb0\\uba85\\uc790\",\"\\uacbd\\ubb35\",\"\\uacbd\\ubd84\",\"\\uacbd\\uc0bc\\ub989\",\"\\uacbd\\uc0c1\\uc0c1\\uc5fd\",\"\\uacc4\\uad00\\ud654\",\"\\uacc4\\ub0b4\\uae08\",\"\\uacc4\\ub780\",\"\\uacc4\\ubd80\\ud65c\\uc11d\",\"\\uacc4\\ube44\\uce58\",\"\\uacc4\\uc18c\",\"\\uacc4\\uc18c\\uc5fd\",\"\\uacc4\\uc2ec\",\"\\uacc4\\uc2ec\\ube48\\ub791\",\"\\uacc4\\uc790\",\"\\uacc4\\uc790\\ud669\",\"\\uacc4\\uc9c0\",\"\\uacc4\\ud53c\",\"\\uace0\\uacbd\",\"\\uace0\\uae08\",\"\\uace0\\uae38\\uacbd\",\"\\uace0\\ub7c9\\uac15\",\"\\uace0\\ub828\\uadfc\",\"\\uace0\\ub828\\uadfc\\ud53c\",\"\\uace0\\ub828\\uc790\",\"\\uace0\\ub828\\ud53c\",\"\\uace0\\ubc18\",\"\\uace0\\ubc31\\ubc18\",\"\\uace0\\ubcf8\",\"\\uace0\\uc0bc\",\"\\uace0\\uc815\\ub825\",\"\\uace1\\uc544\",\"\\uace1\\uc815\\ucd08\",\"\\uace4\\ud3ec\",\"\\uace8\\uc1c4\\ubcf4\",\"\\uacfc\\ub8e8\",\"\\uacfc\\ub8e8\\uadfc\",\"\\uacfc\\ub8e8\\uc2e4\",\"\\uacfc\\ub8e8\\uc778\",\"\\uacfc\\ub8e8\\uc790\",\"\\uacfc\\uccb4\",\"\\uacfd\\ud5a5\",\"\\uacfd\\ud5a5\\uc5fd\",\"\\uad00\\uacc4\",\"\\uad00\\ub3d9\\ud654\",\"\\uad00\\ubd84\",\"\\uad00\\uc911\",\"\\uad04\\ub8e8\\uadfc\",\"\\uad04\\ub8e8\\uc778\",\"\\uad11\\ucd9c\",\"\\uad34\\uac01\",\"\\uad34\\uac01\\uc790\",\"\\uad34\\uc790\",\"\\uad34\\uc9c0\",\"\\uad34\\ud654\",\"\\uad50\\uc774\",\"\\uad6c\\uae30\",\"\\uad6c\\uae30\\uc790\",\"\\uad6c\\ub9e5\",\"\\uad6c\\ub9e5\\uc218\",\"\\uad6c\\uc778\",\"\\uad6c\\uc778\\ubd84\",\"\\uad6c\\uc790\",\"\\uad6c\\ucc44\",\"\\uad6c\\ucc99\",\"\\uad6c\\ud310\",\"\\uad6d\\uc5bc\",\"\\uad6d\\ud654\",\"\\uad81\\uad81\",\"\\uad8c\\ubc31\",\"\\uadc0\\uac01\",\"\\uadc0\\uac11\",\"\\uadc0\\uad6c\",\"\\uadc0\\uc804\\uc6b0\",\"\\uadc0\\ud310\",\"\\uaddc\\uc790\",\"\\uade4\\uc5fd\",\"\\uade4\\ud53c\",\"\\uade4\\ud575\",\"\\uade4\\ud64d\",\"\\uae08\\ub839\\uc790\",\"\\uae08\\ubaa8\\uad6c\\ucc99\",\"\\uae08\\ubb38\\ub300\\ud669\",\"\\uae08\\ubc15\",\"\\uae08\\ubd88\\ucd08\",\"\\uae08\\uc575\\uc790\",\"\\uae08\\uc740\\ubc15\",\"\\uae08\\uc740\\ud654\",\"\\uae30\\ub9b0\\uac08\",\"\\uae38\\uacbd\",\"\\ub098\\ubbf8\",\"\\ub098\\ubbf8\\uc8fc\",\"\\ub098\\ubcf5\",\"\\ub098\\ubcf5\\uc790\",\"\\ub09c\\ubc1c\",\"\\ub0a0\\uacc4\",\"\\ub0a8\\uc131\",\"\\ub0a8\\uc5fd\",\"\\ub0a9\\ub2e4\",\"\\ub0ad\\ub3c5\",\"\\ub0b4\\ubcf5\\uc790\",\"\\ub178\\uac10\\uc11d\",\"\\ub178\\uadfc\",\"\\ub178\\ubd09\\ubc29\",\"\\ub178\\ud68c\",\"\\ub179\\uac01\",\"\\ub179\\uac01\\uad50\",\"\\ub179\\uac01\\uc0c1\",\"\\ub179\\ub450\",\"\\ub179\\ub450\\ubd84\",\"\\ub179\\ubc18\",\"\\ub179\\uc6a9\",\"\\ub1cc\\uc0ac\",\"\\ub1cc\\uc790\",\"\\ub1cc\\ud658\",\"\\ub204\\ub85c\",\"\\ub2e4\\uc5fd\",\"\\ub2e8\\uc0ac\",\"\\ub2e8\\uc0bc\",\"\\ub2e8\\ud5a5\",\"\\ub2f4\\ub450\\uc2dc\",\"\\ub2f4\\ubc18\",\"\\ub2f4\\uc131\",\"\\ub2f4\\uc8fd\\uc5fd\",\"\\ub2f9\\uadc0\",\"\\ub2f9\\uadc0\\ub450\",\"\\ub2f9\\uadc0\\ubbf8\",\"\\ub2f9\\uadc0\\uc2e0\",\"\\ub300\\uacc4\",\"\\ub300\\uadf9\",\"\\ub300\\ub450\",\"\\ub300\\ub450\\ud669\\uad8c\",\"\\ub300\\ub825\\uc790\",\"\\ub300\\ub9c8\\uc778\",\"\\ub300\\ub9e5\\uc5bc\",\"\\ub300\\ubcf5\\uc790\",\"\\ub300\\ubcf5\\ud53c\",\"\\ub300\\uc0b0\",\"\\ub300\\uc790\\uc11d\",\"\\ub300\\uc870\",\"\\ub300\\uc870\\uc721\",\"\\ub300\\ucc9c\\uc624\",\"\\ub300\\uccad\",\"\\ub300\\uccad\\uc5fd\",\"\\ub300\\ud48d\\uc790\",\"\\ub300\\ud669\",\"\\ub3c4\\uad50\",\"\\ub3c4\\ub178\",\"\\ub3c4\\uc778\",\"\\ub3c4\\uc9c0\",\"\\ub3c5\\ud65c\",\"\\ub3d9\\uacfc\\uc778\",\"\\ub3d9\\uaddc\\uc790\",\"\\ub3d9\\ub85d\",\"\\ub3d9\\ubcc0\",\"\\ub3d9\\uccad\",\"\\ub450\\ubc1c\",\"\\ub450\\uc2dc\",\"\\ub450\\uc911\",\"\\ub4f1\\uc2ec\\ucd08\",\"\\ub9c8\\ub450\\ub839\",\"\\ub9c8\\ub9b0\\uc790\",\"\\ub9c8\\ub9b0\\ud654\",\"\\ub9c8\\ubc1c\",\"\\ub9c8\\uc544\\ucd08\",\"\\ub9c8\\uc720\",\"\\ub9c8\\uc778\",\"\\ub9c8\\uc790\\uc778\",\"\\ub9c8\\uce58\\ud604\",\"\\ub9c8\\ud3b8\\ucd08\",\"\\ub9c8\\ud669\",\"\\ub9c8\\ud669\\uadfc\",\"\\ub9cc\\uc7a0\\uc0ac\",\"\\ub9cc\\uc7a0\\uc544\",\"\\ub9cc\\ud615\\uc790\",\"\\ub9dd\\uc18c\",\"\\ub9dd\\ucd08\",\"\\ub9e4\\ud654\\ub1cc\\uc790\",\"\\ub9e5\\ubb38\\ub3d9\",\"\\ub9e5\\uc544\",\"\\ub9e5\\uc5bc\",\"\\ub9f9\\ucda9\",\"\\uba74\\uacac\",\"\\uba74\\ud669\\uae30\",\"\\uba85\\uad50\",\"\\uba85\\ubc18\",\"\\uba85\\ubc31\\ubc18\",\"\\ubaa8\\uacfc\",\"\\ubaa8\\uadfc\",\"\\ubaa8\\ub824\",\"\\ubaa8\\uc815\\ud5a5\",\"\\ubaa8\\ud5a5\",\"\\ubaa9\\ub2e8\",\"\\ubaa9\\ub2e8\\ud53c\",\"\\ubaa9\\ubcc4\",\"\\ubaa9\\ubcc4\\uc790\",\"\\ubaa9\\uc774\",\"\\ubaa9\\uc801\",\"\\ubaa9\\ud1b5\",\"\\ubaa9\\ud5a5\",\"\\ubab0\\uc11d\\uc790\",\"\\ubab0\\uc57d\",\"\\ubabd\\uc11d\",\"\\ubb34\\uad81\",\"\\ubb34\\uc774\",\"\\ubb34\\ud68c\\uc8fc\",\"\\ubb38\\ud569\",\"\\ubbf8\\ucd08\",\"\\ubc00\\ubabd\\ud654\",\"\\ubc00\\ud0c0\\uc2b9\",\"\\ubc15\\uacc4\",\"\\ubc15\\uc18c\",\"\\ubc15\\ucd08\",\"\\ubc15\\ud558\",\"\\ubc15\\ud558\\uc5fd\",\"\\ubc15\\ud558\\uc720\",\"\\ubc18\\ubaa8\",\"\\ubc18\\ubb18\",\"\\ubc18\\uc11d\",\"\\ubc18\\ud558\",\"\\ubc18\\ud558\\uad6d\",\"\\ubc1c\\ud68c\",\"\\ubc29\\uae30\",\"\\ubc29\\ubd84\",\"\\ubc29\\ud48d\",\"\\ubc31\\uac15\",\"\\ubc31\\uac15\\uc7a0\",\"\\ubc31\\uac1c\\uc790\",\"\\ubc31\\uacac\\uc6b0\",\"\\ubc31\\uacfc\",\"\\ubc31\\uad50\\ud5a5\",\"\\ubc31\\uad6d\",\"\\ubc31\\uad6d\\ud654\",\"\\ubc31\\uaddc\\ud654\",\"\\ubc31\\uae09\",\"\\ubc31\\ub2e8\",\"\\ubc31\\ub2e8\\ud5a5\",\"\\ubc31\\ub450\\uad6c\",\"\\ubc31\\ub450\\uad6c\\uc778\",\"\\ubc31\\ub450\\uc639\",\"\\ubc31\\ub78d\",\"\\ubc31\\ub834\",\"\\ubc31\\uba74\",\"\\ubc31\\ubaa8\\uadfc\",\"\\ubc31\\ubb34\\uc774\",\"\\ubc31\\ubbf8\",\"\\ubc31\\ubc00\",\"\\ubc31\\ubc18\",\"\\ubc31\\ubcf5\\ub839\",\"\\ubc31\\ubcf5\\uc2e0\",\"\\ubc31\\ubd80\\uadfc\",\"\\ubc31\\ubd80\\uc790\",\"\\ubc31\\ube44\",\"\\ubc31\\ube48\\ub791\",\"\\ubc31\\uc0ac\\ub2f9\",\"\\ubc31\\uc11d\\uc601\",\"\\ubc31\\uc11d\\uc9c0\",\"\\ubc31\\uc120\\ud53c\",\"\\ubc31\\uc57d\\uc804\",\"\\ubc31\\uc5fc\",\"\\ubc31\\uc5fd\",\"\\ubc31\\uc6a9\\uace8\",\"\\ubc31\\uc790\\uc778\",\"\\ubc31\\uc791\",\"\\ubc31\\uc791\\uc57d\",\"\\ubc31\\uc815\\ud5a5\",\"\\ubc31\\uc9c0\",\"\\ubc31\\uc9c8\\ub824\",\"\\ubc31\\ucd08\\uc0c1\",\"\\ubc31\\ucd95\",\"\\ubc31\\ucd9c\",\"\\ubc31\\ud3b8\\ub450\",\"\\ubc31\\ud558\\uc218\\uc624\",\"\\ubc31\\ud569\",\"\\ubc31\\ud654\\uc0ac\",\"\\ubc31\\ud65c\\uc11d\",\"\\ubcc0\\ud5a5\\ubd80\",\"\\ubcc4\\uac11\",\"\\ubcf4\\uace8\\uc9c0\",\"\\ubcf5\\ub839\",\"\\ubcf5\\ub839\\ud53c\",\"\\ubcf5\\ub8e1\\uac04\",\"\\ubcf5\\ubd84\\uc790\",\"\\ubcf5\\uc2e0\",\"\\ubd09\\ubc00\",\"\\ubd09\\ubc29\",\"\\ubd09\\uc120\",\"\\ubd09\\uc544\\ubb34\",\"\\ubd09\\uc544\\ucd9c\",\"\\ubd09\\ucd9c\",\"\\ubd80\\uc6a9\\uc5fd\",\"\\ubd80\\uc790\",\"\\ubd80\\uc800\\ub9e4\",\"\\ubd80\\ud3c9\",\"\\ubd81\\uc138\\uc2e0\",\"\\ubd81\\uc2dc\\ud638\",\"\\ubd84\\uc0c1\",\"\\ubd84\\ucd08\",\"\\ubd88\\uc774\\ucd08\",\"\\ubd95\\uc0ac\",\"\\ube44\\ub9c8\\uc790\",\"\\ube44\\uc0c1\",\"\\ube44\\uc790\",\"\\ube44\\ud30c\\uc5fd\",\"\\ube44\\ud574\",\"\\ube48\\ub791\",\"\\ube59\\ud3b8\",\"\\uc0ac\\uac04\",\"\\uc0ac\\uacfc\",\"\\uc0ac\\uad70\\uc790\",\"\\uc0ac\\uad70\\uc790\\uc721\",\"\\uc0ac\\ub2f9\",\"\\uc0ac\\uc0bc\",\"\\uc0ac\\uc0c1\\uc790\",\"\\uc0ac\\uc6d0\\uc9c8\\ub824\",\"\\uc0ac\\uc778\",\"\\uc0ac\\ud0dc\",\"\\uc0ac\\ud1f4\",\"\\uc0ac\\ud568\\uc11d\",\"\\uc0ac\\ud5a5\",\"\\uc0b0\\ub450\\uadfc\",\"\\uc0b0\\uc0ac\",\"\\uc0b0\\uc0ac\\uc721\",\"\\uc0b0\\uc0ac\\uc790\",\"\\uc0b0\\uc11d\\ub958\\ud53c\",\"\\uc0b0\\uc218\\uc720\",\"\\uc0b0\\uc218\\uc720\\uc721\",\"\\uc0b0\\uc57d\",\"\\uc0b0\\uc790\\uace0\",\"\\uc0b0\\uc870\\uc778\",\"\\uc0b0\\uce58\",\"\\uc0b0\\uce58\\uc778\",\"\\uc0b0\\uce58\\uc790\",\"\\uc0b0\\uce58\\uc790\\uc778\",\"\\uc0bc\\ub0b4\",\"\\uc0bc\\ub989\",\"\\uc0bc\\ubaa9\\uc808\",\"\\uc0c1\\uae30\\uc0dd\",\"\\uc0c1\\ub959\",\"\\uc0c1\\ub9e4\",\"\\uc0c1\\ubc31\\ud53c\",\"\\uc0c1\\uc0b0\",\"\\uc0c1\\uc544\",\"\\uc0c1\\uc5fd\",\"\\uc0c1\\uc9c0\",\"\\uc0c1\\ud45c\\ucd08\",\"\\uc0c1\\ud53c\",\"\\uc0dd\\uac15\",\"\\uc0dd\\uac15\\uc999\",\"\\uc0dd\\uac15\\ud53c\",\"\\uc0dd\\uac74\\uc9c0\\ud669\",\"\\uc0dd\\ubc31\\ubc18\",\"\\uc0dd\\uc6a9\\ub1cc\",\"\\uc0dd\\uc720\\ud669\",\"\\uc0dd\\uc9c0\\ud669\",\"\\uc0dd\\ud669\\uae08\",\"\\uc11c\\uac01\",\"\\uc11c\\uac01\\uc124\",\"\\uc11c\\uc810\\uc790\",\"\\uc11d\\uacb0\\uba85\",\"\\uc11d\\uace0\",\"\\uc11d\\uace1\",\"\\uc11d\\ub0a8\\uc5fd\",\"\\uc11d\\ub828\\uc721\",\"\\uc11d\\ub828\\uc790\",\"\\uc11d\\ub958\\ud53c\",\"\\uc11d\\uc5f0\",\"\\uc11d\\uc5f0\\uc721\",\"\\uc11d\\uc6c5\\ud669\",\"\\uc11d\\uc704\",\"\\uc11d\\uc720\\ud669\",\"\\uc11d\\uc885\\uc720\",\"\\uc11d\\ucc3d\\ud3ec\",\"\\uc11d\\ud68c\",\"\\uc120\\uac01\",\"\\uc120\\ub839\\ube44\",\"\\uc120\\ubaa8\",\"\\uc120\\ubaa8\\uacfc\",\"\\uc120\\ubaa8\\uc0bc\",\"\\uc120\\ubcf5\\ud654\",\"\\uc120\\uc5b4\",\"\\uc120\\ud0dc\",\"\\uc120\\ud1f4\",\"\\uc124\\ub9ac\\uc999\",\"\\uc12c\\ub450\",\"\\uc12c\\uc218\",\"\\uc12c\\uc5ec\",\"\\uc138\\ub2e4\",\"\\uc138\\uc2e0\",\"\\uc18c\\uacbd\",\"\\uc18c\\uacc4\",\"\\uc18c\\ub1cc\",\"\\uc18c\\ub9e5\",\"\\uc18c\\ub9e5\\ub178\",\"\\uc18c\\ubaa9\",\"\\uc18c\\ubd84\",\"\\uc18c\\uc11d\",\"\\uc18c\\uc5fd\",\"\\uc18c\\uc790\",\"\\uc18c\\ucd08\",\"\\uc18c\\ud569\\uc720\",\"\\uc18c\\ud569\\ud5a5\",\"\\uc18c\\ud569\\ud5a5\\uc720\",\"\\uc18c\\ud68c\\ud5a5\",\"\\uc18d\\uac01\",\"\\uc18d\\ub2e8\",\"\\uc18d\\ubbf8\",\"\\uc18d\\uc218\\uc790\",\"\\uc1a1\\uc790\\uc778\",\"\\uc1a1\\uc808\",\"\\uc1a1\\uc9c0\",\"\\uc1a1\\ud654\",\"\\uc1c4\\uc591\",\"\\uc218\\ubd84\",\"\\uc218\\uc720\",\"\\uc218\\uc740\",\"\\uc218\\uc9c8\",\"\\uc218\\ud64d\\ud654\\uc790\",\"\\uc219\\uac74\\uc9c0\\ud669\",\"\\uc219\\uc560\",\"\\uc219\\uc9c0\\ud669\",\"\\uc2b9\\ub9c8\",\"\\uc2dc\\uc0c1\",\"\\uc2dc\\uccb4\",\"\\uc2dc\\ud638\",\"\\uc2dd\\uc218\\uc720\",\"\\uc2dd\\uc5fc\",\"\\uc2e0\\uace1\",\"\\uc2e0\\uad6d\",\"\\uc2e0\\uae09\\uc218\",\"\\uc2e0\\ube44\",\"\\uc2e0\\uc11d\",\"\\uc2e0\\uc774\",\"\\uc2e0\\uc774\\ud654\",\"\\uc544\\uad50\",\"\\uc544\\uad50\\uc8fc\",\"\\uc544\\ub2e4\",\"\\uc544\\ubb34\",\"\\uc544\\uc18c\",\"\\uc544\\uc704\",\"\\uc544\\uc870\",\"\\uc544\\ucd08\",\"\\uc544\\ucd9c\",\"\\uc545\\uc2e4\",\"\\uc548\\uc2dd\\ud5a5\",\"\\uc560\\uc5fd\",\"\\uc575\\uc18d\\uac01\",\"\\uc57c\\uba85\\uc0ac\",\"\\uc591\\uac04\",\"\\uc591\\uac15\",\"\\uc591\\uacbd\\uace8\",\"\\uc591\\uae30\\uc11d\",\"\\uc591\\ub450\\ucca8\",\"\\uc591\\uc0c1\\uc9c4\",\"\\uc591\\uc2e0\",\"\\uc591\\uc721\",\"\\uc5b4\\uad50\",\"\\uc5b4\\ubbf8\\uac01\",\"\\uc5ec\\ub85c\",\"\\uc5ec\\uc9c0\\ud575\",\"\\uc5f0\\uad50\",\"\\uc5f0\\uadfc\",\"\\uc5f0\\ubd84\",\"\\uc5f0\\uc11d\\uace0\",\"\\uc5f0\\uc608\",\"\\uc5f0\\uc721\",\"\\uc5f0\\uc790\",\"\\uc5f0\\uc790\\uc721\",\"\\uc5f0\\uc9c0\",\"\\uc5f0\\ud638\\uc0c9\",\"\\uc5f0\\ud654\\uc218\",\"\\uc5f0\\ud654\\uc608\",\"\\uc5fc\\ucd08\",\"\\uc5fc\\ud654\",\"\\uc601\\ub989\\ud5a5\",\"\\uc601\\uc0ac\",\"\\uc601\\uc591\\uac01\",\"\\uc624\\uac00\\ud53c\",\"\\uc624\\uacc4\\ub780\",\"\\uc624\\uacf5\",\"\\uc624\\ub450\",\"\\uc624\\ub839\\uc9c0\",\"\\uc624\\ub9e4\",\"\\uc624\\ub9e4\\uc721\",\"\\uc624\\ubbf8\",\"\\uc624\\ubbf8\\uc790\",\"\\uc624\\ubc30\\uc790\",\"\\uc624\\uc0ac\",\"\\uc624\\uc0ac\\uc721\",\"\\uc624\\uc11c\\uac01\",\"\\uc624\\uc218\\uc720\",\"\\uc624\\uc57d\",\"\\uc624\\uc801\\uc5b4\\uace8\",\"\\uc624\\ucd08\\uc0ac\",\"\\uc62c\\ub20c\\uc81c\",\"\\uc640\\uc6b0\",\"\\uc655\\ubd88\\ub958\\ud589\",\"\\uc678\\uac15\",\"\\uc694\\uc0ac\",\"\\uc6a9\\uace8\",\"\\uc6a9\\ub1cc\",\"\\uc6a9\\ub2f4\",\"\\uc6a9\\ub2f4\\ucd08\",\"\\uc6a9\\uc548\\uc721\",\"\\uc6a9\\uce58\",\"\\uc6b0\\uac01\\uc0c8\",\"\\uc6b0\\ub2f4\",\"\\uc6b0\\ub2f4\\ub0a8\\uc131\",\"\\uc6b0\\ubc29\\uc790\",\"\\uc6b0\\uc2ac\",\"\\uc6b0\\uc5ec\\ub7c9\",\"\\uc6b0\\uc720\",\"\\uc6b0\\uc721\",\"\\uc6b0\\uc808\",\"\\uc6b0\\uc999\",\"\\uc6b0\\ud669\",\"\\uc6b1\\ub9ac\\uc778\",\"\\uc6b4\\ubaa8\",\"\\uc6b8\\uae08\",\"\\uc6c5\\ub2f4\",\"\\uc6c5\\ud669\",\"\\uc6c5\\ud751\\ub450\",\"\\uc6d0\\uba85\\ubd84\",\"\\uc6d0\\uc0bc\",\"\\uc6d0\\uc9c0\",\"\\uc6d0\\uccad\",\"\\uc6d0\\ud654\",\"\\uc6d4\\uc11d\",\"\\uc704\\ub839\\uc120\",\"\\uc704\\uc720\",\"\\uc704\\ud53c\",\"\\uc720\\uae30\\ub178\",\"\\uc720\\ubc1c\\ud68c\",\"\\uc720\\ubc31\\ud53c\",\"\\uc720\\uc778\",\"\\uc720\\uc9c0\",\"\\uc720\\ud5a5\",\"\\uc720\\ud669\",\"\\uc721\\uacc4\",\"\\uc721\\ub450\\uad6c\",\"\\uc721\\uc885\\uc6a9\",\"\\uc740\\ubc15\",\"\\uc740\\uc2dc\\ud638\",\"\\uc740\\uc8fc\",\"\\uc74c\\uc591\\uacfd\",\"\\uc758\\uc774\\uc778\",\"\\uc774\\ub2f9\",\"\\uc774\\ubd84\",\"\\uc774\\uc5b4\",\"\\uc774\\uc5b4\\ub2f4\",\"\\uc775\\ubaa8\\ucd08\",\"\\uc775\\uc9c0\",\"\\uc775\\uc9c0\\uc778\",\"\\uc778\\ub1e8\",\"\\uc778\\ub3d9\",\"\\uc778\\ub3d9\\ub4f1\",\"\\uc778\\ub3d9\\ucd08\",\"\\uc778\\uc0bc\",\"\\uc778\\uc720\",\"\\uc778\\uc911\\ubc31\",\"\\uc778\\uc911\\ud669\",\"\\uc778\\uc9c4\",\"\\uc778\\uc9c4\\ud638\",\"\\uc790\\uac10\\ucd08\",\"\\uc790\\uae08\",\"\\uc790\\uae08\\ud53c\",\"\\uc790\\ub2e8\\ud5a5\",\"\\uc790\\ubc30\\ubd80\\ud3c9\",\"\\uc790\\uc0bc\",\"\\uc790\\uc11d\",\"\\uc790\\uc11d\\uc601\",\"\\uc790\\uc18c\",\"\\uc790\\uc18c\\uc5fd\",\"\\uc790\\uc18c\\uc790\",\"\\uc790\\uc5f0\\ub3d9\",\"\\uc790\\uc644\",\"\\uc790\\uc644\\uc6a9\",\"\\uc790\\uc6d0\",\"\\uc790\\uc704\\ud53c\",\"\\uc790\\ucd08\",\"\\uc790\\ucd08\\uc6a9\",\"\\uc790\\ucda9\",\"\\uc790\\ud558\\uac70\",\"\\uc790\\ud654\\uc9c0\\uc815\",\"\\uc790\\ud669\",\"\\uc791\\uc57d\",\"\\uc7a0\\uacac\",\"\\uc7a0\\ud1f4\",\"\\uc7a0\\ud1f4\\uc9c0\",\"\\uc7a5\\ub1cc\",\"\\uc800\\uac04\",\"\\uc800\\uace0\",\"\\uc800\\uadfc\",\"\\uc800\\uadfc\\ubc31\\ud53c\",\"\\uc800\\uadfc\\ud53c\",\"\\uc800\\ub2f4\",\"\\uc800\\ub2f4\\uc999\",\"\\uc800\\ub450\",\"\\uc800\\ub839\",\"\\uc800\\uc2e4\",\"\\uc800\\uc2e4\\uc790\",\"\\uc800\\uc2ec\",\"\\uc800\\uc544\\uc870\\uac01\",\"\\uc800\\uc694\\uc790\",\"\\uc800\\uc81c\",\"\\uc800\\uc81c\\uac11\",\"\\uc800\\uc9c0\",\"\\uc800\\ud604\\uc81c\",\"\\uc801\\ub450\",\"\\uc801\\ubcf5\\ub839\",\"\\uc801\\uc11d\\uc9c0\",\"\\uc801\\uc18c\\ub450\",\"\\uc801\\uc791\",\"\\uc801\\uc791\\uc57d\",\"\\uc801\\uc804\",\"\\uc801\\ud558\\uc218\\uc624\",\"\\uc804\\uac08\",\"\\uc804\\ub77c\",\"\\uc804\\ud638\",\"\\uc808\\ud328\\ubaa8\",\"\\uc815\\ub825\\uc790\",\"\\uc815\\ubd84\",\"\\uc815\\ud53c\",\"\\uc815\\ud5a5\",\"\\uc815\\ud5a5\\ud53c\",\"\\uc81c\\uc870\",\"\\uc870\\uac01\",\"\\uc870\\uac01\\uc778\",\"\\uc870\\uac01\\uc790\",\"\\uc870\\uad6c\\ub4f1\",\"\\uc870\\uae08\",\"\\uc870\\ub1cc\",\"\\uc870\\ub3cc\\ubb35\",\"\\uc870\\ubc18\",\"\\uc870\\uc720\\uadfc\",\"\\uc870\\ud611\",\"\\uc885\\ub824\\ud53c\",\"\\uc885\\uc6a9\",\"\\uc8fc\\uae08\",\"\\uc8fc\\uc0ac\",\"\\uc8fd\\ub825\",\"\\uc8fd\\uc5ec\",\"\\uc8fd\\uc5fd\",\"\\uc989\\uc5b4\",\"\\uc9c0\\uac01\",\"\\uc9c0\\uace8\\ud53c\",\"\\uc9c0\\ub8e1\",\"\\uc9c0\\ub9c8\",\"\\uc9c0\\ubaa8\",\"\\uc9c0\\ubd80\\uc790\",\"\\uc9c0\\uc2e4\",\"\\uc9c0\\uc720\",\"\\uc9c0\\uc8fc\",\"\\uc9c0\\ud669\",\"\\uc9c4\\uad50\",\"\\uc9c4\\uade4\\ud53c\",\"\\uc9c4\\ubbf8\",\"\\uc9c4\\uc0ac\",\"\\uc9c4\\uc560\\uc5fd\",\"\\uc9c4\\uc8fc\",\"\\uc9c4\\uc8fc\\ubaa8\",\"\\uc9c4\\ucc3d\\ubbf8\",\"\\uc9c4\\ud53c\",\"\\uc9c8\\ub824\\uc790\",\"\\ucc28\\uc804\\uc790\",\"\\ucc3d\\uc774\",\"\\ucc3d\\uc774\\uc790\",\"\\ucc3d\\uc774\\ucd08\",\"\\ucc3d\\ucd9c\",\"\\ucc3d\\ud3ec\",\"\\ucc99\\ucd09\\ud654\",\"\\ucc9c\\uac15\",\"\\ucc9c\\uac74\\uac15\",\"\\ucc9c\\uad81\",\"\\ucc9c\\uadc0\",\"\\ucc9c\\uadfc\",\"\\ucc9c\\ub0a8\\uc131\",\"\\ucc9c\\ub3d9\",\"\\ucc9c\\ub828\",\"\\ucc9c\\ub828\\uc721\",\"\\ucc9c\\ub828\\uc790\",\"\\ucc9c\\ub839\\uac1c\",\"\\ucc9c\\ub9c8\",\"\\ucc9c\\ubb38\\ub3d9\",\"\\ucc9c\\uc0b0\\uac11\",\"\\ucc9c\\uc120\\ub4f1\",\"\\ucc9c\\uc18d\\ub2e8\",\"\\ucc9c\\uc624\",\"\\ucc9c\\uc624\\ub450\",\"\\ucc9c\\uc624\\ucca8\",\"\\ucc9c\\uc6b0\\uc2ac\",\"\\ucc9c\\uc6c5\",\"\\ucc9c\\uc7a5\\uc790\",\"\\ucc9c\\ucd08\",\"\\ucc9c\\ucd08\\uadfc\",\"\\ucc9c\\ucd95\\ud669\",\"\\ucc9c\\ud0dc\\uc624\\uc57d\",\"\\ucc9c\\ud328\\ubaa8\",\"\\ucc9c\\ud654\\ubd84\",\"\\ucc9c\\ud669\\ub828\",\"\\ucca0\\ubd84\",\"\\ucca0\\uc724\\ubd84\",\"\\ucca8\\uc815\\ub825\",\"\\uccad\\uade4\\ud53c\",\"\\uccad\\ub300\",\"\\uccad\\ubaa9\\ud5a5\",\"\\uccad\\ubabd\\uc11d\",\"\\uccad\\ubc18\",\"\\uccad\\uc0c1\\uc790\",\"\\uccad\\uc0c1\\ud53c\",\"\\uccad\\uc591\\ub2f4\",\"\\uccad\\uc5b4\\ub2f4\",\"\\uccad\\uc5fc\",\"\\uccad\\uc720\",\"\\uccad\\uc8fc\",\"\\uccad\\uc8fd\\uc5ec\",\"\\uccad\\ud53c\",\"\\uccad\\ud638\",\"\\ucd08\\uacb0\\uba85\",\"\\ucd08\\uacfc\",\"\\ucd08\\uacfc\\uc778\",\"\\ucd08\\ub450\\uad6c\",\"\\ucd08\\ubaa9\",\"\\ucd08\\uc11d\",\"\\ucd08\\uc624\",\"\\ucd08\\uc6a9\\ub2f4\",\"\\ucd09\\ucd08\",\"\\ucd1d\\ubc31\",\"\\ucd94\\uc11d\",\"\\ucd95\\uc0ac\",\"\\ucd95\\uc0ac\\uc778\",\"\\ucd98\\uadfc\\ubc31\\ud53c\",\"\\ucda9\\uc704\\uc790\",\"\\uce21\\ubc31\",\"\\uce21\\ubc31\\uc5fd\",\"\\uce58\\uc790\",\"\\uce58\\uc790\\uc778\",\"\\uce68\\uc0ac\",\"\\uce68\\ud5a5\",\"\\ud0dc\\uc74c\\ud604\\uc815\\uc11d\",\"\\ud0dd\\ub780\",\"\\ud0dd\\ub780\\uc5fd\",\"\\ud0dd\\uc0ac\",\"\\ud1a0\\uacfc\\uadfc\",\"\\ud1a0\\uad6c\",\"\\ud1a0\\ubaa9\\ud5a5\",\"\\ud1a0\\ubcf5\\ub839\",\"\\ud1a0\\ubd09\\ubc29\",\"\\ud1a0\\uc0ac\\uc790\",\"\\ud1b5\\ucd08\",\"\\ud30c\\uace0\\uc9c0\",\"\\ud30c\\uadf9\",\"\\ud30c\\uadf9\\uc721\",\"\\ud30c\\uadf9\\ucc9c\",\"\\ud30c\\ub450\",\"\\ud30c\\ub450\\uc0c1\",\"\\ud30c\\ub450\\uc721\",\"\\ud30c\\ub450\\uc778\",\"\\ud310\\ub78c\\uadfc\",\"\\ud314\\uac01\\ud68c\\ud5a5\",\"\\ud328\\ubaa8\",\"\\ud328\\uc7a5\",\"\\ud328\\uc885\",\"\\ud3b8\\uae08\",\"\\ud3b8\\ub1cc\",\"\\ud3b8\\ub450\",\"\\ud3b8\\ubcf5\",\"\\ud3b8\\uc790\\uac15\\ud669\",\"\\ud3b8\\ucd95\",\"\\ud3ec\\uacf5\\uc601\",\"\\ud3ec\\ubd80\\uc790\",\"\\ud3ec\\ud669\",\"\\ud48d\\ud654\\uc11d\\ud68c\",\"\\ud48d\\ud654\\ucd08\",\"\\ud544\\ubc1c\",\"\\ud544\\uc9d5\\uac00\",\"\\ud558\\uace0\\ucd08\",\"\\ud558\\ub9c8\",\"\\ud558\\uc218\\uc624\",\"\\ud558\\uc5fd\",\"\\ud559\\uc2ac\",\"\\ud55c\\ub828\\ucd08\",\"\\ud55c\\uc218\\uc11d\",\"\\ud55c\\uc2dd\\uba74\",\"\\ud569\\uac1c\",\"\\ud569\\ubd84\",\"\\ud569\\ud658\\ud53c\",\"\\ud574\\uae08\\uc0ac\",\"\\ud574\\ub300\",\"\\ud574\\ub3d9\\ud53c\",\"\\ud574\\ubc31\",\"\\ud574\\ubd84\",\"\\ud574\\uc11d\",\"\\ud574\\uc1a1\\uc790\",\"\\ud574\\uc544\\ub2e4\",\"\\ud574\\uc870\",\"\\ud574\\ud45c\\uc18c\",\"\\ud574\\ud569\",\"\\ud574\\ud569\\ubd84\",\"\\ud589\\uc778\",\"\\ud5a5\\ubc31\\uc9c0\",\"\\ud5a5\\ubd80\",\"\\ud5a5\\ubd80\\ubbf8\",\"\\ud5a5\\ubd80\\uc790\",\"\\ud5a5\\uc2dc\",\"\\ud5a5\\uc5ec\",\"\\ud5a5\\uc720\",\"\\ud604\\uba85\\ubd84\",\"\\ud604\\uc0bc\",\"\\ud604\\ud638\\uc0c9\",\"\\ud608\\uac08\",\"\\ud608\\uc5ec\",\"\\ud615\\uac1c\",\"\\ud615\\uac1c\\uc218\",\"\\ud615\\uc0bc\\ub989\",\"\\ud638\\uacbd\\uace8\",\"\\ud638\\uace8\",\"\\ud638\\ub3c4\",\"\\ud638\\ub3c4\\uc721\",\"\\ud638\\ub3c4\\uc778\",\"\\ud638\\ub3d9\\ub8e8\",\"\\ud638\\ub85c\\ud30c\",\"\\ud638\\ub9c8\",\"\\ud638\\ub9c8\\uc790\",\"\\ud638\\ubc15\",\"\\ud638\\ubc18\\uc720\\uc0ac\",\"\\ud638\\ubd84\",\"\\ud638\\uc7a5\\uadfc\",\"\\ud638\\ucd08\",\"\\ud638\\ud669\\ub828\",\"\\ud64d\\uad6d\",\"\\ud64d\\ub0b4\\uc18c\",\"\\ud64d\\ub450\",\"\\ud64d\\uc544\\ub300\\uadf9\",\"\\ud64d\\uc870\",\"\\ud64d\\ucd08\",\"\\ud64d\\ud654\",\"\\ud654\\ub9c8\\uc778\",\"\\ud654\\uc608\\uc11d\",\"\\ud654\\ud53c\",\"\\ud65c\\uc11d\",\"\\ud669\\uacfc\\ub8e8\",\"\\ud669\\uad6c\",\"\\ud669\\uae08\",\"\\ud669\\uae30\",\"\\ud669\\ub2e8\",\"\\ud669\\ub78d\",\"\\ud669\\ub828\",\"\\ud669\\ubc31\",\"\\ud669\\ubc31\\ud53c\",\"\\ud669\\ubcbd\",\"\\ud669\\ubcbd\\ud53c\",\"\\ud669\\uc57d\\uc790\",\"\\ud669\\uc815\",\"\\ud669\\ud5a5\",\"\\ud68c\\uc0b0\\uc57d\",\"\\ud68c\\uc0dd\\uc9c0\\ud669\",\"\\ud68c\\uc219\\uc9c0\\ud669\",\"\\ud68c\\ud5a5\",\"\\ud6c4\\ubc15\",\"\\ud751\\uacac\\uc6b0\",\"\\ud751\\uacac\\uc6b0\\uc790\",\"\\ud751\\uad6c\\ucc99\",\"\\ud751\\ub450\",\"\\ud751\\ubd80\\uc790\",\"\\ud751\\uc11d\",\"\\ud751\\uc5f0\",\"\\ud751\\ucd95\",\"\\ud76c\\ub834\",\"\\ud76c\\ub834\\ucd08\"],\"x\":{\"__ndarray__\":\"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\",\"dtype\":\"float32\",\"shape\":[916]},\"y\":{\"__ndarray__\":\"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\",\"dtype\":\"float32\",\"shape\":[916]}},\"selected\":{\"id\":\"1392\",\"type\":\"Selection\"},\"selection_policy\":{\"id\":\"1393\",\"type\":\"UnionRenderers\"}},\"id\":\"1299\",\"type\":\"ColumnDataSource\"},{\"attributes\":{\"fill_alpha\":{\"value\":0.6},\"fill_color\":{\"value\":\"#1f77b4\"},\"line_color\":{\"value\":null},\"radius\":{\"units\":\"data\",\"value\":1},\"x\":{\"field\":\"x\"},\"y\":{\"field\":\"y\"}},\"id\":\"1361\",\"type\":\"Circle\"},{\"attributes\":{\"bottom_units\":\"screen\",\"fill_alpha\":{\"value\":0.5},\"fill_color\":{\"value\":\"lightgrey\"},\"left_units\":\"screen\",\"level\":\"overlay\",\"line_alpha\":{\"value\":1.0},\"line_color\":{\"value\":\"black\"},\"line_dash\":[4,4],\"line_width\":{\"value\":2},\"plot\":null,\"render_mode\":\"css\",\"right_units\":\"screen\",\"top_units\":\"screen\"},\"id\":\"1342\",\"type\":\"BoxAnnotation\"},{\"attributes\":{\"source\":{\"id\":\"1299\",\"type\":\"ColumnDataSource\"}},\"id\":\"1364\",\"type\":\"CDSView\"},{\"attributes\":{\"formatter\":{\"id\":\"1389\",\"type\":\"BasicTickFormatter\"},\"plot\":{\"id\":\"1301\",\"subtype\":\"Figure\",\"type\":\"Plot\"},\"ticker\":{\"id\":\"1312\",\"type\":\"BasicTicker\"}},\"id\":\"1311\",\"type\":\"LinearAxis\"},{\"attributes\":{\"bottom_units\":\"screen\",\"fill_alpha\":{\"value\":0.5},\"fill_color\":{\"value\":\"lightgrey\"},\"left_units\":\"screen\",\"level\":\"overlay\",\"line_alpha\":{\"value\":1.0},\"line_color\":{\"value\":\"black\"},\"line_dash\":[4,4],\"line_width\":{\"value\":2},\"plot\":null,\"render_mode\":\"css\",\"right_units\":\"screen\",\"top_units\":\"screen\"},\"id\":\"1350\",\"type\":\"BoxAnnotation\"},{\"attributes\":{\"callback\":null,\"tooltips\":[[\"label\",\"@label\"],[\"(index, x, y)\",\"($index, $x, $y)\"]]},\"id\":\"1321\",\"type\":\"HoverTool\"},{\"attributes\":{},\"id\":\"1391\",\"type\":\"BasicTickFormatter\"},{\"attributes\":{},\"id\":\"1322\",\"type\":\"CrosshairTool\"},{\"attributes\":{\"fill_alpha\":{\"value\":0.5},\"fill_color\":{\"value\":\"lightgrey\"},\"level\":\"overlay\",\"line_alpha\":{\"value\":1.0},\"line_color\":{\"value\":\"black\"},\"line_dash\":[4,4],\"line_width\":{\"value\":2},\"plot\":null,\"xs_units\":\"screen\",\"ys_units\":\"screen\"},\"id\":\"1353\",\"type\":\"PolyAnnotation\"},{\"attributes\":{},\"id\":\"1323\",\"type\":\"PanTool\"},{\"attributes\":{\"plot\":null,\"text\":\"Co-Word Model\"},\"id\":\"1300\",\"type\":\"Title\"},{\"attributes\":{\"fill_alpha\":{\"value\":0.5},\"fill_color\":{\"value\":\"lightgrey\"},\"level\":\"overlay\",\"line_alpha\":{\"value\":1.0},\"line_color\":{\"value\":\"black\"},\"line_dash\":[4,4],\"line_width\":{\"value\":2},\"plot\":null,\"xs_units\":\"screen\",\"ys_units\":\"screen\"},\"id\":\"1356\",\"type\":\"PolyAnnotation\"},{\"attributes\":{},\"id\":\"1324\",\"type\":\"WheelZoomTool\"},{\"attributes\":{},\"id\":\"1325\",\"type\":\"ZoomInTool\"},{\"attributes\":{},\"id\":\"1389\",\"type\":\"BasicTickFormatter\"},{\"attributes\":{\"callback\":null},\"id\":\"1305\",\"type\":\"DataRange1d\"},{\"attributes\":{},\"id\":\"1326\",\"type\":\"ZoomOutTool\"},{\"attributes\":{\"callback\":null},\"id\":\"1303\",\"type\":\"DataRange1d\"},{\"attributes\":{\"overlay\":{\"id\":\"1342\",\"type\":\"BoxAnnotation\"}},\"id\":\"1327\",\"type\":\"BoxZoomTool\"},{\"attributes\":{},\"id\":\"1307\",\"type\":\"LinearScale\"},{\"attributes\":{},\"id\":\"1328\",\"type\":\"UndoTool\"},{\"attributes\":{},\"id\":\"1392\",\"type\":\"Selection\"},{\"attributes\":{},\"id\":\"1309\",\"type\":\"LinearScale\"},{\"attributes\":{},\"id\":\"1329\",\"type\":\"RedoTool\"},{\"attributes\":{},\"id\":\"1393\",\"type\":\"UnionRenderers\"},{\"attributes\":{},\"id\":\"1330\",\"type\":\"ResetTool\"},{\"attributes\":{},\"id\":\"1312\",\"type\":\"BasicTicker\"},{\"attributes\":{\"plot\":{\"id\":\"1301\",\"subtype\":\"Figure\",\"type\":\"Plot\"},\"ticker\":{\"id\":\"1312\",\"type\":\"BasicTicker\"}},\"id\":\"1315\",\"type\":\"Grid\"},{\"attributes\":{\"callback\":null},\"id\":\"1331\",\"type\":\"TapTool\"},{\"attributes\":{\"formatter\":{\"id\":\"1391\",\"type\":\"BasicTickFormatter\"},\"plot\":{\"id\":\"1301\",\"subtype\":\"Figure\",\"type\":\"Plot\"},\"ticker\":{\"id\":\"1317\",\"type\":\"BasicTicker\"}},\"id\":\"1316\",\"type\":\"LinearAxis\"},{\"attributes\":{},\"id\":\"1332\",\"type\":\"SaveTool\"},{\"attributes\":{},\"id\":\"1317\",\"type\":\"BasicTicker\"},{\"attributes\":{\"callback\":null,\"overlay\":{\"id\":\"1350\",\"type\":\"BoxAnnotation\"}},\"id\":\"1333\",\"type\":\"BoxSelectTool\"},{\"attributes\":{\"dimension\":1,\"plot\":{\"id\":\"1301\",\"subtype\":\"Figure\",\"type\":\"Plot\"},\"ticker\":{\"id\":\"1317\",\"type\":\"BasicTicker\"}},\"id\":\"1320\",\"type\":\"Grid\"},{\"attributes\":{\"callback\":null,\"overlay\":{\"id\":\"1353\",\"type\":\"PolyAnnotation\"}},\"id\":\"1334\",\"type\":\"PolySelectTool\"},{\"attributes\":{\"data_source\":{\"id\":\"1299\",\"type\":\"ColumnDataSource\"},\"glyph\":{\"id\":\"1361\",\"type\":\"Circle\"},\"hover_glyph\":null,\"muted_glyph\":null,\"nonselection_glyph\":{\"id\":\"1362\",\"type\":\"Circle\"},\"selection_glyph\":null,\"view\":{\"id\":\"1364\",\"type\":\"CDSView\"}},\"id\":\"1363\",\"type\":\"GlyphRenderer\"},{\"attributes\":{\"callback\":null,\"overlay\":{\"id\":\"1356\",\"type\":\"PolyAnnotation\"}},\"id\":\"1335\",\"type\":\"LassoSelectTool\"},{\"attributes\":{\"fill_alpha\":{\"value\":0.1},\"fill_color\":{\"value\":\"#1f77b4\"},\"line_alpha\":{\"value\":0.1},\"line_color\":{\"value\":\"#1f77b4\"},\"radius\":{\"units\":\"data\",\"value\":1},\"x\":{\"field\":\"x\"},\"y\":{\"field\":\"y\"}},\"id\":\"1362\",\"type\":\"Circle\"}],\"root_ids\":[\"1301\"]},\"title\":\"Bokeh Application\",\"version\":\"1.0.4\"}};\n",
       "  var render_items = [{\"docid\":\"f8faa1a1-1132-4c9e-87e1-7dfe88aa537f\",\"roots\":{\"1301\":\"010be666-9868-44f3-b813-abc9affc0a10\"}}];\n",
       "  root.Bokeh.embed.embed_items_notebook(docs_json, render_items);\n",
       "\n",
       "  }\n",
       "  if (root.Bokeh !== undefined) {\n",
       "    embed_document(root);\n",
       "  } else {\n",
       "    var attempts = 0;\n",
       "    var timer = setInterval(function(root) {\n",
       "      if (root.Bokeh !== undefined) {\n",
       "        embed_document(root);\n",
       "        clearInterval(timer);\n",
       "      }\n",
       "      attempts++;\n",
       "      if (attempts > 100) {\n",
       "        console.log(\"Bokeh: ERROR: Unable to run BokehJS code because BokehJS library is missing\");\n",
       "        clearInterval(timer);\n",
       "      }\n",
       "    }, 10, root)\n",
       "  }\n",
       "})(window);"
      ],
      "application/vnd.bokehjs_exec.v0+json": ""
     },
     "metadata": {
      "application/vnd.bokehjs_exec.v0+json": {
       "id": "1301"
      }
     },
     "output_type": "display_data"
    }
   ],
   "source": [
    "show( tsne_plot( transformed_coword, tf_feature_names, \"Co-Word Model\" ) )"
   ]
  },
  {
   "cell_type": "code",
   "execution_count": 28,
   "metadata": {},
   "outputs": [
    {
     "name": "stdout",
     "output_type": "stream",
     "text": [
      "9611.131\n",
      "-392.1179\n"
     ]
    }
   ],
   "source": [
    "x, y = transformed_coword.T\n",
    "print( max(x) )\n",
    "print( min(x) )"
   ]
  },
  {
   "cell_type": "code",
   "execution_count": 29,
   "metadata": {},
   "outputs": [
    {
     "name": "stdout",
     "output_type": "stream",
     "text": [
      "T-score TSNE model done in 13.161997s.\n"
     ]
    }
   ],
   "source": [
    "t0 = time()\n",
    "transformed_tscore = tsne_model_fit_transform( term_vector_via_tscore.todense() )\n",
    "print( \"T-score TSNE model done in {:03f}s.\".format( time() - t0 ) )"
   ]
  },
  {
   "cell_type": "code",
   "execution_count": 30,
   "metadata": {},
   "outputs": [
    {
     "data": {
      "text/html": [
       "\n",
       "\n",
       "\n",
       "\n",
       "\n",
       "\n",
       "  <div class=\"bk-root\" id=\"d021cf1d-a468-4571-960a-f3c6cce56768\" data-root-id=\"1466\"></div>\n"
      ]
     },
     "metadata": {},
     "output_type": "display_data"
    },
    {
     "data": {
      "application/javascript": [
       "(function(root) {\n",
       "  function embed_document(root) {\n",
       "    \n",
       "  var docs_json = {\"84a56f2b-b088-41e1-9949-065bfd417e27\":{\"roots\":{\"references\":[{\"attributes\":{\"below\":[{\"id\":\"1476\",\"type\":\"LinearAxis\"}],\"left\":[{\"id\":\"1481\",\"type\":\"LinearAxis\"}],\"renderers\":[{\"id\":\"1476\",\"type\":\"LinearAxis\"},{\"id\":\"1480\",\"type\":\"Grid\"},{\"id\":\"1481\",\"type\":\"LinearAxis\"},{\"id\":\"1485\",\"type\":\"Grid\"},{\"id\":\"1507\",\"type\":\"BoxAnnotation\"},{\"id\":\"1515\",\"type\":\"BoxAnnotation\"},{\"id\":\"1518\",\"type\":\"PolyAnnotation\"},{\"id\":\"1521\",\"type\":\"PolyAnnotation\"},{\"id\":\"1528\",\"type\":\"GlyphRenderer\"}],\"title\":{\"id\":\"1465\",\"type\":\"Title\"},\"toolbar\":{\"id\":\"1501\",\"type\":\"Toolbar\"},\"x_range\":{\"id\":\"1468\",\"type\":\"DataRange1d\"},\"x_scale\":{\"id\":\"1472\",\"type\":\"LinearScale\"},\"y_range\":{\"id\":\"1470\",\"type\":\"DataRange1d\"},\"y_scale\":{\"id\":\"1474\",\"type\":\"LinearScale\"}},\"id\":\"1466\",\"subtype\":\"Figure\",\"type\":\"Plot\"},{\"attributes\":{\"callback\":null},\"id\":\"1470\",\"type\":\"DataRange1d\"},{\"attributes\":{},\"id\":\"1472\",\"type\":\"LinearScale\"},{\"attributes\":{},\"id\":\"1497\",\"type\":\"SaveTool\"},{\"attributes\":{\"formatter\":{\"id\":\"1567\",\"type\":\"BasicTickFormatter\"},\"plot\":{\"id\":\"1466\",\"subtype\":\"Figure\",\"type\":\"Plot\"},\"ticker\":{\"id\":\"1482\",\"type\":\"BasicTicker\"}},\"id\":\"1481\",\"type\":\"LinearAxis\"},{\"attributes\":{\"plot\":{\"id\":\"1466\",\"subtype\":\"Figure\",\"type\":\"Plot\"},\"ticker\":{\"id\":\"1477\",\"type\":\"BasicTicker\"}},\"id\":\"1480\",\"type\":\"Grid\"},{\"attributes\":{\"callback\":null,\"overlay\":{\"id\":\"1515\",\"type\":\"BoxAnnotation\"}},\"id\":\"1498\",\"type\":\"BoxSelectTool\"},{\"attributes\":{},\"id\":\"1482\",\"type\":\"BasicTicker\"},{\"attributes\":{\"callback\":null,\"overlay\":{\"id\":\"1518\",\"type\":\"PolyAnnotation\"}},\"id\":\"1499\",\"type\":\"PolySelectTool\"},{\"attributes\":{\"dimension\":1,\"plot\":{\"id\":\"1466\",\"subtype\":\"Figure\",\"type\":\"Plot\"},\"ticker\":{\"id\":\"1482\",\"type\":\"BasicTicker\"}},\"id\":\"1485\",\"type\":\"Grid\"},{\"attributes\":{},\"id\":\"1493\",\"type\":\"UndoTool\"},{\"attributes\":{\"callback\":null,\"overlay\":{\"id\":\"1521\",\"type\":\"PolyAnnotation\"}},\"id\":\"1500\",\"type\":\"LassoSelectTool\"},{\"attributes\":{\"source\":{\"id\":\"1464\",\"type\":\"ColumnDataSource\"}},\"id\":\"1529\",\"type\":\"CDSView\"},{\"attributes\":{},\"id\":\"1568\",\"type\":\"Selection\"},{\"attributes\":{},\"id\":\"1569\",\"type\":\"UnionRenderers\"},{\"attributes\":{},\"id\":\"1474\",\"type\":\"LinearScale\"},{\"attributes\":{\"data_source\":{\"id\":\"1464\",\"type\":\"ColumnDataSource\"},\"glyph\":{\"id\":\"1526\",\"type\":\"Circle\"},\"hover_glyph\":null,\"muted_glyph\":null,\"nonselection_glyph\":{\"id\":\"1527\",\"type\":\"Circle\"},\"selection_glyph\":null,\"view\":{\"id\":\"1529\",\"type\":\"CDSView\"}},\"id\":\"1528\",\"type\":\"GlyphRenderer\"},{\"attributes\":{\"fill_alpha\":{\"value\":0.1},\"fill_color\":{\"value\":\"#1f77b4\"},\"line_alpha\":{\"value\":0.1},\"line_color\":{\"value\":\"#1f77b4\"},\"radius\":{\"units\":\"data\",\"value\":1},\"x\":{\"field\":\"x\"},\"y\":{\"field\":\"y\"}},\"id\":\"1527\",\"type\":\"Circle\"},{\"attributes\":{\"bottom_units\":\"screen\",\"fill_alpha\":{\"value\":0.5},\"fill_color\":{\"value\":\"lightgrey\"},\"left_units\":\"screen\",\"level\":\"overlay\",\"line_alpha\":{\"value\":1.0},\"line_color\":{\"value\":\"black\"},\"line_dash\":[4,4],\"line_width\":{\"value\":2},\"plot\":null,\"render_mode\":\"css\",\"right_units\":\"screen\",\"top_units\":\"screen\"},\"id\":\"1507\",\"type\":\"BoxAnnotation\"},{\"attributes\":{\"fill_alpha\":{\"value\":0.6},\"fill_color\":{\"value\":\"#1f77b4\"},\"line_color\":{\"value\":null},\"radius\":{\"units\":\"data\",\"value\":1},\"x\":{\"field\":\"x\"},\"y\":{\"field\":\"y\"}},\"id\":\"1526\",\"type\":\"Circle\"},{\"attributes\":{\"bottom_units\":\"screen\",\"fill_alpha\":{\"value\":0.5},\"fill_color\":{\"value\":\"lightgrey\"},\"left_units\":\"screen\",\"level\":\"overlay\",\"line_alpha\":{\"value\":1.0},\"line_color\":{\"value\":\"black\"},\"line_dash\":[4,4],\"line_width\":{\"value\":2},\"plot\":null,\"render_mode\":\"css\",\"right_units\":\"screen\",\"top_units\":\"screen\"},\"id\":\"1515\",\"type\":\"BoxAnnotation\"},{\"attributes\":{\"active_drag\":\"auto\",\"active_inspect\":\"auto\",\"active_multi\":null,\"active_scroll\":\"auto\",\"active_tap\":\"auto\",\"tools\":[{\"id\":\"1486\",\"type\":\"HoverTool\"},{\"id\":\"1487\",\"type\":\"CrosshairTool\"},{\"id\":\"1488\",\"type\":\"PanTool\"},{\"id\":\"1489\",\"type\":\"WheelZoomTool\"},{\"id\":\"1490\",\"type\":\"ZoomInTool\"},{\"id\":\"1491\",\"type\":\"ZoomOutTool\"},{\"id\":\"1492\",\"type\":\"BoxZoomTool\"},{\"id\":\"1493\",\"type\":\"UndoTool\"},{\"id\":\"1494\",\"type\":\"RedoTool\"},{\"id\":\"1495\",\"type\":\"ResetTool\"},{\"id\":\"1496\",\"type\":\"TapTool\"},{\"id\":\"1497\",\"type\":\"SaveTool\"},{\"id\":\"1498\",\"type\":\"BoxSelectTool\"},{\"id\":\"1499\",\"type\":\"PolySelectTool\"},{\"id\":\"1500\",\"type\":\"LassoSelectTool\"}]},\"id\":\"1501\",\"type\":\"Toolbar\"},{\"attributes\":{\"callback\":null,\"tooltips\":[[\"label\",\"@label\"],[\"(index, x, y)\",\"($index, $x, $y)\"]]},\"id\":\"1486\",\"type\":\"HoverTool\"},{\"attributes\":{\"fill_alpha\":{\"value\":0.5},\"fill_color\":{\"value\":\"lightgrey\"},\"level\":\"overlay\",\"line_alpha\":{\"value\":1.0},\"line_color\":{\"value\":\"black\"},\"line_dash\":[4,4],\"line_width\":{\"value\":2},\"plot\":null,\"xs_units\":\"screen\",\"ys_units\":\"screen\"},\"id\":\"1518\",\"type\":\"PolyAnnotation\"},{\"attributes\":{\"callback\":null},\"id\":\"1468\",\"type\":\"DataRange1d\"},{\"attributes\":{},\"id\":\"1487\",\"type\":\"CrosshairTool\"},{\"attributes\":{\"fill_alpha\":{\"value\":0.5},\"fill_color\":{\"value\":\"lightgrey\"},\"level\":\"overlay\",\"line_alpha\":{\"value\":1.0},\"line_color\":{\"value\":\"black\"},\"line_dash\":[4,4],\"line_width\":{\"value\":2},\"plot\":null,\"xs_units\":\"screen\",\"ys_units\":\"screen\"},\"id\":\"1521\",\"type\":\"PolyAnnotation\"},{\"attributes\":{},\"id\":\"1488\",\"type\":\"PanTool\"},{\"attributes\":{},\"id\":\"1489\",\"type\":\"WheelZoomTool\"},{\"attributes\":{\"formatter\":{\"id\":\"1565\",\"type\":\"BasicTickFormatter\"},\"plot\":{\"id\":\"1466\",\"subtype\":\"Figure\",\"type\":\"Plot\"},\"ticker\":{\"id\":\"1477\",\"type\":\"BasicTicker\"}},\"id\":\"1476\",\"type\":\"LinearAxis\"},{\"attributes\":{},\"id\":\"1490\",\"type\":\"ZoomInTool\"},{\"attributes\":{},\"id\":\"1565\",\"type\":\"BasicTickFormatter\"},{\"attributes\":{},\"id\":\"1491\",\"type\":\"ZoomOutTool\"},{\"attributes\":{\"plot\":null,\"text\":\"t-score Model\"},\"id\":\"1465\",\"type\":\"Title\"},{\"attributes\":{\"callback\":null,\"data\":{\"label\":[\"\\uac00\\ub824\\ub291\",\"\\uac00\\ub9ac\\ub291\",\"\\uac00\\uc11c\\ubd84\",\"\\uac00\\uc790\",\"\\uac00\\uc790\\uc721\",\"\\uac00\\uc790\\ud53c\",\"\\uac00\\uc790\\ud575\",\"\\uac00\\ud30c\\ucd08\",\"\\uac08\\uadfc\",\"\\uac08\\ubbf8\",\"\\uac08\\uc591\\uac04\",\"\\uac08\\ucd08\",\"\\uac08\\ud654\",\"\\uac10\\uad6c\\uae30\\uc790\",\"\\uac10\\uad6d\",\"\\uac10\\uad6d\\ud654\",\"\\uac10\\ub78c\",\"\\uac10\\uc1a1\",\"\\uac10\\uc1a1\\ud5a5\",\"\\uac10\\uc218\",\"\\uac10\\uc778\",\"\\uac10\\ucd08\",\"\\uac10\\ucd08\\uc808\",\"\\uac10\\ucd08\\ucd08\",\"\\uac15\\ub791\",\"\\uac15\\ubc18\\ud558\",\"\\uac15\\uc7a0\",\"\\uac15\\uc9c4\\ud5a5\",\"\\uac15\\ud45c\",\"\\uac15\\ud65c\",\"\\uac15\\ud669\",\"\\uac31\\ubbf8\",\"\\uac70\\uc2b9\\uc790\",\"\\uac74\\uac08\",\"\\uac74\\uac15\",\"\\uac74\\ubaa8\\uacfc\",\"\\uac74\\uc0b0\\uc57d\",\"\\uac74\\uc0dd\\uac15\",\"\\uac74\\uc12c\",\"\\uac74\\uc5f0\\uc9c0\",\"\\uac74\\uc728\",\"\\uac74\\uc9c0\\ud669\",\"\\uac74\\uce60\",\"\\uac80\\uc2e4\",\"\\uacac\\uc6b0\",\"\\uacac\\uc6b0\\uc790\",\"\\uacb0\\uba85\\uc790\",\"\\uacbd\\ubb35\",\"\\uacbd\\ubd84\",\"\\uacbd\\uc0bc\\ub989\",\"\\uacbd\\uc0c1\\uc0c1\\uc5fd\",\"\\uacc4\\uad00\\ud654\",\"\\uacc4\\ub0b4\\uae08\",\"\\uacc4\\ub780\",\"\\uacc4\\ubd80\\ud65c\\uc11d\",\"\\uacc4\\ube44\\uce58\",\"\\uacc4\\uc18c\",\"\\uacc4\\uc18c\\uc5fd\",\"\\uacc4\\uc2ec\",\"\\uacc4\\uc2ec\\ube48\\ub791\",\"\\uacc4\\uc790\",\"\\uacc4\\uc790\\ud669\",\"\\uacc4\\uc9c0\",\"\\uacc4\\ud53c\",\"\\uace0\\uacbd\",\"\\uace0\\uae08\",\"\\uace0\\uae38\\uacbd\",\"\\uace0\\ub7c9\\uac15\",\"\\uace0\\ub828\\uadfc\",\"\\uace0\\ub828\\uadfc\\ud53c\",\"\\uace0\\ub828\\uc790\",\"\\uace0\\ub828\\ud53c\",\"\\uace0\\ubc18\",\"\\uace0\\ubc31\\ubc18\",\"\\uace0\\ubcf8\",\"\\uace0\\uc0bc\",\"\\uace0\\uc815\\ub825\",\"\\uace1\\uc544\",\"\\uace1\\uc815\\ucd08\",\"\\uace4\\ud3ec\",\"\\uace8\\uc1c4\\ubcf4\",\"\\uacfc\\ub8e8\",\"\\uacfc\\ub8e8\\uadfc\",\"\\uacfc\\ub8e8\\uc2e4\",\"\\uacfc\\ub8e8\\uc778\",\"\\uacfc\\ub8e8\\uc790\",\"\\uacfc\\uccb4\",\"\\uacfd\\ud5a5\",\"\\uacfd\\ud5a5\\uc5fd\",\"\\uad00\\uacc4\",\"\\uad00\\ub3d9\\ud654\",\"\\uad00\\ubd84\",\"\\uad00\\uc911\",\"\\uad04\\ub8e8\\uadfc\",\"\\uad04\\ub8e8\\uc778\",\"\\uad11\\ucd9c\",\"\\uad34\\uac01\",\"\\uad34\\uac01\\uc790\",\"\\uad34\\uc790\",\"\\uad34\\uc9c0\",\"\\uad34\\ud654\",\"\\uad50\\uc774\",\"\\uad6c\\uae30\",\"\\uad6c\\uae30\\uc790\",\"\\uad6c\\ub9e5\",\"\\uad6c\\ub9e5\\uc218\",\"\\uad6c\\uc778\",\"\\uad6c\\uc778\\ubd84\",\"\\uad6c\\uc790\",\"\\uad6c\\ucc44\",\"\\uad6c\\ucc99\",\"\\uad6c\\ud310\",\"\\uad6d\\uc5bc\",\"\\uad6d\\ud654\",\"\\uad81\\uad81\",\"\\uad8c\\ubc31\",\"\\uadc0\\uac01\",\"\\uadc0\\uac11\",\"\\uadc0\\uad6c\",\"\\uadc0\\uc804\\uc6b0\",\"\\uadc0\\ud310\",\"\\uaddc\\uc790\",\"\\uade4\\uc5fd\",\"\\uade4\\ud53c\",\"\\uade4\\ud575\",\"\\uade4\\ud64d\",\"\\uae08\\ub839\\uc790\",\"\\uae08\\ubaa8\\uad6c\\ucc99\",\"\\uae08\\ubb38\\ub300\\ud669\",\"\\uae08\\ubc15\",\"\\uae08\\ubd88\\ucd08\",\"\\uae08\\uc575\\uc790\",\"\\uae08\\uc740\\ubc15\",\"\\uae08\\uc740\\ud654\",\"\\uae30\\ub9b0\\uac08\",\"\\uae38\\uacbd\",\"\\ub098\\ubbf8\",\"\\ub098\\ubbf8\\uc8fc\",\"\\ub098\\ubcf5\",\"\\ub098\\ubcf5\\uc790\",\"\\ub09c\\ubc1c\",\"\\ub0a0\\uacc4\",\"\\ub0a8\\uc131\",\"\\ub0a8\\uc5fd\",\"\\ub0a9\\ub2e4\",\"\\ub0ad\\ub3c5\",\"\\ub0b4\\ubcf5\\uc790\",\"\\ub178\\uac10\\uc11d\",\"\\ub178\\uadfc\",\"\\ub178\\ubd09\\ubc29\",\"\\ub178\\ud68c\",\"\\ub179\\uac01\",\"\\ub179\\uac01\\uad50\",\"\\ub179\\uac01\\uc0c1\",\"\\ub179\\ub450\",\"\\ub179\\ub450\\ubd84\",\"\\ub179\\ubc18\",\"\\ub179\\uc6a9\",\"\\ub1cc\\uc0ac\",\"\\ub1cc\\uc790\",\"\\ub1cc\\ud658\",\"\\ub204\\ub85c\",\"\\ub2e4\\uc5fd\",\"\\ub2e8\\uc0ac\",\"\\ub2e8\\uc0bc\",\"\\ub2e8\\ud5a5\",\"\\ub2f4\\ub450\\uc2dc\",\"\\ub2f4\\ubc18\",\"\\ub2f4\\uc131\",\"\\ub2f4\\uc8fd\\uc5fd\",\"\\ub2f9\\uadc0\",\"\\ub2f9\\uadc0\\ub450\",\"\\ub2f9\\uadc0\\ubbf8\",\"\\ub2f9\\uadc0\\uc2e0\",\"\\ub300\\uacc4\",\"\\ub300\\uadf9\",\"\\ub300\\ub450\",\"\\ub300\\ub450\\ud669\\uad8c\",\"\\ub300\\ub825\\uc790\",\"\\ub300\\ub9c8\\uc778\",\"\\ub300\\ub9e5\\uc5bc\",\"\\ub300\\ubcf5\\uc790\",\"\\ub300\\ubcf5\\ud53c\",\"\\ub300\\uc0b0\",\"\\ub300\\uc790\\uc11d\",\"\\ub300\\uc870\",\"\\ub300\\uc870\\uc721\",\"\\ub300\\ucc9c\\uc624\",\"\\ub300\\uccad\",\"\\ub300\\uccad\\uc5fd\",\"\\ub300\\ud48d\\uc790\",\"\\ub300\\ud669\",\"\\ub3c4\\uad50\",\"\\ub3c4\\ub178\",\"\\ub3c4\\uc778\",\"\\ub3c4\\uc9c0\",\"\\ub3c5\\ud65c\",\"\\ub3d9\\uacfc\\uc778\",\"\\ub3d9\\uaddc\\uc790\",\"\\ub3d9\\ub85d\",\"\\ub3d9\\ubcc0\",\"\\ub3d9\\uccad\",\"\\ub450\\ubc1c\",\"\\ub450\\uc2dc\",\"\\ub450\\uc911\",\"\\ub4f1\\uc2ec\\ucd08\",\"\\ub9c8\\ub450\\ub839\",\"\\ub9c8\\ub9b0\\uc790\",\"\\ub9c8\\ub9b0\\ud654\",\"\\ub9c8\\ubc1c\",\"\\ub9c8\\uc544\\ucd08\",\"\\ub9c8\\uc720\",\"\\ub9c8\\uc778\",\"\\ub9c8\\uc790\\uc778\",\"\\ub9c8\\uce58\\ud604\",\"\\ub9c8\\ud3b8\\ucd08\",\"\\ub9c8\\ud669\",\"\\ub9c8\\ud669\\uadfc\",\"\\ub9cc\\uc7a0\\uc0ac\",\"\\ub9cc\\uc7a0\\uc544\",\"\\ub9cc\\ud615\\uc790\",\"\\ub9dd\\uc18c\",\"\\ub9dd\\ucd08\",\"\\ub9e4\\ud654\\ub1cc\\uc790\",\"\\ub9e5\\ubb38\\ub3d9\",\"\\ub9e5\\uc544\",\"\\ub9e5\\uc5bc\",\"\\ub9f9\\ucda9\",\"\\uba74\\uacac\",\"\\uba74\\ud669\\uae30\",\"\\uba85\\uad50\",\"\\uba85\\ubc18\",\"\\uba85\\ubc31\\ubc18\",\"\\ubaa8\\uacfc\",\"\\ubaa8\\uadfc\",\"\\ubaa8\\ub824\",\"\\ubaa8\\uc815\\ud5a5\",\"\\ubaa8\\ud5a5\",\"\\ubaa9\\ub2e8\",\"\\ubaa9\\ub2e8\\ud53c\",\"\\ubaa9\\ubcc4\",\"\\ubaa9\\ubcc4\\uc790\",\"\\ubaa9\\uc774\",\"\\ubaa9\\uc801\",\"\\ubaa9\\ud1b5\",\"\\ubaa9\\ud5a5\",\"\\ubab0\\uc11d\\uc790\",\"\\ubab0\\uc57d\",\"\\ubabd\\uc11d\",\"\\ubb34\\uad81\",\"\\ubb34\\uc774\",\"\\ubb34\\ud68c\\uc8fc\",\"\\ubb38\\ud569\",\"\\ubbf8\\ucd08\",\"\\ubc00\\ubabd\\ud654\",\"\\ubc00\\ud0c0\\uc2b9\",\"\\ubc15\\uacc4\",\"\\ubc15\\uc18c\",\"\\ubc15\\ucd08\",\"\\ubc15\\ud558\",\"\\ubc15\\ud558\\uc5fd\",\"\\ubc15\\ud558\\uc720\",\"\\ubc18\\ubaa8\",\"\\ubc18\\ubb18\",\"\\ubc18\\uc11d\",\"\\ubc18\\ud558\",\"\\ubc18\\ud558\\uad6d\",\"\\ubc1c\\ud68c\",\"\\ubc29\\uae30\",\"\\ubc29\\ubd84\",\"\\ubc29\\ud48d\",\"\\ubc31\\uac15\",\"\\ubc31\\uac15\\uc7a0\",\"\\ubc31\\uac1c\\uc790\",\"\\ubc31\\uacac\\uc6b0\",\"\\ubc31\\uacfc\",\"\\ubc31\\uad50\\ud5a5\",\"\\ubc31\\uad6d\",\"\\ubc31\\uad6d\\ud654\",\"\\ubc31\\uaddc\\ud654\",\"\\ubc31\\uae09\",\"\\ubc31\\ub2e8\",\"\\ubc31\\ub2e8\\ud5a5\",\"\\ubc31\\ub450\\uad6c\",\"\\ubc31\\ub450\\uad6c\\uc778\",\"\\ubc31\\ub450\\uc639\",\"\\ubc31\\ub78d\",\"\\ubc31\\ub834\",\"\\ubc31\\uba74\",\"\\ubc31\\ubaa8\\uadfc\",\"\\ubc31\\ubb34\\uc774\",\"\\ubc31\\ubbf8\",\"\\ubc31\\ubc00\",\"\\ubc31\\ubc18\",\"\\ubc31\\ubcf5\\ub839\",\"\\ubc31\\ubcf5\\uc2e0\",\"\\ubc31\\ubd80\\uadfc\",\"\\ubc31\\ubd80\\uc790\",\"\\ubc31\\ube44\",\"\\ubc31\\ube48\\ub791\",\"\\ubc31\\uc0ac\\ub2f9\",\"\\ubc31\\uc11d\\uc601\",\"\\ubc31\\uc11d\\uc9c0\",\"\\ubc31\\uc120\\ud53c\",\"\\ubc31\\uc57d\\uc804\",\"\\ubc31\\uc5fc\",\"\\ubc31\\uc5fd\",\"\\ubc31\\uc6a9\\uace8\",\"\\ubc31\\uc790\\uc778\",\"\\ubc31\\uc791\",\"\\ubc31\\uc791\\uc57d\",\"\\ubc31\\uc815\\ud5a5\",\"\\ubc31\\uc9c0\",\"\\ubc31\\uc9c8\\ub824\",\"\\ubc31\\ucd08\\uc0c1\",\"\\ubc31\\ucd95\",\"\\ubc31\\ucd9c\",\"\\ubc31\\ud3b8\\ub450\",\"\\ubc31\\ud558\\uc218\\uc624\",\"\\ubc31\\ud569\",\"\\ubc31\\ud654\\uc0ac\",\"\\ubc31\\ud65c\\uc11d\",\"\\ubcc0\\ud5a5\\ubd80\",\"\\ubcc4\\uac11\",\"\\ubcf4\\uace8\\uc9c0\",\"\\ubcf5\\ub839\",\"\\ubcf5\\ub839\\ud53c\",\"\\ubcf5\\ub8e1\\uac04\",\"\\ubcf5\\ubd84\\uc790\",\"\\ubcf5\\uc2e0\",\"\\ubd09\\ubc00\",\"\\ubd09\\ubc29\",\"\\ubd09\\uc120\",\"\\ubd09\\uc544\\ubb34\",\"\\ubd09\\uc544\\ucd9c\",\"\\ubd09\\ucd9c\",\"\\ubd80\\uc6a9\\uc5fd\",\"\\ubd80\\uc790\",\"\\ubd80\\uc800\\ub9e4\",\"\\ubd80\\ud3c9\",\"\\ubd81\\uc138\\uc2e0\",\"\\ubd81\\uc2dc\\ud638\",\"\\ubd84\\uc0c1\",\"\\ubd84\\ucd08\",\"\\ubd88\\uc774\\ucd08\",\"\\ubd95\\uc0ac\",\"\\ube44\\ub9c8\\uc790\",\"\\ube44\\uc0c1\",\"\\ube44\\uc790\",\"\\ube44\\ud30c\\uc5fd\",\"\\ube44\\ud574\",\"\\ube48\\ub791\",\"\\ube59\\ud3b8\",\"\\uc0ac\\uac04\",\"\\uc0ac\\uacfc\",\"\\uc0ac\\uad70\\uc790\",\"\\uc0ac\\uad70\\uc790\\uc721\",\"\\uc0ac\\ub2f9\",\"\\uc0ac\\uc0bc\",\"\\uc0ac\\uc0c1\\uc790\",\"\\uc0ac\\uc6d0\\uc9c8\\ub824\",\"\\uc0ac\\uc778\",\"\\uc0ac\\ud0dc\",\"\\uc0ac\\ud1f4\",\"\\uc0ac\\ud568\\uc11d\",\"\\uc0ac\\ud5a5\",\"\\uc0b0\\ub450\\uadfc\",\"\\uc0b0\\uc0ac\",\"\\uc0b0\\uc0ac\\uc721\",\"\\uc0b0\\uc0ac\\uc790\",\"\\uc0b0\\uc11d\\ub958\\ud53c\",\"\\uc0b0\\uc218\\uc720\",\"\\uc0b0\\uc218\\uc720\\uc721\",\"\\uc0b0\\uc57d\",\"\\uc0b0\\uc790\\uace0\",\"\\uc0b0\\uc870\\uc778\",\"\\uc0b0\\uce58\",\"\\uc0b0\\uce58\\uc778\",\"\\uc0b0\\uce58\\uc790\",\"\\uc0b0\\uce58\\uc790\\uc778\",\"\\uc0bc\\ub0b4\",\"\\uc0bc\\ub989\",\"\\uc0bc\\ubaa9\\uc808\",\"\\uc0c1\\uae30\\uc0dd\",\"\\uc0c1\\ub959\",\"\\uc0c1\\ub9e4\",\"\\uc0c1\\ubc31\\ud53c\",\"\\uc0c1\\uc0b0\",\"\\uc0c1\\uc544\",\"\\uc0c1\\uc5fd\",\"\\uc0c1\\uc9c0\",\"\\uc0c1\\ud45c\\ucd08\",\"\\uc0c1\\ud53c\",\"\\uc0dd\\uac15\",\"\\uc0dd\\uac15\\uc999\",\"\\uc0dd\\uac15\\ud53c\",\"\\uc0dd\\uac74\\uc9c0\\ud669\",\"\\uc0dd\\ubc31\\ubc18\",\"\\uc0dd\\uc6a9\\ub1cc\",\"\\uc0dd\\uc720\\ud669\",\"\\uc0dd\\uc9c0\\ud669\",\"\\uc0dd\\ud669\\uae08\",\"\\uc11c\\uac01\",\"\\uc11c\\uac01\\uc124\",\"\\uc11c\\uc810\\uc790\",\"\\uc11d\\uacb0\\uba85\",\"\\uc11d\\uace0\",\"\\uc11d\\uace1\",\"\\uc11d\\ub0a8\\uc5fd\",\"\\uc11d\\ub828\\uc721\",\"\\uc11d\\ub828\\uc790\",\"\\uc11d\\ub958\\ud53c\",\"\\uc11d\\uc5f0\",\"\\uc11d\\uc5f0\\uc721\",\"\\uc11d\\uc6c5\\ud669\",\"\\uc11d\\uc704\",\"\\uc11d\\uc720\\ud669\",\"\\uc11d\\uc885\\uc720\",\"\\uc11d\\ucc3d\\ud3ec\",\"\\uc11d\\ud68c\",\"\\uc120\\uac01\",\"\\uc120\\ub839\\ube44\",\"\\uc120\\ubaa8\",\"\\uc120\\ubaa8\\uacfc\",\"\\uc120\\ubaa8\\uc0bc\",\"\\uc120\\ubcf5\\ud654\",\"\\uc120\\uc5b4\",\"\\uc120\\ud0dc\",\"\\uc120\\ud1f4\",\"\\uc124\\ub9ac\\uc999\",\"\\uc12c\\ub450\",\"\\uc12c\\uc218\",\"\\uc12c\\uc5ec\",\"\\uc138\\ub2e4\",\"\\uc138\\uc2e0\",\"\\uc18c\\uacbd\",\"\\uc18c\\uacc4\",\"\\uc18c\\ub1cc\",\"\\uc18c\\ub9e5\",\"\\uc18c\\ub9e5\\ub178\",\"\\uc18c\\ubaa9\",\"\\uc18c\\ubd84\",\"\\uc18c\\uc11d\",\"\\uc18c\\uc5fd\",\"\\uc18c\\uc790\",\"\\uc18c\\ucd08\",\"\\uc18c\\ud569\\uc720\",\"\\uc18c\\ud569\\ud5a5\",\"\\uc18c\\ud569\\ud5a5\\uc720\",\"\\uc18c\\ud68c\\ud5a5\",\"\\uc18d\\uac01\",\"\\uc18d\\ub2e8\",\"\\uc18d\\ubbf8\",\"\\uc18d\\uc218\\uc790\",\"\\uc1a1\\uc790\\uc778\",\"\\uc1a1\\uc808\",\"\\uc1a1\\uc9c0\",\"\\uc1a1\\ud654\",\"\\uc1c4\\uc591\",\"\\uc218\\ubd84\",\"\\uc218\\uc720\",\"\\uc218\\uc740\",\"\\uc218\\uc9c8\",\"\\uc218\\ud64d\\ud654\\uc790\",\"\\uc219\\uac74\\uc9c0\\ud669\",\"\\uc219\\uc560\",\"\\uc219\\uc9c0\\ud669\",\"\\uc2b9\\ub9c8\",\"\\uc2dc\\uc0c1\",\"\\uc2dc\\uccb4\",\"\\uc2dc\\ud638\",\"\\uc2dd\\uc218\\uc720\",\"\\uc2dd\\uc5fc\",\"\\uc2e0\\uace1\",\"\\uc2e0\\uad6d\",\"\\uc2e0\\uae09\\uc218\",\"\\uc2e0\\ube44\",\"\\uc2e0\\uc11d\",\"\\uc2e0\\uc774\",\"\\uc2e0\\uc774\\ud654\",\"\\uc544\\uad50\",\"\\uc544\\uad50\\uc8fc\",\"\\uc544\\ub2e4\",\"\\uc544\\ubb34\",\"\\uc544\\uc18c\",\"\\uc544\\uc704\",\"\\uc544\\uc870\",\"\\uc544\\ucd08\",\"\\uc544\\ucd9c\",\"\\uc545\\uc2e4\",\"\\uc548\\uc2dd\\ud5a5\",\"\\uc560\\uc5fd\",\"\\uc575\\uc18d\\uac01\",\"\\uc57c\\uba85\\uc0ac\",\"\\uc591\\uac04\",\"\\uc591\\uac15\",\"\\uc591\\uacbd\\uace8\",\"\\uc591\\uae30\\uc11d\",\"\\uc591\\ub450\\ucca8\",\"\\uc591\\uc0c1\\uc9c4\",\"\\uc591\\uc2e0\",\"\\uc591\\uc721\",\"\\uc5b4\\uad50\",\"\\uc5b4\\ubbf8\\uac01\",\"\\uc5ec\\ub85c\",\"\\uc5ec\\uc9c0\\ud575\",\"\\uc5f0\\uad50\",\"\\uc5f0\\uadfc\",\"\\uc5f0\\ubd84\",\"\\uc5f0\\uc11d\\uace0\",\"\\uc5f0\\uc608\",\"\\uc5f0\\uc721\",\"\\uc5f0\\uc790\",\"\\uc5f0\\uc790\\uc721\",\"\\uc5f0\\uc9c0\",\"\\uc5f0\\ud638\\uc0c9\",\"\\uc5f0\\ud654\\uc218\",\"\\uc5f0\\ud654\\uc608\",\"\\uc5fc\\ucd08\",\"\\uc5fc\\ud654\",\"\\uc601\\ub989\\ud5a5\",\"\\uc601\\uc0ac\",\"\\uc601\\uc591\\uac01\",\"\\uc624\\uac00\\ud53c\",\"\\uc624\\uacc4\\ub780\",\"\\uc624\\uacf5\",\"\\uc624\\ub450\",\"\\uc624\\ub839\\uc9c0\",\"\\uc624\\ub9e4\",\"\\uc624\\ub9e4\\uc721\",\"\\uc624\\ubbf8\",\"\\uc624\\ubbf8\\uc790\",\"\\uc624\\ubc30\\uc790\",\"\\uc624\\uc0ac\",\"\\uc624\\uc0ac\\uc721\",\"\\uc624\\uc11c\\uac01\",\"\\uc624\\uc218\\uc720\",\"\\uc624\\uc57d\",\"\\uc624\\uc801\\uc5b4\\uace8\",\"\\uc624\\ucd08\\uc0ac\",\"\\uc62c\\ub20c\\uc81c\",\"\\uc640\\uc6b0\",\"\\uc655\\ubd88\\ub958\\ud589\",\"\\uc678\\uac15\",\"\\uc694\\uc0ac\",\"\\uc6a9\\uace8\",\"\\uc6a9\\ub1cc\",\"\\uc6a9\\ub2f4\",\"\\uc6a9\\ub2f4\\ucd08\",\"\\uc6a9\\uc548\\uc721\",\"\\uc6a9\\uce58\",\"\\uc6b0\\uac01\\uc0c8\",\"\\uc6b0\\ub2f4\",\"\\uc6b0\\ub2f4\\ub0a8\\uc131\",\"\\uc6b0\\ubc29\\uc790\",\"\\uc6b0\\uc2ac\",\"\\uc6b0\\uc5ec\\ub7c9\",\"\\uc6b0\\uc720\",\"\\uc6b0\\uc721\",\"\\uc6b0\\uc808\",\"\\uc6b0\\uc999\",\"\\uc6b0\\ud669\",\"\\uc6b1\\ub9ac\\uc778\",\"\\uc6b4\\ubaa8\",\"\\uc6b8\\uae08\",\"\\uc6c5\\ub2f4\",\"\\uc6c5\\ud669\",\"\\uc6c5\\ud751\\ub450\",\"\\uc6d0\\uba85\\ubd84\",\"\\uc6d0\\uc0bc\",\"\\uc6d0\\uc9c0\",\"\\uc6d0\\uccad\",\"\\uc6d0\\ud654\",\"\\uc6d4\\uc11d\",\"\\uc704\\ub839\\uc120\",\"\\uc704\\uc720\",\"\\uc704\\ud53c\",\"\\uc720\\uae30\\ub178\",\"\\uc720\\ubc1c\\ud68c\",\"\\uc720\\ubc31\\ud53c\",\"\\uc720\\uc778\",\"\\uc720\\uc9c0\",\"\\uc720\\ud5a5\",\"\\uc720\\ud669\",\"\\uc721\\uacc4\",\"\\uc721\\ub450\\uad6c\",\"\\uc721\\uc885\\uc6a9\",\"\\uc740\\ubc15\",\"\\uc740\\uc2dc\\ud638\",\"\\uc740\\uc8fc\",\"\\uc74c\\uc591\\uacfd\",\"\\uc758\\uc774\\uc778\",\"\\uc774\\ub2f9\",\"\\uc774\\ubd84\",\"\\uc774\\uc5b4\",\"\\uc774\\uc5b4\\ub2f4\",\"\\uc775\\ubaa8\\ucd08\",\"\\uc775\\uc9c0\",\"\\uc775\\uc9c0\\uc778\",\"\\uc778\\ub1e8\",\"\\uc778\\ub3d9\",\"\\uc778\\ub3d9\\ub4f1\",\"\\uc778\\ub3d9\\ucd08\",\"\\uc778\\uc0bc\",\"\\uc778\\uc720\",\"\\uc778\\uc911\\ubc31\",\"\\uc778\\uc911\\ud669\",\"\\uc778\\uc9c4\",\"\\uc778\\uc9c4\\ud638\",\"\\uc790\\uac10\\ucd08\",\"\\uc790\\uae08\",\"\\uc790\\uae08\\ud53c\",\"\\uc790\\ub2e8\\ud5a5\",\"\\uc790\\ubc30\\ubd80\\ud3c9\",\"\\uc790\\uc0bc\",\"\\uc790\\uc11d\",\"\\uc790\\uc11d\\uc601\",\"\\uc790\\uc18c\",\"\\uc790\\uc18c\\uc5fd\",\"\\uc790\\uc18c\\uc790\",\"\\uc790\\uc5f0\\ub3d9\",\"\\uc790\\uc644\",\"\\uc790\\uc644\\uc6a9\",\"\\uc790\\uc6d0\",\"\\uc790\\uc704\\ud53c\",\"\\uc790\\ucd08\",\"\\uc790\\ucd08\\uc6a9\",\"\\uc790\\ucda9\",\"\\uc790\\ud558\\uac70\",\"\\uc790\\ud654\\uc9c0\\uc815\",\"\\uc790\\ud669\",\"\\uc791\\uc57d\",\"\\uc7a0\\uacac\",\"\\uc7a0\\ud1f4\",\"\\uc7a0\\ud1f4\\uc9c0\",\"\\uc7a5\\ub1cc\",\"\\uc800\\uac04\",\"\\uc800\\uace0\",\"\\uc800\\uadfc\",\"\\uc800\\uadfc\\ubc31\\ud53c\",\"\\uc800\\uadfc\\ud53c\",\"\\uc800\\ub2f4\",\"\\uc800\\ub2f4\\uc999\",\"\\uc800\\ub450\",\"\\uc800\\ub839\",\"\\uc800\\uc2e4\",\"\\uc800\\uc2e4\\uc790\",\"\\uc800\\uc2ec\",\"\\uc800\\uc544\\uc870\\uac01\",\"\\uc800\\uc694\\uc790\",\"\\uc800\\uc81c\",\"\\uc800\\uc81c\\uac11\",\"\\uc800\\uc9c0\",\"\\uc800\\ud604\\uc81c\",\"\\uc801\\ub450\",\"\\uc801\\ubcf5\\ub839\",\"\\uc801\\uc11d\\uc9c0\",\"\\uc801\\uc18c\\ub450\",\"\\uc801\\uc791\",\"\\uc801\\uc791\\uc57d\",\"\\uc801\\uc804\",\"\\uc801\\ud558\\uc218\\uc624\",\"\\uc804\\uac08\",\"\\uc804\\ub77c\",\"\\uc804\\ud638\",\"\\uc808\\ud328\\ubaa8\",\"\\uc815\\ub825\\uc790\",\"\\uc815\\ubd84\",\"\\uc815\\ud53c\",\"\\uc815\\ud5a5\",\"\\uc815\\ud5a5\\ud53c\",\"\\uc81c\\uc870\",\"\\uc870\\uac01\",\"\\uc870\\uac01\\uc778\",\"\\uc870\\uac01\\uc790\",\"\\uc870\\uad6c\\ub4f1\",\"\\uc870\\uae08\",\"\\uc870\\ub1cc\",\"\\uc870\\ub3cc\\ubb35\",\"\\uc870\\ubc18\",\"\\uc870\\uc720\\uadfc\",\"\\uc870\\ud611\",\"\\uc885\\ub824\\ud53c\",\"\\uc885\\uc6a9\",\"\\uc8fc\\uae08\",\"\\uc8fc\\uc0ac\",\"\\uc8fd\\ub825\",\"\\uc8fd\\uc5ec\",\"\\uc8fd\\uc5fd\",\"\\uc989\\uc5b4\",\"\\uc9c0\\uac01\",\"\\uc9c0\\uace8\\ud53c\",\"\\uc9c0\\ub8e1\",\"\\uc9c0\\ub9c8\",\"\\uc9c0\\ubaa8\",\"\\uc9c0\\ubd80\\uc790\",\"\\uc9c0\\uc2e4\",\"\\uc9c0\\uc720\",\"\\uc9c0\\uc8fc\",\"\\uc9c0\\ud669\",\"\\uc9c4\\uad50\",\"\\uc9c4\\uade4\\ud53c\",\"\\uc9c4\\ubbf8\",\"\\uc9c4\\uc0ac\",\"\\uc9c4\\uc560\\uc5fd\",\"\\uc9c4\\uc8fc\",\"\\uc9c4\\uc8fc\\ubaa8\",\"\\uc9c4\\ucc3d\\ubbf8\",\"\\uc9c4\\ud53c\",\"\\uc9c8\\ub824\\uc790\",\"\\ucc28\\uc804\\uc790\",\"\\ucc3d\\uc774\",\"\\ucc3d\\uc774\\uc790\",\"\\ucc3d\\uc774\\ucd08\",\"\\ucc3d\\ucd9c\",\"\\ucc3d\\ud3ec\",\"\\ucc99\\ucd09\\ud654\",\"\\ucc9c\\uac15\",\"\\ucc9c\\uac74\\uac15\",\"\\ucc9c\\uad81\",\"\\ucc9c\\uadc0\",\"\\ucc9c\\uadfc\",\"\\ucc9c\\ub0a8\\uc131\",\"\\ucc9c\\ub3d9\",\"\\ucc9c\\ub828\",\"\\ucc9c\\ub828\\uc721\",\"\\ucc9c\\ub828\\uc790\",\"\\ucc9c\\ub839\\uac1c\",\"\\ucc9c\\ub9c8\",\"\\ucc9c\\ubb38\\ub3d9\",\"\\ucc9c\\uc0b0\\uac11\",\"\\ucc9c\\uc120\\ub4f1\",\"\\ucc9c\\uc18d\\ub2e8\",\"\\ucc9c\\uc624\",\"\\ucc9c\\uc624\\ub450\",\"\\ucc9c\\uc624\\ucca8\",\"\\ucc9c\\uc6b0\\uc2ac\",\"\\ucc9c\\uc6c5\",\"\\ucc9c\\uc7a5\\uc790\",\"\\ucc9c\\ucd08\",\"\\ucc9c\\ucd08\\uadfc\",\"\\ucc9c\\ucd95\\ud669\",\"\\ucc9c\\ud0dc\\uc624\\uc57d\",\"\\ucc9c\\ud328\\ubaa8\",\"\\ucc9c\\ud654\\ubd84\",\"\\ucc9c\\ud669\\ub828\",\"\\ucca0\\ubd84\",\"\\ucca0\\uc724\\ubd84\",\"\\ucca8\\uc815\\ub825\",\"\\uccad\\uade4\\ud53c\",\"\\uccad\\ub300\",\"\\uccad\\ubaa9\\ud5a5\",\"\\uccad\\ubabd\\uc11d\",\"\\uccad\\ubc18\",\"\\uccad\\uc0c1\\uc790\",\"\\uccad\\uc0c1\\ud53c\",\"\\uccad\\uc591\\ub2f4\",\"\\uccad\\uc5b4\\ub2f4\",\"\\uccad\\uc5fc\",\"\\uccad\\uc720\",\"\\uccad\\uc8fc\",\"\\uccad\\uc8fd\\uc5ec\",\"\\uccad\\ud53c\",\"\\uccad\\ud638\",\"\\ucd08\\uacb0\\uba85\",\"\\ucd08\\uacfc\",\"\\ucd08\\uacfc\\uc778\",\"\\ucd08\\ub450\\uad6c\",\"\\ucd08\\ubaa9\",\"\\ucd08\\uc11d\",\"\\ucd08\\uc624\",\"\\ucd08\\uc6a9\\ub2f4\",\"\\ucd09\\ucd08\",\"\\ucd1d\\ubc31\",\"\\ucd94\\uc11d\",\"\\ucd95\\uc0ac\",\"\\ucd95\\uc0ac\\uc778\",\"\\ucd98\\uadfc\\ubc31\\ud53c\",\"\\ucda9\\uc704\\uc790\",\"\\uce21\\ubc31\",\"\\uce21\\ubc31\\uc5fd\",\"\\uce58\\uc790\",\"\\uce58\\uc790\\uc778\",\"\\uce68\\uc0ac\",\"\\uce68\\ud5a5\",\"\\ud0dc\\uc74c\\ud604\\uc815\\uc11d\",\"\\ud0dd\\ub780\",\"\\ud0dd\\ub780\\uc5fd\",\"\\ud0dd\\uc0ac\",\"\\ud1a0\\uacfc\\uadfc\",\"\\ud1a0\\uad6c\",\"\\ud1a0\\ubaa9\\ud5a5\",\"\\ud1a0\\ubcf5\\ub839\",\"\\ud1a0\\ubd09\\ubc29\",\"\\ud1a0\\uc0ac\\uc790\",\"\\ud1b5\\ucd08\",\"\\ud30c\\uace0\\uc9c0\",\"\\ud30c\\uadf9\",\"\\ud30c\\uadf9\\uc721\",\"\\ud30c\\uadf9\\ucc9c\",\"\\ud30c\\ub450\",\"\\ud30c\\ub450\\uc0c1\",\"\\ud30c\\ub450\\uc721\",\"\\ud30c\\ub450\\uc778\",\"\\ud310\\ub78c\\uadfc\",\"\\ud314\\uac01\\ud68c\\ud5a5\",\"\\ud328\\ubaa8\",\"\\ud328\\uc7a5\",\"\\ud328\\uc885\",\"\\ud3b8\\uae08\",\"\\ud3b8\\ub1cc\",\"\\ud3b8\\ub450\",\"\\ud3b8\\ubcf5\",\"\\ud3b8\\uc790\\uac15\\ud669\",\"\\ud3b8\\ucd95\",\"\\ud3ec\\uacf5\\uc601\",\"\\ud3ec\\ubd80\\uc790\",\"\\ud3ec\\ud669\",\"\\ud48d\\ud654\\uc11d\\ud68c\",\"\\ud48d\\ud654\\ucd08\",\"\\ud544\\ubc1c\",\"\\ud544\\uc9d5\\uac00\",\"\\ud558\\uace0\\ucd08\",\"\\ud558\\ub9c8\",\"\\ud558\\uc218\\uc624\",\"\\ud558\\uc5fd\",\"\\ud559\\uc2ac\",\"\\ud55c\\ub828\\ucd08\",\"\\ud55c\\uc218\\uc11d\",\"\\ud55c\\uc2dd\\uba74\",\"\\ud569\\uac1c\",\"\\ud569\\ubd84\",\"\\ud569\\ud658\\ud53c\",\"\\ud574\\uae08\\uc0ac\",\"\\ud574\\ub300\",\"\\ud574\\ub3d9\\ud53c\",\"\\ud574\\ubc31\",\"\\ud574\\ubd84\",\"\\ud574\\uc11d\",\"\\ud574\\uc1a1\\uc790\",\"\\ud574\\uc544\\ub2e4\",\"\\ud574\\uc870\",\"\\ud574\\ud45c\\uc18c\",\"\\ud574\\ud569\",\"\\ud574\\ud569\\ubd84\",\"\\ud589\\uc778\",\"\\ud5a5\\ubc31\\uc9c0\",\"\\ud5a5\\ubd80\",\"\\ud5a5\\ubd80\\ubbf8\",\"\\ud5a5\\ubd80\\uc790\",\"\\ud5a5\\uc2dc\",\"\\ud5a5\\uc5ec\",\"\\ud5a5\\uc720\",\"\\ud604\\uba85\\ubd84\",\"\\ud604\\uc0bc\",\"\\ud604\\ud638\\uc0c9\",\"\\ud608\\uac08\",\"\\ud608\\uc5ec\",\"\\ud615\\uac1c\",\"\\ud615\\uac1c\\uc218\",\"\\ud615\\uc0bc\\ub989\",\"\\ud638\\uacbd\\uace8\",\"\\ud638\\uace8\",\"\\ud638\\ub3c4\",\"\\ud638\\ub3c4\\uc721\",\"\\ud638\\ub3c4\\uc778\",\"\\ud638\\ub3d9\\ub8e8\",\"\\ud638\\ub85c\\ud30c\",\"\\ud638\\ub9c8\",\"\\ud638\\ub9c8\\uc790\",\"\\ud638\\ubc15\",\"\\ud638\\ubc18\\uc720\\uc0ac\",\"\\ud638\\ubd84\",\"\\ud638\\uc7a5\\uadfc\",\"\\ud638\\ucd08\",\"\\ud638\\ud669\\ub828\",\"\\ud64d\\uad6d\",\"\\ud64d\\ub0b4\\uc18c\",\"\\ud64d\\ub450\",\"\\ud64d\\uc544\\ub300\\uadf9\",\"\\ud64d\\uc870\",\"\\ud64d\\ucd08\",\"\\ud64d\\ud654\",\"\\ud654\\ub9c8\\uc778\",\"\\ud654\\uc608\\uc11d\",\"\\ud654\\ud53c\",\"\\ud65c\\uc11d\",\"\\ud669\\uacfc\\ub8e8\",\"\\ud669\\uad6c\",\"\\ud669\\uae08\",\"\\ud669\\uae30\",\"\\ud669\\ub2e8\",\"\\ud669\\ub78d\",\"\\ud669\\ub828\",\"\\ud669\\ubc31\",\"\\ud669\\ubc31\\ud53c\",\"\\ud669\\ubcbd\",\"\\ud669\\ubcbd\\ud53c\",\"\\ud669\\uc57d\\uc790\",\"\\ud669\\uc815\",\"\\ud669\\ud5a5\",\"\\ud68c\\uc0b0\\uc57d\",\"\\ud68c\\uc0dd\\uc9c0\\ud669\",\"\\ud68c\\uc219\\uc9c0\\ud669\",\"\\ud68c\\ud5a5\",\"\\ud6c4\\ubc15\",\"\\ud751\\uacac\\uc6b0\",\"\\ud751\\uacac\\uc6b0\\uc790\",\"\\ud751\\uad6c\\ucc99\",\"\\ud751\\ub450\",\"\\ud751\\ubd80\\uc790\",\"\\ud751\\uc11d\",\"\\ud751\\uc5f0\",\"\\ud751\\ucd95\",\"\\ud76c\\ub834\",\"\\ud76c\\ub834\\ucd08\"],\"x\":{\"__ndarray__\":\"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\",\"dtype\":\"float32\",\"shape\":[916]},\"y\":{\"__ndarray__\":\"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\",\"dtype\":\"float32\",\"shape\":[916]}},\"selected\":{\"id\":\"1568\",\"type\":\"Selection\"},\"selection_policy\":{\"id\":\"1569\",\"type\":\"UnionRenderers\"}},\"id\":\"1464\",\"type\":\"ColumnDataSource\"},{\"attributes\":{},\"id\":\"1567\",\"type\":\"BasicTickFormatter\"},{\"attributes\":{\"overlay\":{\"id\":\"1507\",\"type\":\"BoxAnnotation\"}},\"id\":\"1492\",\"type\":\"BoxZoomTool\"},{\"attributes\":{},\"id\":\"1494\",\"type\":\"RedoTool\"},{\"attributes\":{},\"id\":\"1477\",\"type\":\"BasicTicker\"},{\"attributes\":{},\"id\":\"1495\",\"type\":\"ResetTool\"},{\"attributes\":{\"callback\":null},\"id\":\"1496\",\"type\":\"TapTool\"}],\"root_ids\":[\"1466\"]},\"title\":\"Bokeh Application\",\"version\":\"1.0.4\"}};\n",
       "  var render_items = [{\"docid\":\"84a56f2b-b088-41e1-9949-065bfd417e27\",\"roots\":{\"1466\":\"d021cf1d-a468-4571-960a-f3c6cce56768\"}}];\n",
       "  root.Bokeh.embed.embed_items_notebook(docs_json, render_items);\n",
       "\n",
       "  }\n",
       "  if (root.Bokeh !== undefined) {\n",
       "    embed_document(root);\n",
       "  } else {\n",
       "    var attempts = 0;\n",
       "    var timer = setInterval(function(root) {\n",
       "      if (root.Bokeh !== undefined) {\n",
       "        embed_document(root);\n",
       "        clearInterval(timer);\n",
       "      }\n",
       "      attempts++;\n",
       "      if (attempts > 100) {\n",
       "        console.log(\"Bokeh: ERROR: Unable to run BokehJS code because BokehJS library is missing\");\n",
       "        clearInterval(timer);\n",
       "      }\n",
       "    }, 10, root)\n",
       "  }\n",
       "})(window);"
      ],
      "application/vnd.bokehjs_exec.v0+json": ""
     },
     "metadata": {
      "application/vnd.bokehjs_exec.v0+json": {
       "id": "1466"
      }
     },
     "output_type": "display_data"
    }
   ],
   "source": [
    "show( tsne_plot( transformed_tscore, tf_feature_names, \"t-score Model\" ) )"
   ]
  },
  {
   "cell_type": "markdown",
   "metadata": {},
   "source": [
    "## 결론\n"
   ]
  },
  {
   "cell_type": "code",
   "execution_count": null,
   "metadata": {},
   "outputs": [],
   "source": []
  }
 ],
 "metadata": {
  "kernelspec": {
   "display_name": "Python 3",
   "language": "python",
   "name": "python3"
  },
  "language_info": {
   "codemirror_mode": {
    "name": "ipython",
    "version": 3
   },
   "file_extension": ".py",
   "mimetype": "text/x-python",
   "name": "python",
   "nbconvert_exporter": "python",
   "pygments_lexer": "ipython3",
   "version": "3.6.6"
  }
 },
 "nbformat": 4,
 "nbformat_minor": 2
}
