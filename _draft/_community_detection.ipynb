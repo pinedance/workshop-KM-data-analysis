{
 "cells": [
  {
   "cell_type": "code",
   "execution_count": null,
   "metadata": {},
   "outputs": [],
   "source": [
    "C = np.loadtxt( output_file_path, dtype=np.int, comments='#', delimiter=\"\\t\")\n",
    "\n",
    "n, _ = C.shape\n",
    "\n",
    "dissimilarities = np.max( C ) - C\n",
    "\n",
    "dg = np.zeros( n )\n",
    "np.fill_diagonal( dissimilarities, dg )\n",
    "print( dissimilarities )"
   ]
  },
  {
   "cell_type": "markdown",
   "metadata": {},
   "source": [
    "## Libs"
   ]
  },
  {
   "cell_type": "code",
   "execution_count": null,
   "metadata": {},
   "outputs": [],
   "source": [
    "from sklearn.preprocessing import scale\n",
    "\n",
    "def re_scale( arr, zoom=1, bottom=2):\n",
    "    arr_scaled = scale( herb_freq, axis=0, with_mean=True, with_std=True, copy=True )\n",
    "    arr_zoomed = arr_scaled * zoom\n",
    "    arr_min = np.min( arr_zoomed )\n",
    "    add_mount = bottom - arr_min\n",
    "    return arr_zoomed + add_mount"
   ]
  },
  {
   "cell_type": "code",
   "execution_count": null,
   "metadata": {},
   "outputs": [],
   "source": [
    "from bokeh.plotting import figure, show, output_notebook, ColumnDataSource\n",
    "\n",
    "def scatter_plot( embedded, title=\"\", size=4):\n",
    "    lst = embedded.tolist()\n",
    "    x, y = zip( *lst )\n",
    "    \n",
    "    p = figure( plot_width=600, plot_height=600, title=title )\n",
    "    p.circle(x, y, size=size, color=\"navy\", alpha=0.5 )\n",
    "\n",
    "    return p\n",
    "\n",
    "def scatter_plot_tooltip( embedded, size, labels=\"\", title=\"\"  ):\n",
    "    lst = embedded.tolist()\n",
    "    x, y = zip( *lst )\n",
    "    \n",
    "    source = ColumnDataSource(data=dict( x=x, y=y, size=size, label=labels ))\n",
    "\n",
    "    TOOLTIPS = [\n",
    "        (\"label\", \"@label\"),\n",
    "        (\"index\", \"$index\"),\n",
    "        (\"(x,y,size)\", \"($x, $y,@size)\"),\n",
    "    ]\n",
    "    \n",
    "    p = figure( plot_width=600, plot_height=600, title=title, tooltips=TOOLTIPS )\n",
    "    p.circle('x', 'y', size='size', color=\"navy\", alpha=0.5, source=source)\n",
    "\n",
    "    return p\n"
   ]
  }
 ],
 "metadata": {
  "kernelspec": {
   "display_name": "Python 3",
   "language": "python",
   "name": "python3"
  },
  "language_info": {
   "codemirror_mode": {
    "name": "ipython",
    "version": 3
   },
   "file_extension": ".py",
   "mimetype": "text/x-python",
   "name": "python",
   "nbconvert_exporter": "python",
   "pygments_lexer": "ipython3",
   "version": "3.6.6"
  }
 },
 "nbformat": 4,
 "nbformat_minor": 2
}
